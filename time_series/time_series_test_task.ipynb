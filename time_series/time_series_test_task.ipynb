{
 "cells": [
  {
   "cell_type": "code",
   "execution_count": 1,
   "id": "3f5e0c1c",
   "metadata": {},
   "outputs": [],
   "source": [
    "import optuna\n",
    "import requests\n",
    "\n",
    "import numpy as np\n",
    "import scipy.stats\n",
    "import pandas as pd\n",
    "import seaborn as sns\n",
    "from datetime import date\n",
    "import matplotlib.pyplot as plt\n",
    "\n",
    "from itertools import product\n",
    "from tqdm.notebook import tqdm\n",
    "from lightgbm import LGBMRegressor\n",
    "from sklearn.metrics import mean_squared_error\n",
    "from sklearn.preprocessing import StandardScaler\n",
    "from sklearn.ensemble import RandomForestRegressor\n",
    "from sklearn.model_selection import TimeSeriesSplit\n",
    "from sklearn.linear_model import LinearRegression, LassoCV, RidgeCV\n",
    "\n",
    "\n",
    "%matplotlib inline"
   ]
  },
  {
   "cell_type": "code",
   "execution_count": 2,
   "id": "e3c8ff93",
   "metadata": {},
   "outputs": [],
   "source": [
    "import warnings\n",
    "\n",
    "warnings.filterwarnings(\"ignore\")"
   ]
  },
  {
   "cell_type": "markdown",
   "id": "7c5334ee",
   "metadata": {},
   "source": [
    "### Если у вас нет в директории, откуда запускается ноутбук файла holiday.pkl или вы не хотите туда его помещать, то необходимо раскоментить ячейки в разделе \"Генерация новых признаков\", тогда эта же колонка сгенерируется с помощью данных из интернета, pkl файл создан для быстродействия."
   ]
  },
  {
   "cell_type": "markdown",
   "id": "48bfeaa2",
   "metadata": {},
   "source": [
    "__Осмотр данных__"
   ]
  },
  {
   "cell_type": "code",
   "execution_count": 3,
   "id": "7d3ce1c2",
   "metadata": {},
   "outputs": [],
   "source": [
    "df = pd.read_excel('временной ряд.xlsx', header=None, names=['time', 'production'])"
   ]
  },
  {
   "cell_type": "code",
   "execution_count": 4,
   "id": "5547ebc8",
   "metadata": {},
   "outputs": [
    {
     "data": {
      "text/html": [
       "<div>\n",
       "<style scoped>\n",
       "    .dataframe tbody tr th:only-of-type {\n",
       "        vertical-align: middle;\n",
       "    }\n",
       "\n",
       "    .dataframe tbody tr th {\n",
       "        vertical-align: top;\n",
       "    }\n",
       "\n",
       "    .dataframe thead th {\n",
       "        text-align: right;\n",
       "    }\n",
       "</style>\n",
       "<table border=\"1\" class=\"dataframe\">\n",
       "  <thead>\n",
       "    <tr style=\"text-align: right;\">\n",
       "      <th></th>\n",
       "      <th>time</th>\n",
       "      <th>production</th>\n",
       "    </tr>\n",
       "  </thead>\n",
       "  <tbody>\n",
       "    <tr>\n",
       "      <th>0</th>\n",
       "      <td>2019-08-02</td>\n",
       "      <td>7</td>\n",
       "    </tr>\n",
       "    <tr>\n",
       "      <th>1</th>\n",
       "      <td>2019-08-05</td>\n",
       "      <td>1</td>\n",
       "    </tr>\n",
       "    <tr>\n",
       "      <th>2</th>\n",
       "      <td>2019-08-07</td>\n",
       "      <td>3</td>\n",
       "    </tr>\n",
       "    <tr>\n",
       "      <th>3</th>\n",
       "      <td>2019-08-08</td>\n",
       "      <td>4</td>\n",
       "    </tr>\n",
       "    <tr>\n",
       "      <th>4</th>\n",
       "      <td>2019-08-09</td>\n",
       "      <td>2</td>\n",
       "    </tr>\n",
       "    <tr>\n",
       "      <th>...</th>\n",
       "      <td>...</td>\n",
       "      <td>...</td>\n",
       "    </tr>\n",
       "    <tr>\n",
       "      <th>820</th>\n",
       "      <td>2022-06-10</td>\n",
       "      <td>3678</td>\n",
       "    </tr>\n",
       "    <tr>\n",
       "      <th>821</th>\n",
       "      <td>2022-06-11</td>\n",
       "      <td>342</td>\n",
       "    </tr>\n",
       "    <tr>\n",
       "      <th>822</th>\n",
       "      <td>2022-06-12</td>\n",
       "      <td>196</td>\n",
       "    </tr>\n",
       "    <tr>\n",
       "      <th>823</th>\n",
       "      <td>2022-06-13</td>\n",
       "      <td>286</td>\n",
       "    </tr>\n",
       "    <tr>\n",
       "      <th>824</th>\n",
       "      <td>2022-06-14</td>\n",
       "      <td>3562</td>\n",
       "    </tr>\n",
       "  </tbody>\n",
       "</table>\n",
       "<p>825 rows × 2 columns</p>\n",
       "</div>"
      ],
      "text/plain": [
       "          time  production\n",
       "0   2019-08-02           7\n",
       "1   2019-08-05           1\n",
       "2   2019-08-07           3\n",
       "3   2019-08-08           4\n",
       "4   2019-08-09           2\n",
       "..         ...         ...\n",
       "820 2022-06-10        3678\n",
       "821 2022-06-11         342\n",
       "822 2022-06-12         196\n",
       "823 2022-06-13         286\n",
       "824 2022-06-14        3562\n",
       "\n",
       "[825 rows x 2 columns]"
      ]
     },
     "execution_count": 4,
     "metadata": {},
     "output_type": "execute_result"
    }
   ],
   "source": [
    "df"
   ]
  },
  {
   "cell_type": "code",
   "execution_count": 5,
   "id": "9bdce924",
   "metadata": {},
   "outputs": [
    {
     "data": {
      "text/plain": [
       "time          datetime64[ns]\n",
       "production             int64\n",
       "dtype: object"
      ]
     },
     "execution_count": 5,
     "metadata": {},
     "output_type": "execute_result"
    }
   ],
   "source": [
    "# проверим типы данных\n",
    "\n",
    "df.dtypes"
   ]
  },
  {
   "cell_type": "code",
   "execution_count": 6,
   "id": "7fb28f72",
   "metadata": {},
   "outputs": [
    {
     "data": {
      "image/png": "[encoded data removed]",
      "text/plain": [
       "<Figure size 432x288 with 1 Axes>"
      ]
     },
     "metadata": {
      "needs_background": "light"
     },
     "output_type": "display_data"
    }
   ],
   "source": [
    "plot = sns.lineplot(x=\"time\", y=\"production\", data=df)\n",
    "\n",
    "plot.tick_params(rotation=45)\n",
    "\n",
    "plt.show;"
   ]
  },
  {
   "cell_type": "markdown",
   "id": "0923fdb6",
   "metadata": {},
   "source": [
    "_Обратим внимание, что у нас произошел скачок производства с определенной даты (2021-07), также у нас имеются\n",
    "два пика раз с периодичностью в полгода, так как у нас стоит задача краткосрочного предсказания, то мы можем\n",
    "эти данные отбросить. Перед этим подробнее посмотрим на эти данные, чтобы удостовериться в нашем предположении._"
   ]
  },
  {
   "cell_type": "code",
   "execution_count": 7,
   "id": "d7015453",
   "metadata": {},
   "outputs": [
    {
     "data": {
      "image/png": "[encoded data removed]",
      "text/plain": [
       "<Figure size 432x288 with 1 Axes>"
      ]
     },
     "metadata": {
      "needs_background": "light"
     },
     "output_type": "display_data"
    }
   ],
   "source": [
    "plot = sns.lineplot(x=\"time\", y=\"production\", data=df)\n",
    "\n",
    "plot.tick_params(rotation=45)\n",
    "plot.set_xlim([pd.to_datetime('2021-06-28'), pd.to_datetime('2022-06-14')])\n",
    "\n",
    "plt.show;"
   ]
  },
  {
   "cell_type": "markdown",
   "id": "be49f79b",
   "metadata": {},
   "source": [
    "_Как видим в предыдущем году резкий скачок производства наблюдался в 2021-07 и 2021-12, продолжался около месяца, делать предсказание, что данный скачок произойдёт повторно в ближайшую неделю я смысла не вижу, поэтому в связи с отсутствием дополнительных данных отбросим эти аномалии и посмотрим на получившийся временной ряд, по которому будем строить модель_"
   ]
  },
  {
   "cell_type": "code",
   "execution_count": 8,
   "id": "21e085bb",
   "metadata": {},
   "outputs": [
    {
     "data": {
      "image/png": "[encoded data removed]",
      "text/plain": [
       "<Figure size 432x288 with 1 Axes>"
      ]
     },
     "metadata": {
      "needs_background": "light"
     },
     "output_type": "display_data"
    },
    {
     "data": {
      "text/plain": [
       "<Figure size 1008x432 with 0 Axes>"
      ]
     },
     "metadata": {},
     "output_type": "display_data"
    }
   ],
   "source": [
    "plot = sns.lineplot(x=\"time\", y=\"production\", data=df)\n",
    "\n",
    "plt.figure(figsize=(14, 6))\n",
    "plot.tick_params(rotation=45)\n",
    "plot.set_xlim([pd.to_datetime('2022-01-08'), pd.to_datetime('2022-06-14')])\n",
    "plot.set_ylim([0, 4000])\n",
    "\n",
    "\n",
    "plt.show;"
   ]
  },
  {
   "cell_type": "code",
   "execution_count": 9,
   "id": "1230b267",
   "metadata": {},
   "outputs": [
    {
     "data": {
      "text/html": [
       "<div>\n",
       "<style scoped>\n",
       "    .dataframe tbody tr th:only-of-type {\n",
       "        vertical-align: middle;\n",
       "    }\n",
       "\n",
       "    .dataframe tbody tr th {\n",
       "        vertical-align: top;\n",
       "    }\n",
       "\n",
       "    .dataframe thead th {\n",
       "        text-align: right;\n",
       "    }\n",
       "</style>\n",
       "<table border=\"1\" class=\"dataframe\">\n",
       "  <thead>\n",
       "    <tr style=\"text-align: right;\">\n",
       "      <th></th>\n",
       "      <th>time</th>\n",
       "      <th>production</th>\n",
       "    </tr>\n",
       "  </thead>\n",
       "  <tbody>\n",
       "    <tr>\n",
       "      <th>667</th>\n",
       "      <td>2022-01-08</td>\n",
       "      <td>264</td>\n",
       "    </tr>\n",
       "  </tbody>\n",
       "</table>\n",
       "</div>"
      ],
      "text/plain": [
       "          time  production\n",
       "667 2022-01-08         264"
      ]
     },
     "execution_count": 9,
     "metadata": {},
     "output_type": "execute_result"
    }
   ],
   "source": [
    "df.loc[df['time'] == '2022-01-08']"
   ]
  },
  {
   "cell_type": "code",
   "execution_count": 10,
   "id": "29fb2fb2",
   "metadata": {},
   "outputs": [],
   "source": [
    "df_new = df.iloc[667:]"
   ]
  },
  {
   "cell_type": "code",
   "execution_count": 11,
   "id": "9feb9f06",
   "metadata": {},
   "outputs": [
    {
     "data": {
      "text/html": [
       "<div>\n",
       "<style scoped>\n",
       "    .dataframe tbody tr th:only-of-type {\n",
       "        vertical-align: middle;\n",
       "    }\n",
       "\n",
       "    .dataframe tbody tr th {\n",
       "        vertical-align: top;\n",
       "    }\n",
       "\n",
       "    .dataframe thead th {\n",
       "        text-align: right;\n",
       "    }\n",
       "</style>\n",
       "<table border=\"1\" class=\"dataframe\">\n",
       "  <thead>\n",
       "    <tr style=\"text-align: right;\">\n",
       "      <th></th>\n",
       "      <th>time</th>\n",
       "      <th>production</th>\n",
       "    </tr>\n",
       "  </thead>\n",
       "  <tbody>\n",
       "    <tr>\n",
       "      <th>667</th>\n",
       "      <td>2022-01-08</td>\n",
       "      <td>264</td>\n",
       "    </tr>\n",
       "    <tr>\n",
       "      <th>668</th>\n",
       "      <td>2022-01-09</td>\n",
       "      <td>186</td>\n",
       "    </tr>\n",
       "    <tr>\n",
       "      <th>669</th>\n",
       "      <td>2022-01-10</td>\n",
       "      <td>1716</td>\n",
       "    </tr>\n",
       "    <tr>\n",
       "      <th>670</th>\n",
       "      <td>2022-01-11</td>\n",
       "      <td>2698</td>\n",
       "    </tr>\n",
       "    <tr>\n",
       "      <th>671</th>\n",
       "      <td>2022-01-12</td>\n",
       "      <td>3333</td>\n",
       "    </tr>\n",
       "    <tr>\n",
       "      <th>...</th>\n",
       "      <td>...</td>\n",
       "      <td>...</td>\n",
       "    </tr>\n",
       "    <tr>\n",
       "      <th>820</th>\n",
       "      <td>2022-06-10</td>\n",
       "      <td>3678</td>\n",
       "    </tr>\n",
       "    <tr>\n",
       "      <th>821</th>\n",
       "      <td>2022-06-11</td>\n",
       "      <td>342</td>\n",
       "    </tr>\n",
       "    <tr>\n",
       "      <th>822</th>\n",
       "      <td>2022-06-12</td>\n",
       "      <td>196</td>\n",
       "    </tr>\n",
       "    <tr>\n",
       "      <th>823</th>\n",
       "      <td>2022-06-13</td>\n",
       "      <td>286</td>\n",
       "    </tr>\n",
       "    <tr>\n",
       "      <th>824</th>\n",
       "      <td>2022-06-14</td>\n",
       "      <td>3562</td>\n",
       "    </tr>\n",
       "  </tbody>\n",
       "</table>\n",
       "<p>158 rows × 2 columns</p>\n",
       "</div>"
      ],
      "text/plain": [
       "          time  production\n",
       "667 2022-01-08         264\n",
       "668 2022-01-09         186\n",
       "669 2022-01-10        1716\n",
       "670 2022-01-11        2698\n",
       "671 2022-01-12        3333\n",
       "..         ...         ...\n",
       "820 2022-06-10        3678\n",
       "821 2022-06-11         342\n",
       "822 2022-06-12         196\n",
       "823 2022-06-13         286\n",
       "824 2022-06-14        3562\n",
       "\n",
       "[158 rows x 2 columns]"
      ]
     },
     "execution_count": 11,
     "metadata": {},
     "output_type": "execute_result"
    }
   ],
   "source": [
    "df_new"
   ]
  },
  {
   "cell_type": "markdown",
   "id": "ccfdba6d",
   "metadata": {},
   "source": [
    "_Посмотрев подробнее на наше ряд, обнаружим что производство статично с периодом в 7 дней, также данные сходятся с реальным календарём и производство падает в выходные дни._"
   ]
  },
  {
   "cell_type": "markdown",
   "id": "791bdd21",
   "metadata": {},
   "source": [
    "__Построение базовой модели__"
   ]
  },
  {
   "cell_type": "markdown",
   "id": "5a02173b",
   "metadata": {},
   "source": [
    "_В связи с этим сделаем базовую модель, которая \"предсказывать\" данные, беря производительность неделю назад. В качестве метрики качества возьмём MSE и оценим нашу модель на последних 20% датасета. Это будет оценка, которую мы попробуем побить, строя более сложные модели_"
   ]
  },
  {
   "cell_type": "code",
   "execution_count": 12,
   "id": "ad74a4f2",
   "metadata": {},
   "outputs": [],
   "source": [
    "df_baseline = df_new.copy()"
   ]
  },
  {
   "cell_type": "code",
   "execution_count": 13,
   "id": "9f07a365",
   "metadata": {},
   "outputs": [],
   "source": [
    "df_baseline['shift_7'] = df_baseline.production.shift(7)"
   ]
  },
  {
   "cell_type": "code",
   "execution_count": 14,
   "id": "1e03f709",
   "metadata": {},
   "outputs": [
    {
     "data": {
      "image/png": "[encoded data removed]",
      "text/plain": [
       "<Figure size 432x288 with 1 Axes>"
      ]
     },
     "metadata": {
      "needs_background": "light"
     },
     "output_type": "display_data"
    }
   ],
   "source": [
    "fig, ax = plt.subplots()\n",
    "ax = sns.lineplot(x='time', y='production', data=df_baseline)\n",
    "ax1 = sns.lineplot(x='time', y='shift_7', data=df_baseline)\n",
    "\n",
    "plot.tick_params(rotation=45)\n",
    "plot.set_xlim([pd.to_datetime('2022-01-08'), pd.to_datetime('2022-06-14')])\n",
    "plot.set_ylim([0, 4000]);\n",
    "\n"
   ]
  },
  {
   "cell_type": "code",
   "execution_count": 15,
   "id": "ec0ceeb2",
   "metadata": {},
   "outputs": [],
   "source": [
    "y_true_base = df_baseline['production'].iloc[int(158 * 0.8):]\n",
    "y_pred_base = df_baseline['shift_7'].iloc[int(158 * 0.8):]"
   ]
  },
  {
   "cell_type": "markdown",
   "id": "84349e55",
   "metadata": {},
   "source": [
    "_MSE = 771717.5625_"
   ]
  },
  {
   "cell_type": "code",
   "execution_count": 16,
   "id": "f4b08ece",
   "metadata": {},
   "outputs": [
    {
     "data": {
      "text/plain": [
       "771717.5625"
      ]
     },
     "execution_count": 16,
     "metadata": {},
     "output_type": "execute_result"
    }
   ],
   "source": [
    "mean_squared_error(y_true=y_true_base, y_pred=y_pred_base)"
   ]
  },
  {
   "cell_type": "code",
   "execution_count": 17,
   "id": "cdac60c8",
   "metadata": {},
   "outputs": [],
   "source": [
    "baseline_error = mean_squared_error(y_true=y_true_base, y_pred=y_pred_base)"
   ]
  },
  {
   "cell_type": "markdown",
   "id": "23d2348b",
   "metadata": {},
   "source": [
    "_Данная модель имеет кучу недостатков, так как она не \"ловит\" скрытые особенности нашего датасета, попробуем нагенерить кучу фичей и потом отдать это на обучению классическим моделям и постараемся побить результат нашей dummy модели_"
   ]
  },
  {
   "cell_type": "markdown",
   "id": "941f9af5",
   "metadata": {},
   "source": [
    "__Генерация новых признаков__"
   ]
  },
  {
   "cell_type": "code",
   "execution_count": 18,
   "id": "0ac07757",
   "metadata": {},
   "outputs": [],
   "source": [
    "df_more_features = df_new.copy()"
   ]
  },
  {
   "cell_type": "markdown",
   "id": "cbf56501",
   "metadata": {},
   "source": [
    "_Начнём с признаков, которые основаны на данных n предыдущего дня, только на этот раз не будем ограничиваитя только 7-ым днём, а сделаем промежуток 7-30 дней, так как размер нашего сета (158примеров) это позволяет_"
   ]
  },
  {
   "cell_type": "code",
   "execution_count": 19,
   "id": "88808eb9",
   "metadata": {},
   "outputs": [],
   "source": [
    "for i in range(7, 31):\n",
    "    df_more_features[\"lag_{}\".format(i)] = df_more_features['production'].shift(i)"
   ]
  },
  {
   "cell_type": "markdown",
   "id": "9ff9b5d6",
   "metadata": {},
   "source": [
    "_Далее сделаем признаки, соответствующие дням недели, выходным и государственным праздникам РФ в период с 2022-01-08 по 2022-06-14_"
   ]
  },
  {
   "cell_type": "code",
   "execution_count": 20,
   "id": "7459d253",
   "metadata": {},
   "outputs": [],
   "source": [
    "df_more_features['weekday'] = df_more_features['time'].dt.dayofweek\n",
    "df_more_features['is_weekend'] = df_more_features.weekday.isin([5, 6]) * 1"
   ]
  },
  {
   "cell_type": "markdown",
   "id": "0823b452",
   "metadata": {},
   "source": [
    "_Для определения государственных праздаников воспользуемся API сайта https://www.isdayoff.ru/ и с помощью цикла пройдёмся по нашим данным, так как загрузка с API требует некоторого времени, то я сделал файл holiday.pkl для ускорения процесса_"
   ]
  },
  {
   "cell_type": "code",
   "execution_count": 21,
   "id": "dc9de1da",
   "metadata": {},
   "outputs": [],
   "source": [
    "# df_more_features['holiday'] = 0"
   ]
  },
  {
   "cell_type": "code",
   "execution_count": 22,
   "id": "a7e0bd5f",
   "metadata": {},
   "outputs": [],
   "source": [
    "# for i in df_more_features.index:\n",
    "#     ymd = df_more_features['time'][i].strftime('%Y%m%d')\n",
    "#     api_respone = requests.get(f\"https://isdayoff.ru/{ymd}\")\n",
    "#     if api_respone.text == '0':\n",
    "#         df_more_features['holiday'][i] = 0\n",
    "#     else:\n",
    "#         df_more_features['holiday'][i] = 1\n",
    "        "
   ]
  },
  {
   "cell_type": "code",
   "execution_count": 23,
   "id": "ad2da9a9",
   "metadata": {},
   "outputs": [],
   "source": [
    "# df_more_features.holiday.to_pickle('holiday.pkl')"
   ]
  },
  {
   "cell_type": "code",
   "execution_count": 24,
   "id": "94b2d6de",
   "metadata": {},
   "outputs": [],
   "source": [
    "df_more_features['holiday']= pd.read_pickle('holiday.pkl')"
   ]
  },
  {
   "cell_type": "markdown",
   "id": "723cb42a",
   "metadata": {},
   "source": [
    "_Здесь можно остановиться, но хотелось бы ещё признаков, для этого воспользуемся оконными функциями и посчитаем статистические параметры в окне за предыдущие 28 дней, хуже ведь вряд ли станет. Окно я взял из расчёта, что для конечных предсказаний мы имели минимум 75% данных, так как при предсказании последней недельной продукции у нас будут отсутствовать данные за предыдущие 6 дней._"
   ]
  },
  {
   "cell_type": "code",
   "execution_count": 25,
   "id": "f3da04a3",
   "metadata": {},
   "outputs": [],
   "source": [
    "df_more_features['max_28'] = df_more_features['production'].rolling(28).max()\n",
    "df_more_features['mean_28'] = df_more_features['production'].rolling(28).mean()\n",
    "df_more_features['median_28'] = df_more_features['production'].rolling(28).median()\n",
    "df_more_features['std_28'] = df_more_features['production'].rolling(28).std()"
   ]
  },
  {
   "cell_type": "markdown",
   "id": "d06cedcf",
   "metadata": {},
   "source": [
    "_Данные колоннки is_weekend и holiday сильно коррелируют, но так как колонка holiday более полная, то уберём is_weekend._"
   ]
  },
  {
   "cell_type": "code",
   "execution_count": 26,
   "id": "5cc7b8c3",
   "metadata": {
    "scrolled": true
   },
   "outputs": [],
   "source": [
    "df_more_features = df_more_features.drop(columns='is_weekend')"
   ]
  },
  {
   "cell_type": "markdown",
   "id": "14974eab",
   "metadata": {},
   "source": [
    "__Пожалуй на этом с генерацией признаков можно закончить и перейти к построение модели__"
   ]
  },
  {
   "cell_type": "markdown",
   "id": "926958b2",
   "metadata": {},
   "source": [
    "_Так как мы использовали признаки, основанные на предыдущих данных, то в некоторых строках у нас имеются пропущенные данные, которые мы просто выкинем, хотя в реальном примере поступать так с 1/6 частью данных конечно не стоит_"
   ]
  },
  {
   "cell_type": "code",
   "execution_count": 27,
   "id": "1e88eb7c",
   "metadata": {},
   "outputs": [],
   "source": [
    "y = df_more_features.dropna().production\n",
    "X = df_more_features.dropna().drop(columns=['time', 'production'])"
   ]
  },
  {
   "cell_type": "code",
   "execution_count": 28,
   "id": "92bdc425",
   "metadata": {},
   "outputs": [],
   "source": [
    "def timeseries_train_test_split(X, y, test_size):\n",
    "    \"\"\"\n",
    "        Создаём тестовый сплит из последних n строчек\n",
    "    \"\"\"\n",
    "\n",
    "    # строки выбираем по индексу\n",
    "    test_index = int(len(X) * (1 - test_size))\n",
    "\n",
    "    X_train = X.iloc[:test_index]\n",
    "    y_train = y.iloc[:test_index]\n",
    "    X_test = X.iloc[test_index:]\n",
    "    y_test = y.iloc[test_index:]\n",
    "\n",
    "    return X_train, X_test, y_train, y_test"
   ]
  },
  {
   "cell_type": "code",
   "execution_count": 29,
   "id": "fc02442a",
   "metadata": {},
   "outputs": [],
   "source": [
    "X_train, X_test, y_train, y_test = timeseries_train_test_split(X, y, test_size=0.2)"
   ]
  },
  {
   "cell_type": "markdown",
   "id": "74327b0d",
   "metadata": {},
   "source": [
    "_Попробуем линейную регрессию из коробки и посмотрим улучшится ли наш результат_"
   ]
  },
  {
   "cell_type": "code",
   "execution_count": 30,
   "id": "ed1c232b",
   "metadata": {},
   "outputs": [
    {
     "data": {
      "text/html": [
       "<style>#sk-container-id-1 {color: black;background-color: white;}#sk-container-id-1 pre{padding: 0;}#sk-container-id-1 div.sk-toggleable {background-color: white;}#sk-container-id-1 label.sk-toggleable__label {cursor: pointer;display: block;width: 100%;margin-bottom: 0;padding: 0.3em;box-sizing: border-box;text-align: center;}#sk-container-id-1 label.sk-toggleable__label-arrow:before {content: \"▸\";float: left;margin-right: 0.25em;color: #696969;}#sk-container-id-1 label.sk-toggleable__label-arrow:hover:before {color: black;}#sk-container-id-1 div.sk-estimator:hover label.sk-toggleable__label-arrow:before {color: black;}#sk-container-id-1 div.sk-toggleable__content {max-height: 0;max-width: 0;overflow: hidden;text-align: left;background-color: #f0f8ff;}#sk-container-id-1 div.sk-toggleable__content pre {margin: 0.2em;color: black;border-radius: 0.25em;background-color: #f0f8ff;}#sk-container-id-1 input.sk-toggleable__control:checked~div.sk-toggleable__content {max-height: 200px;max-width: 100%;overflow: auto;}#sk-container-id-1 input.sk-toggleable__control:checked~label.sk-toggleable__label-arrow:before {content: \"▾\";}#sk-container-id-1 div.sk-estimator input.sk-toggleable__control:checked~label.sk-toggleable__label {background-color: #d4ebff;}#sk-container-id-1 div.sk-label input.sk-toggleable__control:checked~label.sk-toggleable__label {background-color: #d4ebff;}#sk-container-id-1 input.sk-hidden--visually {border: 0;clip: rect(1px 1px 1px 1px);clip: rect(1px, 1px, 1px, 1px);height: 1px;margin: -1px;overflow: hidden;padding: 0;position: absolute;width: 1px;}#sk-container-id-1 div.sk-estimator {font-family: monospace;background-color: #f0f8ff;border: 1px dotted black;border-radius: 0.25em;box-sizing: border-box;margin-bottom: 0.5em;}#sk-container-id-1 div.sk-estimator:hover {background-color: #d4ebff;}#sk-container-id-1 div.sk-parallel-item::after {content: \"\";width: 100%;border-bottom: 1px solid gray;flex-grow: 1;}#sk-container-id-1 div.sk-label:hover label.sk-toggleable__label {background-color: #d4ebff;}#sk-container-id-1 div.sk-serial::before {content: \"\";position: absolute;border-left: 1px solid gray;box-sizing: border-box;top: 0;bottom: 0;left: 50%;z-index: 0;}#sk-container-id-1 div.sk-serial {display: flex;flex-direction: column;align-items: center;background-color: white;padding-right: 0.2em;padding-left: 0.2em;position: relative;}#sk-container-id-1 div.sk-item {position: relative;z-index: 1;}#sk-container-id-1 div.sk-parallel {display: flex;align-items: stretch;justify-content: center;background-color: white;position: relative;}#sk-container-id-1 div.sk-item::before, #sk-container-id-1 div.sk-parallel-item::before {content: \"\";position: absolute;border-left: 1px solid gray;box-sizing: border-box;top: 0;bottom: 0;left: 50%;z-index: -1;}#sk-container-id-1 div.sk-parallel-item {display: flex;flex-direction: column;z-index: 1;position: relative;background-color: white;}#sk-container-id-1 div.sk-parallel-item:first-child::after {align-self: flex-end;width: 50%;}#sk-container-id-1 div.sk-parallel-item:last-child::after {align-self: flex-start;width: 50%;}#sk-container-id-1 div.sk-parallel-item:only-child::after {width: 0;}#sk-container-id-1 div.sk-dashed-wrapped {border: 1px dashed gray;margin: 0 0.4em 0.5em 0.4em;box-sizing: border-box;padding-bottom: 0.4em;background-color: white;}#sk-container-id-1 div.sk-label label {font-family: monospace;font-weight: bold;display: inline-block;line-height: 1.2em;}#sk-container-id-1 div.sk-label-container {text-align: center;}#sk-container-id-1 div.sk-container {/* jupyter's `normalize.less` sets `[hidden] { display: none; }` but bootstrap.min.css set `[hidden] { display: none !important; }` so we also need the `!important` here to be able to override the default hidden behavior on the sphinx rendered scikit-learn.org. See: https://github.com/scikit-learn/scikit-learn/issues/21755 */display: inline-block !important;position: relative;}#sk-container-id-1 div.sk-text-repr-fallback {display: none;}</style><div id=\"sk-container-id-1\" class=\"sk-top-container\"><div class=\"sk-text-repr-fallback\"><pre>LinearRegression()</pre><b>In a Jupyter environment, please rerun this cell to show the HTML representation or trust the notebook. <br />On GitHub, the HTML representation is unable to render, please try loading this page with nbviewer.org.</b></div><div class=\"sk-container\" hidden><div class=\"sk-item\"><div class=\"sk-estimator sk-toggleable\"><input class=\"sk-toggleable__control sk-hidden--visually\" id=\"sk-estimator-id-1\" type=\"checkbox\" checked><label for=\"sk-estimator-id-1\" class=\"sk-toggleable__label sk-toggleable__label-arrow\">LinearRegression</label><div class=\"sk-toggleable__content\"><pre>LinearRegression()</pre></div></div></div></div></div>"
      ],
      "text/plain": [
       "LinearRegression()"
      ]
     },
     "execution_count": 30,
     "metadata": {},
     "output_type": "execute_result"
    }
   ],
   "source": [
    "lr = LinearRegression()\n",
    "lr.fit(X_train, y_train)"
   ]
  },
  {
   "cell_type": "code",
   "execution_count": 31,
   "id": "a9e5857a",
   "metadata": {},
   "outputs": [],
   "source": [
    "lr_error = lr.predict(X_test)"
   ]
  },
  {
   "cell_type": "markdown",
   "id": "cfdadc02",
   "metadata": {},
   "source": [
    "_MSE = 227831.996016044_"
   ]
  },
  {
   "cell_type": "code",
   "execution_count": 32,
   "id": "531a7165",
   "metadata": {},
   "outputs": [
    {
     "data": {
      "text/plain": [
       "227831.996016044"
      ]
     },
     "execution_count": 32,
     "metadata": {},
     "output_type": "execute_result"
    }
   ],
   "source": [
    "mean_squared_error(y_true=y_test, y_pred=lr_error)"
   ]
  },
  {
   "cell_type": "markdown",
   "id": "fa161539",
   "metadata": {},
   "source": [
    "_Уже наши предсказания улучшились в 4.5 раза, попробуем применить регуляризациии и кросс-валидации, для этого нам надо предварительно нормализовать наши данные, так как теперь наша модель будет штрафоваться за большие коэффициенты, а изначально у нас продукция измеряется в тысячах, а дни недели в единицах_"
   ]
  },
  {
   "cell_type": "code",
   "execution_count": 33,
   "id": "82aac3a1",
   "metadata": {},
   "outputs": [],
   "source": [
    "scaler = StandardScaler()"
   ]
  },
  {
   "cell_type": "code",
   "execution_count": 34,
   "id": "7e4a40a7",
   "metadata": {},
   "outputs": [],
   "source": [
    "X_train_scaled = scaler.fit_transform(X_train)\n",
    "X_test_scaled = scaler.transform(X_test)"
   ]
  },
  {
   "cell_type": "code",
   "execution_count": 35,
   "id": "0c6a4e1e",
   "metadata": {},
   "outputs": [],
   "source": [
    "tscv = TimeSeriesSplit(n_splits=5)"
   ]
  },
  {
   "cell_type": "code",
   "execution_count": 36,
   "id": "e02a7312",
   "metadata": {},
   "outputs": [
    {
     "data": {
      "text/html": [
       "<style>#sk-container-id-2 {color: black;background-color: white;}#sk-container-id-2 pre{padding: 0;}#sk-container-id-2 div.sk-toggleable {background-color: white;}#sk-container-id-2 label.sk-toggleable__label {cursor: pointer;display: block;width: 100%;margin-bottom: 0;padding: 0.3em;box-sizing: border-box;text-align: center;}#sk-container-id-2 label.sk-toggleable__label-arrow:before {content: \"▸\";float: left;margin-right: 0.25em;color: #696969;}#sk-container-id-2 label.sk-toggleable__label-arrow:hover:before {color: black;}#sk-container-id-2 div.sk-estimator:hover label.sk-toggleable__label-arrow:before {color: black;}#sk-container-id-2 div.sk-toggleable__content {max-height: 0;max-width: 0;overflow: hidden;text-align: left;background-color: #f0f8ff;}#sk-container-id-2 div.sk-toggleable__content pre {margin: 0.2em;color: black;border-radius: 0.25em;background-color: #f0f8ff;}#sk-container-id-2 input.sk-toggleable__control:checked~div.sk-toggleable__content {max-height: 200px;max-width: 100%;overflow: auto;}#sk-container-id-2 input.sk-toggleable__control:checked~label.sk-toggleable__label-arrow:before {content: \"▾\";}#sk-container-id-2 div.sk-estimator input.sk-toggleable__control:checked~label.sk-toggleable__label {background-color: #d4ebff;}#sk-container-id-2 div.sk-label input.sk-toggleable__control:checked~label.sk-toggleable__label {background-color: #d4ebff;}#sk-container-id-2 input.sk-hidden--visually {border: 0;clip: rect(1px 1px 1px 1px);clip: rect(1px, 1px, 1px, 1px);height: 1px;margin: -1px;overflow: hidden;padding: 0;position: absolute;width: 1px;}#sk-container-id-2 div.sk-estimator {font-family: monospace;background-color: #f0f8ff;border: 1px dotted black;border-radius: 0.25em;box-sizing: border-box;margin-bottom: 0.5em;}#sk-container-id-2 div.sk-estimator:hover {background-color: #d4ebff;}#sk-container-id-2 div.sk-parallel-item::after {content: \"\";width: 100%;border-bottom: 1px solid gray;flex-grow: 1;}#sk-container-id-2 div.sk-label:hover label.sk-toggleable__label {background-color: #d4ebff;}#sk-container-id-2 div.sk-serial::before {content: \"\";position: absolute;border-left: 1px solid gray;box-sizing: border-box;top: 0;bottom: 0;left: 50%;z-index: 0;}#sk-container-id-2 div.sk-serial {display: flex;flex-direction: column;align-items: center;background-color: white;padding-right: 0.2em;padding-left: 0.2em;position: relative;}#sk-container-id-2 div.sk-item {position: relative;z-index: 1;}#sk-container-id-2 div.sk-parallel {display: flex;align-items: stretch;justify-content: center;background-color: white;position: relative;}#sk-container-id-2 div.sk-item::before, #sk-container-id-2 div.sk-parallel-item::before {content: \"\";position: absolute;border-left: 1px solid gray;box-sizing: border-box;top: 0;bottom: 0;left: 50%;z-index: -1;}#sk-container-id-2 div.sk-parallel-item {display: flex;flex-direction: column;z-index: 1;position: relative;background-color: white;}#sk-container-id-2 div.sk-parallel-item:first-child::after {align-self: flex-end;width: 50%;}#sk-container-id-2 div.sk-parallel-item:last-child::after {align-self: flex-start;width: 50%;}#sk-container-id-2 div.sk-parallel-item:only-child::after {width: 0;}#sk-container-id-2 div.sk-dashed-wrapped {border: 1px dashed gray;margin: 0 0.4em 0.5em 0.4em;box-sizing: border-box;padding-bottom: 0.4em;background-color: white;}#sk-container-id-2 div.sk-label label {font-family: monospace;font-weight: bold;display: inline-block;line-height: 1.2em;}#sk-container-id-2 div.sk-label-container {text-align: center;}#sk-container-id-2 div.sk-container {/* jupyter's `normalize.less` sets `[hidden] { display: none; }` but bootstrap.min.css set `[hidden] { display: none !important; }` so we also need the `!important` here to be able to override the default hidden behavior on the sphinx rendered scikit-learn.org. See: https://github.com/scikit-learn/scikit-learn/issues/21755 */display: inline-block !important;position: relative;}#sk-container-id-2 div.sk-text-repr-fallback {display: none;}</style><div id=\"sk-container-id-2\" class=\"sk-top-container\"><div class=\"sk-text-repr-fallback\"><pre>RidgeCV(cv=TimeSeriesSplit(gap=0, max_train_size=None, n_splits=5, test_size=None))</pre><b>In a Jupyter environment, please rerun this cell to show the HTML representation or trust the notebook. <br />On GitHub, the HTML representation is unable to render, please try loading this page with nbviewer.org.</b></div><div class=\"sk-container\" hidden><div class=\"sk-item\"><div class=\"sk-estimator sk-toggleable\"><input class=\"sk-toggleable__control sk-hidden--visually\" id=\"sk-estimator-id-2\" type=\"checkbox\" checked><label for=\"sk-estimator-id-2\" class=\"sk-toggleable__label sk-toggleable__label-arrow\">RidgeCV</label><div class=\"sk-toggleable__content\"><pre>RidgeCV(cv=TimeSeriesSplit(gap=0, max_train_size=None, n_splits=5, test_size=None))</pre></div></div></div></div></div>"
      ],
      "text/plain": [
       "RidgeCV(cv=TimeSeriesSplit(gap=0, max_train_size=None, n_splits=5, test_size=None))"
      ]
     },
     "execution_count": 36,
     "metadata": {},
     "output_type": "execute_result"
    }
   ],
   "source": [
    "ridge = RidgeCV(cv=tscv)\n",
    "ridge.fit(X_train_scaled, y_train)"
   ]
  },
  {
   "cell_type": "code",
   "execution_count": 37,
   "id": "7aa2885c",
   "metadata": {},
   "outputs": [],
   "source": [
    "l2_error = ridge.predict(X_test_scaled)"
   ]
  },
  {
   "cell_type": "markdown",
   "id": "3a27ed2b",
   "metadata": {},
   "source": [
    "_MSE = 165385.1700889957_"
   ]
  },
  {
   "cell_type": "code",
   "execution_count": 38,
   "id": "dab949fe",
   "metadata": {},
   "outputs": [
    {
     "data": {
      "text/plain": [
       "165385.1700889957"
      ]
     },
     "execution_count": 38,
     "metadata": {},
     "output_type": "execute_result"
    }
   ],
   "source": [
    "mean_squared_error(y_true=y_test, y_pred=l2_error)"
   ]
  },
  {
   "cell_type": "code",
   "execution_count": 39,
   "id": "66e34c49",
   "metadata": {},
   "outputs": [
    {
     "data": {
      "text/html": [
       "<style>#sk-container-id-3 {color: black;background-color: white;}#sk-container-id-3 pre{padding: 0;}#sk-container-id-3 div.sk-toggleable {background-color: white;}#sk-container-id-3 label.sk-toggleable__label {cursor: pointer;display: block;width: 100%;margin-bottom: 0;padding: 0.3em;box-sizing: border-box;text-align: center;}#sk-container-id-3 label.sk-toggleable__label-arrow:before {content: \"▸\";float: left;margin-right: 0.25em;color: #696969;}#sk-container-id-3 label.sk-toggleable__label-arrow:hover:before {color: black;}#sk-container-id-3 div.sk-estimator:hover label.sk-toggleable__label-arrow:before {color: black;}#sk-container-id-3 div.sk-toggleable__content {max-height: 0;max-width: 0;overflow: hidden;text-align: left;background-color: #f0f8ff;}#sk-container-id-3 div.sk-toggleable__content pre {margin: 0.2em;color: black;border-radius: 0.25em;background-color: #f0f8ff;}#sk-container-id-3 input.sk-toggleable__control:checked~div.sk-toggleable__content {max-height: 200px;max-width: 100%;overflow: auto;}#sk-container-id-3 input.sk-toggleable__control:checked~label.sk-toggleable__label-arrow:before {content: \"▾\";}#sk-container-id-3 div.sk-estimator input.sk-toggleable__control:checked~label.sk-toggleable__label {background-color: #d4ebff;}#sk-container-id-3 div.sk-label input.sk-toggleable__control:checked~label.sk-toggleable__label {background-color: #d4ebff;}#sk-container-id-3 input.sk-hidden--visually {border: 0;clip: rect(1px 1px 1px 1px);clip: rect(1px, 1px, 1px, 1px);height: 1px;margin: -1px;overflow: hidden;padding: 0;position: absolute;width: 1px;}#sk-container-id-3 div.sk-estimator {font-family: monospace;background-color: #f0f8ff;border: 1px dotted black;border-radius: 0.25em;box-sizing: border-box;margin-bottom: 0.5em;}#sk-container-id-3 div.sk-estimator:hover {background-color: #d4ebff;}#sk-container-id-3 div.sk-parallel-item::after {content: \"\";width: 100%;border-bottom: 1px solid gray;flex-grow: 1;}#sk-container-id-3 div.sk-label:hover label.sk-toggleable__label {background-color: #d4ebff;}#sk-container-id-3 div.sk-serial::before {content: \"\";position: absolute;border-left: 1px solid gray;box-sizing: border-box;top: 0;bottom: 0;left: 50%;z-index: 0;}#sk-container-id-3 div.sk-serial {display: flex;flex-direction: column;align-items: center;background-color: white;padding-right: 0.2em;padding-left: 0.2em;position: relative;}#sk-container-id-3 div.sk-item {position: relative;z-index: 1;}#sk-container-id-3 div.sk-parallel {display: flex;align-items: stretch;justify-content: center;background-color: white;position: relative;}#sk-container-id-3 div.sk-item::before, #sk-container-id-3 div.sk-parallel-item::before {content: \"\";position: absolute;border-left: 1px solid gray;box-sizing: border-box;top: 0;bottom: 0;left: 50%;z-index: -1;}#sk-container-id-3 div.sk-parallel-item {display: flex;flex-direction: column;z-index: 1;position: relative;background-color: white;}#sk-container-id-3 div.sk-parallel-item:first-child::after {align-self: flex-end;width: 50%;}#sk-container-id-3 div.sk-parallel-item:last-child::after {align-self: flex-start;width: 50%;}#sk-container-id-3 div.sk-parallel-item:only-child::after {width: 0;}#sk-container-id-3 div.sk-dashed-wrapped {border: 1px dashed gray;margin: 0 0.4em 0.5em 0.4em;box-sizing: border-box;padding-bottom: 0.4em;background-color: white;}#sk-container-id-3 div.sk-label label {font-family: monospace;font-weight: bold;display: inline-block;line-height: 1.2em;}#sk-container-id-3 div.sk-label-container {text-align: center;}#sk-container-id-3 div.sk-container {/* jupyter's `normalize.less` sets `[hidden] { display: none; }` but bootstrap.min.css set `[hidden] { display: none !important; }` so we also need the `!important` here to be able to override the default hidden behavior on the sphinx rendered scikit-learn.org. See: https://github.com/scikit-learn/scikit-learn/issues/21755 */display: inline-block !important;position: relative;}#sk-container-id-3 div.sk-text-repr-fallback {display: none;}</style><div id=\"sk-container-id-3\" class=\"sk-top-container\"><div class=\"sk-text-repr-fallback\"><pre>LassoCV(cv=TimeSeriesSplit(gap=0, max_train_size=None, n_splits=5, test_size=None))</pre><b>In a Jupyter environment, please rerun this cell to show the HTML representation or trust the notebook. <br />On GitHub, the HTML representation is unable to render, please try loading this page with nbviewer.org.</b></div><div class=\"sk-container\" hidden><div class=\"sk-item\"><div class=\"sk-estimator sk-toggleable\"><input class=\"sk-toggleable__control sk-hidden--visually\" id=\"sk-estimator-id-3\" type=\"checkbox\" checked><label for=\"sk-estimator-id-3\" class=\"sk-toggleable__label sk-toggleable__label-arrow\">LassoCV</label><div class=\"sk-toggleable__content\"><pre>LassoCV(cv=TimeSeriesSplit(gap=0, max_train_size=None, n_splits=5, test_size=None))</pre></div></div></div></div></div>"
      ],
      "text/plain": [
       "LassoCV(cv=TimeSeriesSplit(gap=0, max_train_size=None, n_splits=5, test_size=None))"
      ]
     },
     "execution_count": 39,
     "metadata": {},
     "output_type": "execute_result"
    }
   ],
   "source": [
    "lasso = LassoCV(cv=tscv)\n",
    "lasso.fit(X_train_scaled, y_train)"
   ]
  },
  {
   "cell_type": "code",
   "execution_count": 40,
   "id": "684ef55b",
   "metadata": {},
   "outputs": [],
   "source": [
    "l1_error = lasso.predict(X_test_scaled)"
   ]
  },
  {
   "cell_type": "markdown",
   "id": "74a89292",
   "metadata": {},
   "source": [
    "_MSE = 111499.77812778637_"
   ]
  },
  {
   "cell_type": "code",
   "execution_count": 41,
   "id": "872c16a8",
   "metadata": {},
   "outputs": [
    {
     "data": {
      "text/plain": [
       "111499.77812778637"
      ]
     },
     "execution_count": 41,
     "metadata": {},
     "output_type": "execute_result"
    }
   ],
   "source": [
    "mean_squared_error(y_true=y_test, y_pred=l1_error)"
   ]
  },
  {
   "cell_type": "markdown",
   "id": "741e56a2",
   "metadata": {},
   "source": [
    "_Пока что линейная регрессия с LASSO регуляризацией показала лучший результат. Попробуем использовать случайный лес_"
   ]
  },
  {
   "cell_type": "code",
   "execution_count": 42,
   "id": "1bdca548",
   "metadata": {},
   "outputs": [
    {
     "data": {
      "text/html": [
       "<style>#sk-container-id-4 {color: black;background-color: white;}#sk-container-id-4 pre{padding: 0;}#sk-container-id-4 div.sk-toggleable {background-color: white;}#sk-container-id-4 label.sk-toggleable__label {cursor: pointer;display: block;width: 100%;margin-bottom: 0;padding: 0.3em;box-sizing: border-box;text-align: center;}#sk-container-id-4 label.sk-toggleable__label-arrow:before {content: \"▸\";float: left;margin-right: 0.25em;color: #696969;}#sk-container-id-4 label.sk-toggleable__label-arrow:hover:before {color: black;}#sk-container-id-4 div.sk-estimator:hover label.sk-toggleable__label-arrow:before {color: black;}#sk-container-id-4 div.sk-toggleable__content {max-height: 0;max-width: 0;overflow: hidden;text-align: left;background-color: #f0f8ff;}#sk-container-id-4 div.sk-toggleable__content pre {margin: 0.2em;color: black;border-radius: 0.25em;background-color: #f0f8ff;}#sk-container-id-4 input.sk-toggleable__control:checked~div.sk-toggleable__content {max-height: 200px;max-width: 100%;overflow: auto;}#sk-container-id-4 input.sk-toggleable__control:checked~label.sk-toggleable__label-arrow:before {content: \"▾\";}#sk-container-id-4 div.sk-estimator input.sk-toggleable__control:checked~label.sk-toggleable__label {background-color: #d4ebff;}#sk-container-id-4 div.sk-label input.sk-toggleable__control:checked~label.sk-toggleable__label {background-color: #d4ebff;}#sk-container-id-4 input.sk-hidden--visually {border: 0;clip: rect(1px 1px 1px 1px);clip: rect(1px, 1px, 1px, 1px);height: 1px;margin: -1px;overflow: hidden;padding: 0;position: absolute;width: 1px;}#sk-container-id-4 div.sk-estimator {font-family: monospace;background-color: #f0f8ff;border: 1px dotted black;border-radius: 0.25em;box-sizing: border-box;margin-bottom: 0.5em;}#sk-container-id-4 div.sk-estimator:hover {background-color: #d4ebff;}#sk-container-id-4 div.sk-parallel-item::after {content: \"\";width: 100%;border-bottom: 1px solid gray;flex-grow: 1;}#sk-container-id-4 div.sk-label:hover label.sk-toggleable__label {background-color: #d4ebff;}#sk-container-id-4 div.sk-serial::before {content: \"\";position: absolute;border-left: 1px solid gray;box-sizing: border-box;top: 0;bottom: 0;left: 50%;z-index: 0;}#sk-container-id-4 div.sk-serial {display: flex;flex-direction: column;align-items: center;background-color: white;padding-right: 0.2em;padding-left: 0.2em;position: relative;}#sk-container-id-4 div.sk-item {position: relative;z-index: 1;}#sk-container-id-4 div.sk-parallel {display: flex;align-items: stretch;justify-content: center;background-color: white;position: relative;}#sk-container-id-4 div.sk-item::before, #sk-container-id-4 div.sk-parallel-item::before {content: \"\";position: absolute;border-left: 1px solid gray;box-sizing: border-box;top: 0;bottom: 0;left: 50%;z-index: -1;}#sk-container-id-4 div.sk-parallel-item {display: flex;flex-direction: column;z-index: 1;position: relative;background-color: white;}#sk-container-id-4 div.sk-parallel-item:first-child::after {align-self: flex-end;width: 50%;}#sk-container-id-4 div.sk-parallel-item:last-child::after {align-self: flex-start;width: 50%;}#sk-container-id-4 div.sk-parallel-item:only-child::after {width: 0;}#sk-container-id-4 div.sk-dashed-wrapped {border: 1px dashed gray;margin: 0 0.4em 0.5em 0.4em;box-sizing: border-box;padding-bottom: 0.4em;background-color: white;}#sk-container-id-4 div.sk-label label {font-family: monospace;font-weight: bold;display: inline-block;line-height: 1.2em;}#sk-container-id-4 div.sk-label-container {text-align: center;}#sk-container-id-4 div.sk-container {/* jupyter's `normalize.less` sets `[hidden] { display: none; }` but bootstrap.min.css set `[hidden] { display: none !important; }` so we also need the `!important` here to be able to override the default hidden behavior on the sphinx rendered scikit-learn.org. See: https://github.com/scikit-learn/scikit-learn/issues/21755 */display: inline-block !important;position: relative;}#sk-container-id-4 div.sk-text-repr-fallback {display: none;}</style><div id=\"sk-container-id-4\" class=\"sk-top-container\"><div class=\"sk-text-repr-fallback\"><pre>RandomForestRegressor(random_state=19)</pre><b>In a Jupyter environment, please rerun this cell to show the HTML representation or trust the notebook. <br />On GitHub, the HTML representation is unable to render, please try loading this page with nbviewer.org.</b></div><div class=\"sk-container\" hidden><div class=\"sk-item\"><div class=\"sk-estimator sk-toggleable\"><input class=\"sk-toggleable__control sk-hidden--visually\" id=\"sk-estimator-id-4\" type=\"checkbox\" checked><label for=\"sk-estimator-id-4\" class=\"sk-toggleable__label sk-toggleable__label-arrow\">RandomForestRegressor</label><div class=\"sk-toggleable__content\"><pre>RandomForestRegressor(random_state=19)</pre></div></div></div></div></div>"
      ],
      "text/plain": [
       "RandomForestRegressor(random_state=19)"
      ]
     },
     "execution_count": 42,
     "metadata": {},
     "output_type": "execute_result"
    }
   ],
   "source": [
    "rf = RandomForestRegressor(random_state=19)\n",
    "rf.fit(X_train, y_train)"
   ]
  },
  {
   "cell_type": "code",
   "execution_count": 43,
   "id": "7ddab8a2",
   "metadata": {},
   "outputs": [],
   "source": [
    "rf_error = rf.predict(X_test)"
   ]
  },
  {
   "cell_type": "markdown",
   "id": "15d90923",
   "metadata": {},
   "source": [
    "_MSE = 144306.99739615383_"
   ]
  },
  {
   "cell_type": "code",
   "execution_count": 44,
   "id": "91f841de",
   "metadata": {},
   "outputs": [
    {
     "data": {
      "text/plain": [
       "144306.99739615383"
      ]
     },
     "execution_count": 44,
     "metadata": {},
     "output_type": "execute_result"
    }
   ],
   "source": [
    "mean_squared_error(y_true=y_test, y_pred=rf_error)"
   ]
  },
  {
   "cell_type": "markdown",
   "id": "eb38eb10",
   "metadata": {},
   "source": [
    "_Так как модель, основанная на деревьях решений показала достойный результат, то можно попробовать применить бустинг модели, основанные на деревьях решений, так как они обычно дают лучший результат, чем случайный лес_"
   ]
  },
  {
   "cell_type": "code",
   "execution_count": 45,
   "id": "d1a83103",
   "metadata": {},
   "outputs": [
    {
     "data": {
      "text/html": [
       "<style>#sk-container-id-5 {color: black;background-color: white;}#sk-container-id-5 pre{padding: 0;}#sk-container-id-5 div.sk-toggleable {background-color: white;}#sk-container-id-5 label.sk-toggleable__label {cursor: pointer;display: block;width: 100%;margin-bottom: 0;padding: 0.3em;box-sizing: border-box;text-align: center;}#sk-container-id-5 label.sk-toggleable__label-arrow:before {content: \"▸\";float: left;margin-right: 0.25em;color: #696969;}#sk-container-id-5 label.sk-toggleable__label-arrow:hover:before {color: black;}#sk-container-id-5 div.sk-estimator:hover label.sk-toggleable__label-arrow:before {color: black;}#sk-container-id-5 div.sk-toggleable__content {max-height: 0;max-width: 0;overflow: hidden;text-align: left;background-color: #f0f8ff;}#sk-container-id-5 div.sk-toggleable__content pre {margin: 0.2em;color: black;border-radius: 0.25em;background-color: #f0f8ff;}#sk-container-id-5 input.sk-toggleable__control:checked~div.sk-toggleable__content {max-height: 200px;max-width: 100%;overflow: auto;}#sk-container-id-5 input.sk-toggleable__control:checked~label.sk-toggleable__label-arrow:before {content: \"▾\";}#sk-container-id-5 div.sk-estimator input.sk-toggleable__control:checked~label.sk-toggleable__label {background-color: #d4ebff;}#sk-container-id-5 div.sk-label input.sk-toggleable__control:checked~label.sk-toggleable__label {background-color: #d4ebff;}#sk-container-id-5 input.sk-hidden--visually {border: 0;clip: rect(1px 1px 1px 1px);clip: rect(1px, 1px, 1px, 1px);height: 1px;margin: -1px;overflow: hidden;padding: 0;position: absolute;width: 1px;}#sk-container-id-5 div.sk-estimator {font-family: monospace;background-color: #f0f8ff;border: 1px dotted black;border-radius: 0.25em;box-sizing: border-box;margin-bottom: 0.5em;}#sk-container-id-5 div.sk-estimator:hover {background-color: #d4ebff;}#sk-container-id-5 div.sk-parallel-item::after {content: \"\";width: 100%;border-bottom: 1px solid gray;flex-grow: 1;}#sk-container-id-5 div.sk-label:hover label.sk-toggleable__label {background-color: #d4ebff;}#sk-container-id-5 div.sk-serial::before {content: \"\";position: absolute;border-left: 1px solid gray;box-sizing: border-box;top: 0;bottom: 0;left: 50%;z-index: 0;}#sk-container-id-5 div.sk-serial {display: flex;flex-direction: column;align-items: center;background-color: white;padding-right: 0.2em;padding-left: 0.2em;position: relative;}#sk-container-id-5 div.sk-item {position: relative;z-index: 1;}#sk-container-id-5 div.sk-parallel {display: flex;align-items: stretch;justify-content: center;background-color: white;position: relative;}#sk-container-id-5 div.sk-item::before, #sk-container-id-5 div.sk-parallel-item::before {content: \"\";position: absolute;border-left: 1px solid gray;box-sizing: border-box;top: 0;bottom: 0;left: 50%;z-index: -1;}#sk-container-id-5 div.sk-parallel-item {display: flex;flex-direction: column;z-index: 1;position: relative;background-color: white;}#sk-container-id-5 div.sk-parallel-item:first-child::after {align-self: flex-end;width: 50%;}#sk-container-id-5 div.sk-parallel-item:last-child::after {align-self: flex-start;width: 50%;}#sk-container-id-5 div.sk-parallel-item:only-child::after {width: 0;}#sk-container-id-5 div.sk-dashed-wrapped {border: 1px dashed gray;margin: 0 0.4em 0.5em 0.4em;box-sizing: border-box;padding-bottom: 0.4em;background-color: white;}#sk-container-id-5 div.sk-label label {font-family: monospace;font-weight: bold;display: inline-block;line-height: 1.2em;}#sk-container-id-5 div.sk-label-container {text-align: center;}#sk-container-id-5 div.sk-container {/* jupyter's `normalize.less` sets `[hidden] { display: none; }` but bootstrap.min.css set `[hidden] { display: none !important; }` so we also need the `!important` here to be able to override the default hidden behavior on the sphinx rendered scikit-learn.org. See: https://github.com/scikit-learn/scikit-learn/issues/21755 */display: inline-block !important;position: relative;}#sk-container-id-5 div.sk-text-repr-fallback {display: none;}</style><div id=\"sk-container-id-5\" class=\"sk-top-container\"><div class=\"sk-text-repr-fallback\"><pre>LGBMRegressor(random_state=19)</pre><b>In a Jupyter environment, please rerun this cell to show the HTML representation or trust the notebook. <br />On GitHub, the HTML representation is unable to render, please try loading this page with nbviewer.org.</b></div><div class=\"sk-container\" hidden><div class=\"sk-item\"><div class=\"sk-estimator sk-toggleable\"><input class=\"sk-toggleable__control sk-hidden--visually\" id=\"sk-estimator-id-5\" type=\"checkbox\" checked><label for=\"sk-estimator-id-5\" class=\"sk-toggleable__label sk-toggleable__label-arrow\">LGBMRegressor</label><div class=\"sk-toggleable__content\"><pre>LGBMRegressor(random_state=19)</pre></div></div></div></div></div>"
      ],
      "text/plain": [
       "LGBMRegressor(random_state=19)"
      ]
     },
     "execution_count": 45,
     "metadata": {},
     "output_type": "execute_result"
    }
   ],
   "source": [
    "LGBM = LGBMRegressor(random_state=19)\n",
    "LGBM.fit(X_train, y_train)"
   ]
  },
  {
   "cell_type": "code",
   "execution_count": 46,
   "id": "68272c41",
   "metadata": {},
   "outputs": [],
   "source": [
    "LGBM_error = LGBM.predict(X_test)"
   ]
  },
  {
   "cell_type": "markdown",
   "id": "1282c6df",
   "metadata": {},
   "source": [
    "_MSE = 136521.94162085524_"
   ]
  },
  {
   "cell_type": "code",
   "execution_count": 47,
   "id": "d647d15e",
   "metadata": {},
   "outputs": [
    {
     "data": {
      "text/plain": [
       "136521.94162085524"
      ]
     },
     "execution_count": 47,
     "metadata": {},
     "output_type": "execute_result"
    }
   ],
   "source": [
    "mean_squared_error(y_true=y_test, y_pred=LGBM_error)"
   ]
  },
  {
   "cell_type": "markdown",
   "id": "7aa64a98",
   "metadata": {},
   "source": [
    "_Как видим бустинг из коробки выдал очень хороший результат, особенность модели в том, что она значительно увеличивает качество при оптимизации параметров (возможно, не самая лучшая идея, учитывая размеры нашего датасета)_"
   ]
  },
  {
   "cell_type": "code",
   "execution_count": 48,
   "id": "36150233",
   "metadata": {},
   "outputs": [],
   "source": [
    "def objective(trial):\n",
    "\n",
    "\n",
    "    param = {\n",
    "        'metric': 'mean_squared_error', \n",
    "        'random_state': 19,\n",
    "        'n_estimators': 5000,\n",
    "        'reg_alpha': trial.suggest_loguniform('reg_alpha', 1e-3, 10.0),\n",
    "        'reg_lambda': trial.suggest_loguniform('reg_lambda', 1e-3, 10.0),\n",
    "        'colsample_bytree': trial.suggest_float('colsample_bytree', 0.2, 1.0),\n",
    "        'subsample': trial.suggest_float('subsample', 0.2, 1.0),\n",
    "        'learning_rate': trial.suggest_float('learning_rate', 0.01, 0.1),\n",
    "        'max_depth': trial.suggest_int('max_depth', 3, 12),\n",
    "    }\n",
    "\n",
    "    model = LGBMRegressor(**param)  \n",
    "    \n",
    "    model.fit(X_train, y_train,eval_set=[(X_test,y_test)],early_stopping_rounds=100,verbose=False)\n",
    "    \n",
    "    preds = model.predict(X_test)\n",
    "    pred_labels = np.rint(preds)\n",
    "    mse = mean_squared_error(y_true=y_test, y_pred=pred_labels)\n",
    "    return mse"
   ]
  },
  {
   "cell_type": "code",
   "execution_count": 49,
   "id": "3f1d659e",
   "metadata": {},
   "outputs": [
    {
     "name": "stderr",
     "output_type": "stream",
     "text": [
      "\u001b[32m[I 2022-06-18 13:40:37,263]\u001b[0m A new study created in memory with name: no-name-51d94f1d-6a26-415b-b2bd-27be3da0734a\u001b[0m\n",
      "\u001b[32m[I 2022-06-18 13:40:47,490]\u001b[0m Trial 0 finished with value: 162875.53846153847 and parameters: {'reg_alpha': 0.010484116085174576, 'reg_lambda': 0.008952733044000034, 'colsample_bytree': 0.3773997751433908, 'subsample': 0.8979030176531113, 'learning_rate': 0.01542568992996324, 'max_depth': 4}. Best is trial 0 with value: 162875.53846153847.\u001b[0m\n",
      "\u001b[32m[I 2022-06-18 13:40:47,526]\u001b[0m Trial 1 finished with value: 143206.38461538462 and parameters: {'reg_alpha': 0.0034302612053961983, 'reg_lambda': 0.015087600778755083, 'colsample_bytree': 0.883354518569379, 'subsample': 0.8995304622507561, 'learning_rate': 0.07513304319653101, 'max_depth': 4}. Best is trial 1 with value: 143206.38461538462.\u001b[0m\n",
      "\u001b[32m[I 2022-06-18 13:40:47,556]\u001b[0m Trial 2 finished with value: 140165.46153846153 and parameters: {'reg_alpha': 0.003666214736014025, 'reg_lambda': 0.4823301395581927, 'colsample_bytree': 0.5475495051105335, 'subsample': 0.7335641582503938, 'learning_rate': 0.08853845688725258, 'max_depth': 6}. Best is trial 2 with value: 140165.46153846153.\u001b[0m\n",
      "\u001b[32m[I 2022-06-18 13:40:48,525]\u001b[0m Trial 3 finished with value: 154408.5 and parameters: {'reg_alpha': 0.647349808967233, 'reg_lambda': 0.49956148624501523, 'colsample_bytree': 0.3366693505188296, 'subsample': 0.7168634515586605, 'learning_rate': 0.013523197094158763, 'max_depth': 8}. Best is trial 2 with value: 140165.46153846153.\u001b[0m\n",
      "\u001b[32m[I 2022-06-18 13:40:48,556]\u001b[0m Trial 4 finished with value: 159771.96153846153 and parameters: {'reg_alpha': 7.235045796258711, 'reg_lambda': 3.682218056343567, 'colsample_bytree': 0.5923648980132845, 'subsample': 0.2740283553369902, 'learning_rate': 0.07017102483629183, 'max_depth': 8}. Best is trial 2 with value: 140165.46153846153.\u001b[0m\n",
      "\u001b[32m[I 2022-06-18 13:40:48,590]\u001b[0m Trial 5 finished with value: 150196.57692307694 and parameters: {'reg_alpha': 0.0030255435648896233, 'reg_lambda': 0.004621449931979882, 'colsample_bytree': 0.5586612759130218, 'subsample': 0.6011953434814488, 'learning_rate': 0.04716469469181059, 'max_depth': 8}. Best is trial 2 with value: 140165.46153846153.\u001b[0m\n",
      "\u001b[32m[I 2022-06-18 13:40:48,832]\u001b[0m Trial 6 finished with value: 163677.1923076923 and parameters: {'reg_alpha': 0.8579118232899031, 'reg_lambda': 0.13903460409924473, 'colsample_bytree': 0.24370967256692772, 'subsample': 0.8702224853514271, 'learning_rate': 0.02397427658422828, 'max_depth': 6}. Best is trial 2 with value: 140165.46153846153.\u001b[0m\n",
      "\u001b[32m[I 2022-06-18 13:40:49,125]\u001b[0m Trial 7 finished with value: 134286.5 and parameters: {'reg_alpha': 0.0654123326484349, 'reg_lambda': 0.05753624113033745, 'colsample_bytree': 0.45559276339644383, 'subsample': 0.646080216536322, 'learning_rate': 0.015409116930760629, 'max_depth': 5}. Best is trial 7 with value: 134286.5.\u001b[0m\n",
      "\u001b[32m[I 2022-06-18 13:40:49,157]\u001b[0m Trial 8 finished with value: 152798.1923076923 and parameters: {'reg_alpha': 0.0015568810651255959, 'reg_lambda': 0.057373397482725574, 'colsample_bytree': 0.552644125141216, 'subsample': 0.9240445148956209, 'learning_rate': 0.047751139456654663, 'max_depth': 6}. Best is trial 7 with value: 134286.5.\u001b[0m\n",
      "\u001b[32m[I 2022-06-18 13:40:49,195]\u001b[0m Trial 9 finished with value: 136373.0 and parameters: {'reg_alpha': 0.02210545355113295, 'reg_lambda': 2.0768189957689396, 'colsample_bytree': 0.8856198560606892, 'subsample': 0.38991591411949733, 'learning_rate': 0.058238609569001405, 'max_depth': 9}. Best is trial 7 with value: 134286.5.\u001b[0m\n",
      "\u001b[32m[I 2022-06-18 13:40:49,239]\u001b[0m Trial 10 finished with value: 145093.96153846153 and parameters: {'reg_alpha': 0.09514357739202832, 'reg_lambda': 0.0012405554218461643, 'colsample_bytree': 0.8053587982406172, 'subsample': 0.4838591617067137, 'learning_rate': 0.03231138005039238, 'max_depth': 11}. Best is trial 7 with value: 134286.5.\u001b[0m\n",
      "\u001b[32m[I 2022-06-18 13:40:49,281]\u001b[0m Trial 11 finished with value: 149235.34615384616 and parameters: {'reg_alpha': 0.03143309835267587, 'reg_lambda': 8.710452402995958, 'colsample_bytree': 0.8007150359346857, 'subsample': 0.368116555042812, 'learning_rate': 0.06785752970669119, 'max_depth': 11}. Best is trial 7 with value: 134286.5.\u001b[0m\n",
      "\u001b[32m[I 2022-06-18 13:40:49,347]\u001b[0m Trial 12 finished with value: 130516.65384615384 and parameters: {'reg_alpha': 0.11348734138154133, 'reg_lambda': 1.2503514518859762, 'colsample_bytree': 0.9905817985575702, 'subsample': 0.4731131474547415, 'learning_rate': 0.03707590461202695, 'max_depth': 9}. Best is trial 12 with value: 130516.65384615384.\u001b[0m\n",
      "\u001b[32m[I 2022-06-18 13:40:49,389]\u001b[0m Trial 13 finished with value: 151706.03846153847 and parameters: {'reg_alpha': 0.2623265271971907, 'reg_lambda': 0.07541439539088288, 'colsample_bytree': 0.7077573891397066, 'subsample': 0.5449113627728027, 'learning_rate': 0.03354602426126725, 'max_depth': 12}. Best is trial 12 with value: 130516.65384615384.\u001b[0m\n",
      "\u001b[32m[I 2022-06-18 13:40:49,434]\u001b[0m Trial 14 finished with value: 169132.11538461538 and parameters: {'reg_alpha': 0.0999902334437492, 'reg_lambda': 0.43275955375306635, 'colsample_bytree': 0.44532993650752684, 'subsample': 0.6821960895871056, 'learning_rate': 0.03440067784931654, 'max_depth': 10}. Best is trial 12 with value: 130516.65384615384.\u001b[0m\n",
      "\u001b[32m[I 2022-06-18 13:40:49,488]\u001b[0m Trial 15 finished with value: 141628.46153846153 and parameters: {'reg_alpha': 2.623492267559828, 'reg_lambda': 0.022491993928945533, 'colsample_bytree': 0.9821472948899213, 'subsample': 0.47863320879468807, 'learning_rate': 0.02358458212525709, 'max_depth': 3}. Best is trial 12 with value: 130516.65384615384.\u001b[0m\n",
      "\u001b[32m[I 2022-06-18 13:40:49,552]\u001b[0m Trial 16 finished with value: 159608.03846153847 and parameters: {'reg_alpha': 0.262402468050045, 'reg_lambda': 1.3814222147620645, 'colsample_bytree': 0.6670337616748186, 'subsample': 0.6168062545668213, 'learning_rate': 0.0108469703990311, 'max_depth': 5}. Best is trial 12 with value: 130516.65384615384.\u001b[0m\n",
      "\u001b[32m[I 2022-06-18 13:40:49,709]\u001b[0m Trial 17 finished with value: 129287.15384615384 and parameters: {'reg_alpha': 0.03798297999764813, 'reg_lambda': 0.15732738131894936, 'colsample_bytree': 0.47120029409347775, 'subsample': 0.2186084962390331, 'learning_rate': 0.04456412471235921, 'max_depth': 7}. Best is trial 17 with value: 129287.15384615384.\u001b[0m\n",
      "\u001b[32m[I 2022-06-18 13:40:49,748]\u001b[0m Trial 18 finished with value: 443661.1923076923 and parameters: {'reg_alpha': 0.016903301523905456, 'reg_lambda': 0.2076037164364284, 'colsample_bytree': 0.21199169233467147, 'subsample': 0.21236567413991286, 'learning_rate': 0.04515872905012464, 'max_depth': 9}. Best is trial 17 with value: 129287.15384615384.\u001b[0m\n",
      "\u001b[32m[I 2022-06-18 13:40:49,791]\u001b[0m Trial 19 finished with value: 133613.3076923077 and parameters: {'reg_alpha': 0.24332923222765754, 'reg_lambda': 1.1780072374905248, 'colsample_bytree': 0.9738731295057578, 'subsample': 0.3146555721397213, 'learning_rate': 0.05927107669792025, 'max_depth': 7}. Best is trial 17 with value: 129287.15384615384.\u001b[0m\n",
      "\u001b[32m[I 2022-06-18 13:40:49,834]\u001b[0m Trial 20 finished with value: 166137.5 and parameters: {'reg_alpha': 0.009268779413524839, 'reg_lambda': 9.035135754865044, 'colsample_bytree': 0.6781149012151699, 'subsample': 0.22002152104149453, 'learning_rate': 0.04010847546091297, 'max_depth': 9}. Best is trial 17 with value: 129287.15384615384.\u001b[0m\n",
      "\u001b[32m[I 2022-06-18 13:40:50,008]\u001b[0m Trial 21 finished with value: 131756.38461538462 and parameters: {'reg_alpha': 0.2908353997112989, 'reg_lambda': 1.2482188079480048, 'colsample_bytree': 0.9704267265179202, 'subsample': 0.331116064603572, 'learning_rate': 0.056086791729007164, 'max_depth': 7}. Best is trial 17 with value: 129287.15384615384.\u001b[0m\n",
      "\u001b[32m[I 2022-06-18 13:40:50,118]\u001b[0m Trial 22 finished with value: 139472.88461538462 and parameters: {'reg_alpha': 0.05001347095623686, 'reg_lambda': 3.327565260766969, 'colsample_bytree': 0.901075975552659, 'subsample': 0.41592437950666394, 'learning_rate': 0.053704611633783136, 'max_depth': 7}. Best is trial 17 with value: 129287.15384615384.\u001b[0m\n",
      "\u001b[32m[I 2022-06-18 13:40:50,171]\u001b[0m Trial 23 finished with value: 142709.5 and parameters: {'reg_alpha': 0.5356401695898841, 'reg_lambda': 0.24811206479244552, 'colsample_bytree': 0.7550452576154891, 'subsample': 0.3152303999681425, 'learning_rate': 0.06330032388139394, 'max_depth': 7}. Best is trial 17 with value: 129287.15384615384.\u001b[0m\n"
     ]
    },
    {
     "name": "stderr",
     "output_type": "stream",
     "text": [
      "\u001b[32m[I 2022-06-18 13:40:50,218]\u001b[0m Trial 24 finished with value: 131355.88461538462 and parameters: {'reg_alpha': 1.8467702948177502, 'reg_lambda': 1.1424121218364458, 'colsample_bytree': 0.9892968820524953, 'subsample': 0.4872054989838681, 'learning_rate': 0.07889300554841881, 'max_depth': 10}. Best is trial 17 with value: 129287.15384615384.\u001b[0m\n",
      "\u001b[32m[I 2022-06-18 13:40:50,256]\u001b[0m Trial 25 finished with value: 142895.1923076923 and parameters: {'reg_alpha': 1.5912676214097485, 'reg_lambda': 0.79905180154309, 'colsample_bytree': 0.4435410082976854, 'subsample': 0.5194759093281844, 'learning_rate': 0.09699443407221002, 'max_depth': 10}. Best is trial 17 with value: 129287.15384615384.\u001b[0m\n",
      "\u001b[32m[I 2022-06-18 13:40:50,301]\u001b[0m Trial 26 finished with value: 133518.26923076922 and parameters: {'reg_alpha': 9.666263779666323, 'reg_lambda': 4.349623914105483, 'colsample_bytree': 0.9203980155419845, 'subsample': 0.433727818571393, 'learning_rate': 0.08298762307702601, 'max_depth': 10}. Best is trial 17 with value: 129287.15384615384.\u001b[0m\n",
      "\u001b[32m[I 2022-06-18 13:40:50,426]\u001b[0m Trial 27 finished with value: 137275.5 and parameters: {'reg_alpha': 4.081065450428521, 'reg_lambda': 0.03095336746766397, 'colsample_bytree': 0.286682261980736, 'subsample': 0.7826632870701576, 'learning_rate': 0.0772832310977947, 'max_depth': 12}. Best is trial 17 with value: 129287.15384615384.\u001b[0m\n",
      "\u001b[32m[I 2022-06-18 13:40:50,462]\u001b[0m Trial 28 finished with value: 145619.57692307694 and parameters: {'reg_alpha': 0.16153310592490894, 'reg_lambda': 0.2781711741133534, 'colsample_bytree': 0.8314867095533138, 'subsample': 0.5580138231335114, 'learning_rate': 0.093796378495359, 'max_depth': 11}. Best is trial 17 with value: 129287.15384615384.\u001b[0m\n",
      "\u001b[32m[I 2022-06-18 13:40:50,647]\u001b[0m Trial 29 finished with value: 130007.42307692308 and parameters: {'reg_alpha': 0.008332656307191835, 'reg_lambda': 0.1253733225142088, 'colsample_bytree': 0.49644057307111333, 'subsample': 0.47558924789900625, 'learning_rate': 0.022671248789398017, 'max_depth': 9}. Best is trial 17 with value: 129287.15384615384.\u001b[0m\n",
      "\u001b[32m[I 2022-06-18 13:40:50,730]\u001b[0m Trial 30 finished with value: 169580.65384615384 and parameters: {'reg_alpha': 0.007366011383160919, 'reg_lambda': 0.12390232827149054, 'colsample_bytree': 0.3890708904896263, 'subsample': 0.8207646885818449, 'learning_rate': 0.02312440755984861, 'max_depth': 9}. Best is trial 17 with value: 129287.15384615384.\u001b[0m\n",
      "\u001b[32m[I 2022-06-18 13:40:50,838]\u001b[0m Trial 31 finished with value: 138447.46153846153 and parameters: {'reg_alpha': 0.03154901524129585, 'reg_lambda': 0.6970921912591487, 'colsample_bytree': 0.5032950722039873, 'subsample': 0.4531195128282519, 'learning_rate': 0.0398516274595701, 'max_depth': 10}. Best is trial 17 with value: 129287.15384615384.\u001b[0m\n",
      "\u001b[32m[I 2022-06-18 13:40:50,967]\u001b[0m Trial 32 finished with value: 144582.5 and parameters: {'reg_alpha': 0.01382276601596481, 'reg_lambda': 0.007623441436990043, 'colsample_bytree': 0.4995905153598429, 'subsample': 0.5291221874119111, 'learning_rate': 0.029144625118614678, 'max_depth': 8}. Best is trial 17 with value: 129287.15384615384.\u001b[0m\n",
      "\u001b[32m[I 2022-06-18 13:40:51,008]\u001b[0m Trial 33 finished with value: 149718.46153846153 and parameters: {'reg_alpha': 0.005015737638501475, 'reg_lambda': 0.04144285601113708, 'colsample_bytree': 0.613817828134658, 'subsample': 0.3689627261323975, 'learning_rate': 0.040688749475871415, 'max_depth': 9}. Best is trial 17 with value: 129287.15384615384.\u001b[0m\n",
      "\u001b[32m[I 2022-06-18 13:40:51,342]\u001b[0m Trial 34 finished with value: 156423.8076923077 and parameters: {'reg_alpha': 0.03681182770111762, 'reg_lambda': 0.35736138810224216, 'colsample_bytree': 0.37236875600271957, 'subsample': 0.2555664881457316, 'learning_rate': 0.019497504309662336, 'max_depth': 10}. Best is trial 17 with value: 129287.15384615384.\u001b[0m\n",
      "\u001b[32m[I 2022-06-18 13:40:51,406]\u001b[0m Trial 35 finished with value: 143399.34615384616 and parameters: {'reg_alpha': 1.5908089166483588, 'reg_lambda': 0.14829150640932987, 'colsample_bytree': 0.8461633315564407, 'subsample': 0.9835954615590696, 'learning_rate': 0.02811089314320485, 'max_depth': 8}. Best is trial 17 with value: 129287.15384615384.\u001b[0m\n",
      "\u001b[32m[I 2022-06-18 13:40:51,454]\u001b[0m Trial 36 finished with value: 132533.61538461538 and parameters: {'reg_alpha': 0.0013010609550137872, 'reg_lambda': 2.0246990916263634, 'colsample_bytree': 0.9390418149782936, 'subsample': 0.5756794655098862, 'learning_rate': 0.05101107845697107, 'max_depth': 8}. Best is trial 17 with value: 129287.15384615384.\u001b[0m\n",
      "\u001b[32m[I 2022-06-18 13:40:51,493]\u001b[0m Trial 37 finished with value: 135733.57692307694 and parameters: {'reg_alpha': 0.004875028526217377, 'reg_lambda': 0.6446243340052491, 'colsample_bytree': 0.48625832404062486, 'subsample': 0.47904540219766517, 'learning_rate': 0.0845800644873423, 'max_depth': 9}. Best is trial 17 with value: 129287.15384615384.\u001b[0m\n",
      "\u001b[32m[I 2022-06-18 13:40:51,545]\u001b[0m Trial 38 finished with value: 149887.15384615384 and parameters: {'reg_alpha': 0.002580332787305415, 'reg_lambda': 0.00918477174412776, 'colsample_bytree': 0.6226541479121505, 'subsample': 0.6573858242554041, 'learning_rate': 0.037439056554707514, 'max_depth': 11}. Best is trial 17 with value: 129287.15384615384.\u001b[0m\n",
      "\u001b[32m[I 2022-06-18 13:40:51,609]\u001b[0m Trial 39 finished with value: 191066.53846153847 and parameters: {'reg_alpha': 0.06271671099452204, 'reg_lambda': 0.09434568823739886, 'colsample_bytree': 0.37572752962063527, 'subsample': 0.41010808914737656, 'learning_rate': 0.04439883314192104, 'max_depth': 5}. Best is trial 17 with value: 129287.15384615384.\u001b[0m\n",
      "\u001b[32m[I 2022-06-18 13:40:52,171]\u001b[0m Trial 40 finished with value: 141884.6923076923 and parameters: {'reg_alpha': 0.5537637060529502, 'reg_lambda': 5.152823870376301, 'colsample_bytree': 0.30416387400394573, 'subsample': 0.7217940325737322, 'learning_rate': 0.07426018295128674, 'max_depth': 6}. Best is trial 17 with value: 129287.15384615384.\u001b[0m\n",
      "\u001b[32m[I 2022-06-18 13:40:52,229]\u001b[0m Trial 41 finished with value: 129459.53846153847 and parameters: {'reg_alpha': 0.13027376918535072, 'reg_lambda': 1.1110376700421105, 'colsample_bytree': 0.9935609455571897, 'subsample': 0.3197956523689733, 'learning_rate': 0.049696372003685194, 'max_depth': 7}. Best is trial 17 with value: 129287.15384615384.\u001b[0m\n",
      "\u001b[32m[I 2022-06-18 13:40:52,300]\u001b[0m Trial 42 finished with value: 127452.0 and parameters: {'reg_alpha': 0.12359032534418755, 'reg_lambda': 2.58485217812468, 'colsample_bytree': 0.9975436685989286, 'subsample': 0.27402905395829225, 'learning_rate': 0.05081768357540542, 'max_depth': 8}. Best is trial 42 with value: 127452.0.\u001b[0m\n",
      "\u001b[32m[I 2022-06-18 13:40:52,364]\u001b[0m Trial 43 finished with value: 130574.46153846153 and parameters: {'reg_alpha': 0.152640814935454, 'reg_lambda': 2.6836800753024703, 'colsample_bytree': 0.9354200055709048, 'subsample': 0.26217819905858475, 'learning_rate': 0.05016669380763927, 'max_depth': 7}. Best is trial 42 with value: 127452.0.\u001b[0m\n",
      "\u001b[32m[I 2022-06-18 13:40:52,420]\u001b[0m Trial 44 finished with value: 135054.88461538462 and parameters: {'reg_alpha': 0.1458258930470257, 'reg_lambda': 6.107104075403302, 'colsample_bytree': 0.8680964959005939, 'subsample': 0.2869744537949885, 'learning_rate': 0.06165754264478241, 'max_depth': 8}. Best is trial 42 with value: 127452.0.\u001b[0m\n",
      "\u001b[32m[I 2022-06-18 13:40:52,466]\u001b[0m Trial 45 finished with value: 153852.3076923077 and parameters: {'reg_alpha': 0.06938326922989976, 'reg_lambda': 1.8502665599952355, 'colsample_bytree': 0.5724861613823494, 'subsample': 0.34702607679364417, 'learning_rate': 0.04406758874912929, 'max_depth': 6}. Best is trial 42 with value: 127452.0.\u001b[0m\n",
      "\u001b[32m[I 2022-06-18 13:40:52,530]\u001b[0m Trial 46 finished with value: 159222.03846153847 and parameters: {'reg_alpha': 0.02348226035328198, 'reg_lambda': 0.5353375546360672, 'colsample_bytree': 0.5302630066130957, 'subsample': 0.22790384543965014, 'learning_rate': 0.01794704764105799, 'max_depth': 8}. Best is trial 42 with value: 127452.0.\u001b[0m\n",
      "\u001b[32m[I 2022-06-18 13:40:52,874]\u001b[0m Trial 47 finished with value: 145579.38461538462 and parameters: {'reg_alpha': 0.39282350817921524, 'reg_lambda': 0.18586301268699804, 'colsample_bytree': 0.4091167835449596, 'subsample': 0.28050158433263384, 'learning_rate': 0.029282265676976716, 'max_depth': 7}. Best is trial 42 with value: 127452.0.\u001b[0m\n"
     ]
    },
    {
     "name": "stderr",
     "output_type": "stream",
     "text": [
      "\u001b[32m[I 2022-06-18 13:40:52,947]\u001b[0m Trial 48 finished with value: 144939.07692307694 and parameters: {'reg_alpha': 0.14104649253635274, 'reg_lambda': 0.001339893326588861, 'colsample_bytree': 0.7484293317137618, 'subsample': 0.20072253469459653, 'learning_rate': 0.053302753219974686, 'max_depth': 4}. Best is trial 42 with value: 127452.0.\u001b[0m\n",
      "\u001b[32m[I 2022-06-18 13:40:53,005]\u001b[0m Trial 49 finished with value: 134860.92307692306 and parameters: {'reg_alpha': 0.04348848938096238, 'reg_lambda': 0.06837509443402315, 'colsample_bytree': 0.9452090185841313, 'subsample': 0.383590217128183, 'learning_rate': 0.04799224479990028, 'max_depth': 6}. Best is trial 42 with value: 127452.0.\u001b[0m\n",
      "\u001b[32m[I 2022-06-18 13:40:53,048]\u001b[0m Trial 50 finished with value: 145271.84615384616 and parameters: {'reg_alpha': 0.08768955182188186, 'reg_lambda': 0.9108175835109615, 'colsample_bytree': 0.8742616211844022, 'subsample': 0.2550104680864034, 'learning_rate': 0.0349567095059526, 'max_depth': 8}. Best is trial 42 with value: 127452.0.\u001b[0m\n",
      "\u001b[32m[I 2022-06-18 13:40:53,123]\u001b[0m Trial 51 finished with value: 124203.34615384616 and parameters: {'reg_alpha': 0.16922182955712478, 'reg_lambda': 2.674677368133608, 'colsample_bytree': 0.9959489497166759, 'subsample': 0.2916378719655471, 'learning_rate': 0.04840970939863171, 'max_depth': 7}. Best is trial 51 with value: 124203.34615384616.\u001b[0m\n",
      "\u001b[32m[I 2022-06-18 13:40:53,236]\u001b[0m Trial 52 finished with value: 126286.73076923077 and parameters: {'reg_alpha': 0.819402068734843, 'reg_lambda': 2.73318985387537, 'colsample_bytree': 0.9961572303308973, 'subsample': 0.3003181140172784, 'learning_rate': 0.0656288346293395, 'max_depth': 7}. Best is trial 51 with value: 124203.34615384616.\u001b[0m\n",
      "\u001b[32m[I 2022-06-18 13:40:53,294]\u001b[0m Trial 53 finished with value: 127660.46153846153 and parameters: {'reg_alpha': 1.0979952799374952, 'reg_lambda': 6.197670411457475, 'colsample_bytree': 0.998881384663294, 'subsample': 0.3003189492450128, 'learning_rate': 0.06747043641927089, 'max_depth': 6}. Best is trial 51 with value: 124203.34615384616.\u001b[0m\n",
      "\u001b[32m[I 2022-06-18 13:40:53,362]\u001b[0m Trial 54 finished with value: 138545.46153846153 and parameters: {'reg_alpha': 0.9155934400668209, 'reg_lambda': 6.663305110679962, 'colsample_bytree': 0.9152421341608187, 'subsample': 0.3030033919205222, 'learning_rate': 0.06763954073163383, 'max_depth': 6}. Best is trial 51 with value: 124203.34615384616.\u001b[0m\n",
      "\u001b[32m[I 2022-06-18 13:40:53,427]\u001b[0m Trial 55 finished with value: 127028.30769230769 and parameters: {'reg_alpha': 0.8704670228386965, 'reg_lambda': 3.1420786245341987, 'colsample_bytree': 0.9949902474207548, 'subsample': 0.338608063005193, 'learning_rate': 0.06515502630642943, 'max_depth': 5}. Best is trial 51 with value: 124203.34615384616.\u001b[0m\n",
      "\u001b[32m[I 2022-06-18 13:40:53,489]\u001b[0m Trial 56 finished with value: 135024.11538461538 and parameters: {'reg_alpha': 0.7119304207081919, 'reg_lambda': 3.2404418336899115, 'colsample_bytree': 0.9559150420668374, 'subsample': 0.23740244178856607, 'learning_rate': 0.06544959712168591, 'max_depth': 5}. Best is trial 51 with value: 124203.34615384616.\u001b[0m\n",
      "\u001b[32m[I 2022-06-18 13:40:53,554]\u001b[0m Trial 57 finished with value: 117769.19230769231 and parameters: {'reg_alpha': 1.0563834580938822, 'reg_lambda': 2.352227690276138, 'colsample_bytree': 0.996160273120882, 'subsample': 0.3386895225277215, 'learning_rate': 0.056636483307196346, 'max_depth': 5}. Best is trial 57 with value: 117769.19230769231.\u001b[0m\n",
      "\u001b[32m[I 2022-06-18 13:40:53,610]\u001b[0m Trial 58 finished with value: 130773.69230769231 and parameters: {'reg_alpha': 0.9840195813127122, 'reg_lambda': 9.368478660942612, 'colsample_bytree': 0.9990229886644643, 'subsample': 0.3531828215428643, 'learning_rate': 0.07226013781417939, 'max_depth': 4}. Best is trial 57 with value: 117769.19230769231.\u001b[0m\n",
      "\u001b[32m[I 2022-06-18 13:40:53,675]\u001b[0m Trial 59 finished with value: 136870.73076923078 and parameters: {'reg_alpha': 1.2314975697797588, 'reg_lambda': 2.7658209641586566, 'colsample_bytree': 0.8988828798484017, 'subsample': 0.39506477416344854, 'learning_rate': 0.05861469438729872, 'max_depth': 5}. Best is trial 57 with value: 117769.19230769231.\u001b[0m\n",
      "\u001b[32m[I 2022-06-18 13:40:53,750]\u001b[0m Trial 60 finished with value: 129992.96153846153 and parameters: {'reg_alpha': 3.451222523163177, 'reg_lambda': 1.6925921265861297, 'colsample_bytree': 0.9567495821980667, 'subsample': 0.29162446699127553, 'learning_rate': 0.05563305643624703, 'max_depth': 4}. Best is trial 57 with value: 117769.19230769231.\u001b[0m\n",
      "\u001b[32m[I 2022-06-18 13:40:53,829]\u001b[0m Trial 61 finished with value: 132364.6923076923 and parameters: {'reg_alpha': 0.37805694798591105, 'reg_lambda': 4.11933034450695, 'colsample_bytree': 0.96581678501701, 'subsample': 0.3401590052404481, 'learning_rate': 0.06216275556207764, 'max_depth': 3}. Best is trial 57 with value: 117769.19230769231.\u001b[0m\n",
      "\u001b[32m[I 2022-06-18 13:40:53,895]\u001b[0m Trial 62 finished with value: 139353.61538461538 and parameters: {'reg_alpha': 2.0479572046419032, 'reg_lambda': 2.4607198485670376, 'colsample_bytree': 0.9164011342144368, 'subsample': 0.24139222301310517, 'learning_rate': 0.0697232051863885, 'max_depth': 6}. Best is trial 57 with value: 117769.19230769231.\u001b[0m\n",
      "\u001b[32m[I 2022-06-18 13:40:53,950]\u001b[0m Trial 63 finished with value: 126476.0 and parameters: {'reg_alpha': 5.1901489741003415, 'reg_lambda': 6.0534769132488435, 'colsample_bytree': 0.9951694152684921, 'subsample': 0.27559383809082855, 'learning_rate': 0.06527239255116075, 'max_depth': 6}. Best is trial 57 with value: 117769.19230769231.\u001b[0m\n",
      "\u001b[32m[I 2022-06-18 13:40:54,006]\u001b[0m Trial 64 finished with value: 133577.76923076922 and parameters: {'reg_alpha': 3.7203926210623655, 'reg_lambda': 6.794788773584763, 'colsample_bytree': 0.9722335433027512, 'subsample': 0.2702165643574394, 'learning_rate': 0.06518002046522019, 'max_depth': 5}. Best is trial 57 with value: 117769.19230769231.\u001b[0m\n",
      "\u001b[32m[I 2022-06-18 13:40:54,101]\u001b[0m Trial 65 finished with value: 130001.88461538461 and parameters: {'reg_alpha': 4.7699222830465375, 'reg_lambda': 4.504907902815226, 'colsample_bytree': 0.9989020181096712, 'subsample': 0.30367155123683975, 'learning_rate': 0.05960949173675689, 'max_depth': 6}. Best is trial 57 with value: 117769.19230769231.\u001b[0m\n",
      "\u001b[32m[I 2022-06-18 13:40:54,205]\u001b[0m Trial 66 finished with value: 131243.38461538462 and parameters: {'reg_alpha': 1.1306459296577513, 'reg_lambda': 1.5688722470978862, 'colsample_bytree': 0.9319300747565314, 'subsample': 0.3643001351133088, 'learning_rate': 0.06929140541658854, 'max_depth': 5}. Best is trial 57 with value: 117769.19230769231.\u001b[0m\n",
      "\u001b[32m[I 2022-06-18 13:40:54,316]\u001b[0m Trial 67 finished with value: 138827.65384615384 and parameters: {'reg_alpha': 2.59221422658281, 'reg_lambda': 3.7403036508878844, 'colsample_bytree': 0.891768632450973, 'subsample': 0.3283362733775787, 'learning_rate': 0.07269206996967387, 'max_depth': 6}. Best is trial 57 with value: 117769.19230769231.\u001b[0m\n",
      "\u001b[32m[I 2022-06-18 13:40:54,373]\u001b[0m Trial 68 finished with value: 139886.65384615384 and parameters: {'reg_alpha': 5.875142700031723, 'reg_lambda': 5.763820770389504, 'colsample_bytree': 0.8582229845226638, 'subsample': 0.43822659939442066, 'learning_rate': 0.05689898785796179, 'max_depth': 6}. Best is trial 57 with value: 117769.19230769231.\u001b[0m\n",
      "\u001b[32m[I 2022-06-18 13:40:54,449]\u001b[0m Trial 69 finished with value: 141732.3076923077 and parameters: {'reg_alpha': 0.4038508057944334, 'reg_lambda': 7.79043442047994, 'colsample_bytree': 0.8264237804752362, 'subsample': 0.38154150893783, 'learning_rate': 0.052949795879151114, 'max_depth': 5}. Best is trial 57 with value: 117769.19230769231.\u001b[0m\n",
      "\u001b[32m[I 2022-06-18 13:40:54,498]\u001b[0m Trial 70 finished with value: 127847.84615384616 and parameters: {'reg_alpha': 0.6572322256485403, 'reg_lambda': 2.376896740451463, 'colsample_bytree': 0.9704654319812674, 'subsample': 0.2804737730380614, 'learning_rate': 0.0648073648695096, 'max_depth': 7}. Best is trial 57 with value: 117769.19230769231.\u001b[0m\n",
      "\u001b[32m[I 2022-06-18 13:40:54,550]\u001b[0m Trial 71 finished with value: 131157.15384615384 and parameters: {'reg_alpha': 0.21905040682404703, 'reg_lambda': 2.366910646881482, 'colsample_bytree': 0.9727447010331837, 'subsample': 0.2755575439958262, 'learning_rate': 0.06547823057459885, 'max_depth': 7}. Best is trial 57 with value: 117769.19230769231.\u001b[0m\n"
     ]
    },
    {
     "name": "stderr",
     "output_type": "stream",
     "text": [
      "\u001b[32m[I 2022-06-18 13:40:54,609]\u001b[0m Trial 72 finished with value: 123714.69230769231 and parameters: {'reg_alpha': 0.7268148548120621, 'reg_lambda': 3.257816456080248, 'colsample_bytree': 0.9553685015810953, 'subsample': 0.30389265029848117, 'learning_rate': 0.07802034224569462, 'max_depth': 7}. Best is trial 57 with value: 117769.19230769231.\u001b[0m\n",
      "\u001b[32m[I 2022-06-18 13:40:54,664]\u001b[0m Trial 73 finished with value: 127061.42307692308 and parameters: {'reg_alpha': 1.3338840656797681, 'reg_lambda': 3.4733861073800694, 'colsample_bytree': 0.9447630016642392, 'subsample': 0.3210375458338141, 'learning_rate': 0.07922089353991199, 'max_depth': 7}. Best is trial 57 with value: 117769.19230769231.\u001b[0m\n",
      "\u001b[32m[I 2022-06-18 13:40:54,716]\u001b[0m Trial 74 finished with value: 135141.96153846153 and parameters: {'reg_alpha': 9.798262890914913, 'reg_lambda': 3.342500209184591, 'colsample_bytree': 0.9494917378337534, 'subsample': 0.32869732925418005, 'learning_rate': 0.08150338242180717, 'max_depth': 7}. Best is trial 57 with value: 117769.19230769231.\u001b[0m\n",
      "\u001b[32m[I 2022-06-18 13:40:54,771]\u001b[0m Trial 75 finished with value: 140375.76923076922 and parameters: {'reg_alpha': 1.4057077420911415, 'reg_lambda': 9.969821004392218, 'colsample_bytree': 0.9141982603602553, 'subsample': 0.2404780722470735, 'learning_rate': 0.07906594358793419, 'max_depth': 8}. Best is trial 57 with value: 117769.19230769231.\u001b[0m\n",
      "\u001b[32m[I 2022-06-18 13:40:54,821]\u001b[0m Trial 76 finished with value: 124235.46153846153 and parameters: {'reg_alpha': 0.8007791967355341, 'reg_lambda': 4.862853371131482, 'colsample_bytree': 0.9342824947370839, 'subsample': 0.3443463112813109, 'learning_rate': 0.07698412348825448, 'max_depth': 7}. Best is trial 57 with value: 117769.19230769231.\u001b[0m\n",
      "\u001b[32m[I 2022-06-18 13:40:54,862]\u001b[0m Trial 77 finished with value: 143823.6923076923 and parameters: {'reg_alpha': 2.585406671577957, 'reg_lambda': 4.731826421230049, 'colsample_bytree': 0.8842655438254482, 'subsample': 0.4099526773318922, 'learning_rate': 0.08702743424809165, 'max_depth': 7}. Best is trial 57 with value: 117769.19230769231.\u001b[0m\n",
      "\u001b[32m[I 2022-06-18 13:40:54,948]\u001b[0m Trial 78 finished with value: 131097.76923076922 and parameters: {'reg_alpha': 0.7659085379339177, 'reg_lambda': 1.462595663163602, 'colsample_bytree': 0.9322889214905841, 'subsample': 0.3699123319629553, 'learning_rate': 0.07674629643085207, 'max_depth': 7}. Best is trial 57 with value: 117769.19230769231.\u001b[0m\n",
      "\u001b[32m[I 2022-06-18 13:40:55,028]\u001b[0m Trial 79 finished with value: 128969.15384615384 and parameters: {'reg_alpha': 0.4531569502019737, 'reg_lambda': 3.3541897168017965, 'colsample_bytree': 0.954471283211174, 'subsample': 0.33546077160631577, 'learning_rate': 0.09356138698174798, 'max_depth': 6}. Best is trial 57 with value: 117769.19230769231.\u001b[0m\n",
      "\u001b[32m[I 2022-06-18 13:40:55,109]\u001b[0m Trial 80 finished with value: 141011.1923076923 and parameters: {'reg_alpha': 2.057038731669138, 'reg_lambda': 7.590505998058785, 'colsample_bytree': 0.7945888062442497, 'subsample': 0.3552781085447183, 'learning_rate': 0.09014245117804524, 'max_depth': 6}. Best is trial 57 with value: 117769.19230769231.\u001b[0m\n",
      "\u001b[32m[I 2022-06-18 13:40:55,198]\u001b[0m Trial 81 finished with value: 127804.34615384616 and parameters: {'reg_alpha': 0.20264629135519702, 'reg_lambda': 1.909182124292595, 'colsample_bytree': 0.9806829931078549, 'subsample': 0.2955320629585115, 'learning_rate': 0.08126828698523872, 'max_depth': 8}. Best is trial 57 with value: 117769.19230769231.\u001b[0m\n",
      "\u001b[32m[I 2022-06-18 13:40:55,384]\u001b[0m Trial 82 finished with value: 141009.88461538462 and parameters: {'reg_alpha': 0.3033731956396089, 'reg_lambda': 0.9748461944755393, 'colsample_bytree': 0.9097946803768495, 'subsample': 0.31573212814176027, 'learning_rate': 0.07375362615464323, 'max_depth': 7}. Best is trial 57 with value: 117769.19230769231.\u001b[0m\n",
      "\u001b[32m[I 2022-06-18 13:40:55,437]\u001b[0m Trial 83 finished with value: 130369.34615384616 and parameters: {'reg_alpha': 0.542830116123419, 'reg_lambda': 4.923612128486039, 'colsample_bytree': 0.97701011862135, 'subsample': 0.2539615410537375, 'learning_rate': 0.06053741296187021, 'max_depth': 7}. Best is trial 57 with value: 117769.19230769231.\u001b[0m\n",
      "\u001b[32m[I 2022-06-18 13:40:55,488]\u001b[0m Trial 84 finished with value: 128885.5 and parameters: {'reg_alpha': 0.8411764579229839, 'reg_lambda': 3.0856595298754934, 'colsample_bytree': 0.9282498150232524, 'subsample': 0.20108342518387567, 'learning_rate': 0.07671052138707123, 'max_depth': 8}. Best is trial 57 with value: 117769.19230769231.\u001b[0m\n",
      "\u001b[32m[I 2022-06-18 13:40:55,537]\u001b[0m Trial 85 finished with value: 127624.30769230769 and parameters: {'reg_alpha': 0.31075234522574624, 'reg_lambda': 2.2007012827719854, 'colsample_bytree': 0.9547504378758832, 'subsample': 0.39775849417455733, 'learning_rate': 0.07204220991655443, 'max_depth': 7}. Best is trial 57 with value: 117769.19230769231.\u001b[0m\n",
      "\u001b[32m[I 2022-06-18 13:40:55,583]\u001b[0m Trial 86 finished with value: 127861.11538461539 and parameters: {'reg_alpha': 1.4932471036929091, 'reg_lambda': 3.8762860387666653, 'colsample_bytree': 0.9992336346342969, 'subsample': 0.22487724794713965, 'learning_rate': 0.08627152390923225, 'max_depth': 7}. Best is trial 57 with value: 117769.19230769231.\u001b[0m\n",
      "\u001b[32m[I 2022-06-18 13:40:55,630]\u001b[0m Trial 87 finished with value: 136287.65384615384 and parameters: {'reg_alpha': 6.622991963130878, 'reg_lambda': 1.3591383887522481, 'colsample_bytree': 0.9809478174002523, 'subsample': 0.31686635265275603, 'learning_rate': 0.07887128976147983, 'max_depth': 8}. Best is trial 57 with value: 117769.19230769231.\u001b[0m\n",
      "\u001b[32m[I 2022-06-18 13:40:55,698]\u001b[0m Trial 88 finished with value: 129736.61538461539 and parameters: {'reg_alpha': 0.6119448942281075, 'reg_lambda': 2.7824952251367305, 'colsample_bytree': 0.9393660272628533, 'subsample': 0.2581446967765566, 'learning_rate': 0.046660870580675314, 'max_depth': 5}. Best is trial 57 with value: 117769.19230769231.\u001b[0m\n",
      "\u001b[32m[I 2022-06-18 13:40:55,794]\u001b[0m Trial 89 finished with value: 140668.88461538462 and parameters: {'reg_alpha': 1.7922133524996429, 'reg_lambda': 5.363397070641067, 'colsample_bytree': 0.8968867818606867, 'subsample': 0.43510556858302624, 'learning_rate': 0.042270432067841084, 'max_depth': 4}. Best is trial 57 with value: 117769.19230769231.\u001b[0m\n",
      "\u001b[32m[I 2022-06-18 13:40:57,075]\u001b[0m Trial 90 finished with value: 139161.07692307694 and parameters: {'reg_alpha': 0.19534638921710112, 'reg_lambda': 2.0168434705362785, 'colsample_bytree': 0.8488966844734958, 'subsample': 0.3592581652107977, 'learning_rate': 0.06327720302311222, 'max_depth': 6}. Best is trial 57 with value: 117769.19230769231.\u001b[0m\n",
      "\u001b[32m[I 2022-06-18 13:40:57,311]\u001b[0m Trial 91 finished with value: 126578.34615384616 and parameters: {'reg_alpha': 0.32874195873207546, 'reg_lambda': 2.1332680453451007, 'colsample_bytree': 0.954079318305003, 'subsample': 0.3963141204568714, 'learning_rate': 0.07036852071736639, 'max_depth': 7}. Best is trial 57 with value: 117769.19230769231.\u001b[0m\n",
      "\u001b[32m[I 2022-06-18 13:41:00,657]\u001b[0m Trial 92 finished with value: 124476.57692307692 and parameters: {'reg_alpha': 0.47372201191159546, 'reg_lambda': 3.740350788905525, 'colsample_bytree': 0.9593691148480951, 'subsample': 0.3077189582904477, 'learning_rate': 0.07051036670298719, 'max_depth': 7}. Best is trial 57 with value: 117769.19230769231.\u001b[0m\n",
      "\u001b[32m[I 2022-06-18 13:41:01,528]\u001b[0m Trial 93 finished with value: 129180.0 and parameters: {'reg_alpha': 0.48897498128961414, 'reg_lambda': 3.8058018772073154, 'colsample_bytree': 0.9463728764463568, 'subsample': 0.3418546940947992, 'learning_rate': 0.071089192766553, 'max_depth': 7}. Best is trial 57 with value: 117769.19230769231.\u001b[0m\n",
      "\u001b[32m[I 2022-06-18 13:41:01,726]\u001b[0m Trial 94 finished with value: 127503.23076923077 and parameters: {'reg_alpha': 0.33085455002792596, 'reg_lambda': 4.529802042434628, 'colsample_bytree': 0.9585707436233136, 'subsample': 0.2955084662459473, 'learning_rate': 0.07456596483377559, 'max_depth': 7}. Best is trial 57 with value: 117769.19230769231.\u001b[0m\n",
      "\u001b[32m[I 2022-06-18 13:41:02,559]\u001b[0m Trial 95 finished with value: 128556.73076923077 and parameters: {'reg_alpha': 0.789117986117262, 'reg_lambda': 1.6960740768561937, 'colsample_bytree': 0.9785253435868785, 'subsample': 0.37252209828079547, 'learning_rate': 0.06861795067413713, 'max_depth': 7}. Best is trial 57 with value: 117769.19230769231.\u001b[0m\n"
     ]
    },
    {
     "name": "stderr",
     "output_type": "stream",
     "text": [
      "\u001b[32m[I 2022-06-18 13:41:02,660]\u001b[0m Trial 96 finished with value: 135990.65384615384 and parameters: {'reg_alpha': 0.25583204054677566, 'reg_lambda': 7.804314512709315, 'colsample_bytree': 0.9218234475442613, 'subsample': 0.31136237455346816, 'learning_rate': 0.07566193891361449, 'max_depth': 6}. Best is trial 57 with value: 117769.19230769231.\u001b[0m\n",
      "\u001b[32m[I 2022-06-18 13:41:02,706]\u001b[0m Trial 97 finished with value: 139057.11538461538 and parameters: {'reg_alpha': 0.9686969312726749, 'reg_lambda': 5.647404033035329, 'colsample_bytree': 0.8792597298954425, 'subsample': 0.49995962260932636, 'learning_rate': 0.08242691699773788, 'max_depth': 5}. Best is trial 57 with value: 117769.19230769231.\u001b[0m\n",
      "\u001b[32m[I 2022-06-18 13:41:02,758]\u001b[0m Trial 98 finished with value: 137883.96153846153 and parameters: {'reg_alpha': 0.6317255791206301, 'reg_lambda': 3.230046082404312, 'colsample_bytree': 0.9030295943414413, 'subsample': 0.41923126065219485, 'learning_rate': 0.07073891208757419, 'max_depth': 6}. Best is trial 57 with value: 117769.19230769231.\u001b[0m\n",
      "\u001b[32m[I 2022-06-18 13:41:02,819]\u001b[0m Trial 99 finished with value: 131342.3076923077 and parameters: {'reg_alpha': 1.2002925316650503, 'reg_lambda': 1.1338888785564294, 'colsample_bytree': 0.9823397268003989, 'subsample': 0.3453923055930303, 'learning_rate': 0.067075966820621, 'max_depth': 7}. Best is trial 57 with value: 117769.19230769231.\u001b[0m\n",
      "\u001b[32m[I 2022-06-18 13:41:02,872]\u001b[0m Trial 100 finished with value: 129809.69230769231 and parameters: {'reg_alpha': 0.46935322262253004, 'reg_lambda': 4.111461535607736, 'colsample_bytree': 0.9627708307390658, 'subsample': 0.3264130770520877, 'learning_rate': 0.07944127884598018, 'max_depth': 8}. Best is trial 57 with value: 117769.19230769231.\u001b[0m\n",
      "\u001b[32m[I 2022-06-18 13:41:02,935]\u001b[0m Trial 101 finished with value: 122088.65384615384 and parameters: {'reg_alpha': 0.08467384421715805, 'reg_lambda': 2.752752650335511, 'colsample_bytree': 0.9862813639603913, 'subsample': 0.27778623630342114, 'learning_rate': 0.051732460512523865, 'max_depth': 8}. Best is trial 57 with value: 117769.19230769231.\u001b[0m\n",
      "\u001b[32m[I 2022-06-18 13:41:02,996]\u001b[0m Trial 102 finished with value: 133772.92307692306 and parameters: {'reg_alpha': 0.10255517206250568, 'reg_lambda': 2.253689750279375, 'colsample_bytree': 0.9445071963543511, 'subsample': 0.28476866063313777, 'learning_rate': 0.05805794559450072, 'max_depth': 8}. Best is trial 57 with value: 117769.19230769231.\u001b[0m\n",
      "\u001b[32m[I 2022-06-18 13:41:03,046]\u001b[0m Trial 103 finished with value: 138514.53846153847 and parameters: {'reg_alpha': 0.36639183561791255, 'reg_lambda': 2.6940478337850435, 'colsample_bytree': 0.9287884939240396, 'subsample': 0.2632756022610138, 'learning_rate': 0.05280372588685783, 'max_depth': 7}. Best is trial 57 with value: 117769.19230769231.\u001b[0m\n",
      "\u001b[32m[I 2022-06-18 13:41:03,101]\u001b[0m Trial 104 finished with value: 129835.96153846153 and parameters: {'reg_alpha': 0.07584957817970786, 'reg_lambda': 6.853184316977059, 'colsample_bytree': 0.9866021077916994, 'subsample': 0.30566986307939875, 'learning_rate': 0.06355761235921985, 'max_depth': 7}. Best is trial 57 with value: 117769.19230769231.\u001b[0m\n",
      "\u001b[32m[I 2022-06-18 13:41:03,152]\u001b[0m Trial 105 finished with value: 128957.03846153847 and parameters: {'reg_alpha': 0.17530454280024071, 'reg_lambda': 1.813298478427003, 'colsample_bytree': 0.9662400597586835, 'subsample': 0.24991376099382107, 'learning_rate': 0.05505093322176902, 'max_depth': 8}. Best is trial 57 with value: 117769.19230769231.\u001b[0m\n",
      "\u001b[32m[I 2022-06-18 13:41:03,199]\u001b[0m Trial 106 finished with value: 134084.76923076922 and parameters: {'reg_alpha': 0.9236984180500712, 'reg_lambda': 0.7604814151277304, 'colsample_bytree': 0.9857016488260668, 'subsample': 0.38588780605359996, 'learning_rate': 0.06637302986269465, 'max_depth': 6}. Best is trial 57 with value: 117769.19230769231.\u001b[0m\n",
      "\u001b[32m[I 2022-06-18 13:41:03,246]\u001b[0m Trial 107 finished with value: 129255.80769230769 and parameters: {'reg_alpha': 0.5635658037709708, 'reg_lambda': 2.973751349450029, 'colsample_bytree': 0.9992747513829968, 'subsample': 0.2699685662146529, 'learning_rate': 0.0843109212201717, 'max_depth': 7}. Best is trial 57 with value: 117769.19230769231.\u001b[0m\n",
      "\u001b[32m[I 2022-06-18 13:41:03,303]\u001b[0m Trial 108 finished with value: 135601.96153846153 and parameters: {'reg_alpha': 1.3444255375946852, 'reg_lambda': 5.169174531137734, 'colsample_bytree': 0.9457995124223587, 'subsample': 0.4574771118512352, 'learning_rate': 0.048089984671346606, 'max_depth': 5}. Best is trial 57 with value: 117769.19230769231.\u001b[0m\n",
      "\u001b[32m[I 2022-06-18 13:41:03,360]\u001b[0m Trial 109 finished with value: 135306.11538461538 and parameters: {'reg_alpha': 0.25491404265374323, 'reg_lambda': 3.725627361574776, 'colsample_bytree': 0.9632751790850934, 'subsample': 0.7585540619331339, 'learning_rate': 0.06211702247962593, 'max_depth': 8}. Best is trial 57 with value: 117769.19230769231.\u001b[0m\n",
      "\u001b[32m[I 2022-06-18 13:41:03,415]\u001b[0m Trial 110 finished with value: 130539.84615384616 and parameters: {'reg_alpha': 2.9826008073058796, 'reg_lambda': 1.4528799761248796, 'colsample_bytree': 0.9225956595707897, 'subsample': 0.23412532855978113, 'learning_rate': 0.06948919403255693, 'max_depth': 7}. Best is trial 57 with value: 117769.19230769231.\u001b[0m\n",
      "\u001b[32m[I 2022-06-18 13:41:03,464]\u001b[0m Trial 111 finished with value: 129095.76923076923 and parameters: {'reg_alpha': 0.11999447044248758, 'reg_lambda': 2.6020585260353197, 'colsample_bytree': 0.9998800415992732, 'subsample': 0.29176882506463964, 'learning_rate': 0.05720458024822629, 'max_depth': 9}. Best is trial 57 with value: 117769.19230769231.\u001b[0m\n",
      "\u001b[32m[I 2022-06-18 13:41:03,536]\u001b[0m Trial 112 finished with value: 131464.26923076922 and parameters: {'reg_alpha': 0.0535803908789674, 'reg_lambda': 4.367658386586207, 'colsample_bytree': 0.9669022644463632, 'subsample': 0.3280016501245615, 'learning_rate': 0.05101911746129153, 'max_depth': 8}. Best is trial 57 with value: 117769.19230769231.\u001b[0m\n",
      "\u001b[32m[I 2022-06-18 13:41:03,613]\u001b[0m Trial 113 finished with value: 128303.69230769231 and parameters: {'reg_alpha': 0.09323583968157037, 'reg_lambda': 2.2322703784474975, 'colsample_bytree': 0.9406304619510835, 'subsample': 0.2773526340485829, 'learning_rate': 0.04969618919432323, 'max_depth': 7}. Best is trial 57 with value: 117769.19230769231.\u001b[0m\n",
      "\u001b[32m[I 2022-06-18 13:41:03,693]\u001b[0m Trial 114 finished with value: 155094.07692307694 and parameters: {'reg_alpha': 0.7809741619568364, 'reg_lambda': 2.970963134050958, 'colsample_bytree': 0.6473744470094924, 'subsample': 0.2171557328604255, 'learning_rate': 0.06037514969277524, 'max_depth': 8}. Best is trial 57 with value: 117769.19230769231.\u001b[0m\n",
      "\u001b[32m[I 2022-06-18 13:41:03,746]\u001b[0m Trial 115 finished with value: 126100.88461538461 and parameters: {'reg_alpha': 0.44199175940291635, 'reg_lambda': 0.9228628590502883, 'colsample_bytree': 0.9827909643506993, 'subsample': 0.34963346773339893, 'learning_rate': 0.07586453099641385, 'max_depth': 7}. Best is trial 57 with value: 117769.19230769231.\u001b[0m\n",
      "\u001b[32m[I 2022-06-18 13:41:03,792]\u001b[0m Trial 116 finished with value: 134610.0 and parameters: {'reg_alpha': 0.43193017826179375, 'reg_lambda': 0.0017839409146989042, 'colsample_bytree': 0.9819113219814299, 'subsample': 0.3515068563971103, 'learning_rate': 0.08054938517266162, 'max_depth': 7}. Best is trial 57 with value: 117769.19230769231.\u001b[0m\n",
      "\u001b[32m[I 2022-06-18 13:41:03,845]\u001b[0m Trial 117 finished with value: 141226.73076923078 and parameters: {'reg_alpha': 0.652099419132096, 'reg_lambda': 0.9591007574952045, 'colsample_bytree': 0.8997138526187025, 'subsample': 0.3388522954992441, 'learning_rate': 0.07271965405245731, 'max_depth': 7}. Best is trial 57 with value: 117769.19230769231.\u001b[0m\n",
      "\u001b[32m[I 2022-06-18 13:41:03,894]\u001b[0m Trial 118 finished with value: 136363.42307692306 and parameters: {'reg_alpha': 1.0604915931631875, 'reg_lambda': 0.5465829589770954, 'colsample_bytree': 0.9636656627774756, 'subsample': 0.31176359637073653, 'learning_rate': 0.07774675812036097, 'max_depth': 6}. Best is trial 57 with value: 117769.19230769231.\u001b[0m\n",
      "\u001b[32m[I 2022-06-18 13:41:03,951]\u001b[0m Trial 119 finished with value: 134060.8076923077 and parameters: {'reg_alpha': 1.818927880678696, 'reg_lambda': 8.07123002090069, 'colsample_bytree': 0.9214607405590944, 'subsample': 0.3734277974395244, 'learning_rate': 0.07544242541871188, 'max_depth': 6}. Best is trial 57 with value: 117769.19230769231.\u001b[0m\n"
     ]
    },
    {
     "name": "stderr",
     "output_type": "stream",
     "text": [
      "\u001b[32m[I 2022-06-18 13:41:04,001]\u001b[0m Trial 120 finished with value: 131887.26923076922 and parameters: {'reg_alpha': 2.3177143468432324, 'reg_lambda': 5.782470048098885, 'colsample_bytree': 0.9470474223002254, 'subsample': 0.4032868567995135, 'learning_rate': 0.07323403521215169, 'max_depth': 7}. Best is trial 57 with value: 117769.19230769231.\u001b[0m\n",
      "\u001b[32m[I 2022-06-18 13:41:04,059]\u001b[0m Trial 121 finished with value: 119601.0 and parameters: {'reg_alpha': 0.2219749862912676, 'reg_lambda': 1.9985771834574748, 'colsample_bytree': 0.9865052938127685, 'subsample': 0.3017772859558493, 'learning_rate': 0.05152376477711867, 'max_depth': 8}. Best is trial 57 with value: 117769.19230769231.\u001b[0m\n",
      "\u001b[32m[I 2022-06-18 13:41:04,109]\u001b[0m Trial 122 finished with value: 123267.0 and parameters: {'reg_alpha': 0.3331924992379716, 'reg_lambda': 1.629034590670463, 'colsample_bytree': 0.9847557178782028, 'subsample': 0.3037369984883194, 'learning_rate': 0.07071822409914412, 'max_depth': 7}. Best is trial 57 with value: 117769.19230769231.\u001b[0m\n",
      "\u001b[32m[I 2022-06-18 13:41:04,162]\u001b[0m Trial 123 finished with value: 126812.61538461539 and parameters: {'reg_alpha': 0.1707479155575646, 'reg_lambda': 1.6630964029643898, 'colsample_bytree': 0.9811251811767555, 'subsample': 0.29558945456793, 'learning_rate': 0.07056898514706204, 'max_depth': 8}. Best is trial 57 with value: 117769.19230769231.\u001b[0m\n",
      "\u001b[32m[I 2022-06-18 13:41:04,203]\u001b[0m Trial 124 finished with value: 152071.07692307694 and parameters: {'reg_alpha': 0.1711747038073141, 'reg_lambda': 1.3658933363001595, 'colsample_bytree': 0.709492698418261, 'subsample': 0.298295294175965, 'learning_rate': 0.07018256176475526, 'max_depth': 8}. Best is trial 57 with value: 117769.19230769231.\u001b[0m\n",
      "\u001b[32m[I 2022-06-18 13:41:04,256]\u001b[0m Trial 125 finished with value: 128462.30769230769 and parameters: {'reg_alpha': 0.22686099834836712, 'reg_lambda': 1.554614729863554, 'colsample_bytree': 0.9802209769672088, 'subsample': 0.6185944124342012, 'learning_rate': 0.06862606440246818, 'max_depth': 8}. Best is trial 57 with value: 117769.19230769231.\u001b[0m\n",
      "\u001b[32m[I 2022-06-18 13:41:04,315]\u001b[0m Trial 126 finished with value: 125602.88461538461 and parameters: {'reg_alpha': 0.2606939303852984, 'reg_lambda': 2.1016712351085554, 'colsample_bytree': 0.9691941611410095, 'subsample': 0.2766284073146065, 'learning_rate': 0.054221147430568314, 'max_depth': 9}. Best is trial 57 with value: 117769.19230769231.\u001b[0m\n",
      "\u001b[32m[I 2022-06-18 13:41:04,373]\u001b[0m Trial 127 finished with value: 129986.80769230769 and parameters: {'reg_alpha': 0.3613350229197774, 'reg_lambda': 1.2161872903913278, 'colsample_bytree': 0.9595441635331643, 'subsample': 0.8904472132232133, 'learning_rate': 0.0525922771482518, 'max_depth': 9}. Best is trial 57 with value: 117769.19230769231.\u001b[0m\n",
      "\u001b[32m[I 2022-06-18 13:41:04,433]\u001b[0m Trial 128 finished with value: 128633.65384615384 and parameters: {'reg_alpha': 0.24681181885830544, 'reg_lambda': 2.0300875103157394, 'colsample_bytree': 0.9317083443880702, 'subsample': 0.26858954899929255, 'learning_rate': 0.04536555522578484, 'max_depth': 9}. Best is trial 57 with value: 117769.19230769231.\u001b[0m\n",
      "\u001b[32m[I 2022-06-18 13:41:04,576]\u001b[0m Trial 129 finished with value: 133769.3076923077 and parameters: {'reg_alpha': 0.28392594019604367, 'reg_lambda': 0.018947029973847077, 'colsample_bytree': 0.9724761040350476, 'subsample': 0.24950371542106792, 'learning_rate': 0.05494859808712136, 'max_depth': 10}. Best is trial 57 with value: 117769.19230769231.\u001b[0m\n",
      "\u001b[32m[I 2022-06-18 13:41:04,665]\u001b[0m Trial 130 finished with value: 129633.26923076923 and parameters: {'reg_alpha': 0.31878686850901294, 'reg_lambda': 0.3384828286009075, 'colsample_bytree': 0.9885956857226025, 'subsample': 0.3195819245869531, 'learning_rate': 0.046690290196166016, 'max_depth': 7}. Best is trial 57 with value: 117769.19230769231.\u001b[0m\n",
      "\u001b[32m[I 2022-06-18 13:41:04,740]\u001b[0m Trial 131 finished with value: 131345.42307692306 and parameters: {'reg_alpha': 0.1804184894708991, 'reg_lambda': 1.785676549445573, 'colsample_bytree': 0.9854516503340294, 'subsample': 0.2876238908104984, 'learning_rate': 0.07461099432550648, 'max_depth': 8}. Best is trial 57 with value: 117769.19230769231.\u001b[0m\n",
      "\u001b[32m[I 2022-06-18 13:41:04,786]\u001b[0m Trial 132 finished with value: 126505.5 and parameters: {'reg_alpha': 0.1416187353138379, 'reg_lambda': 2.201600559617946, 'colsample_bytree': 0.9997464733628276, 'subsample': 0.30399915445160286, 'learning_rate': 0.07114578767162896, 'max_depth': 7}. Best is trial 57 with value: 117769.19230769231.\u001b[0m\n",
      "\u001b[32m[I 2022-06-18 13:41:04,845]\u001b[0m Trial 133 finished with value: 130469.34615384616 and parameters: {'reg_alpha': 0.1454218256713449, 'reg_lambda': 2.3403484980287503, 'colsample_bytree': 0.9578707413539596, 'subsample': 0.3099193836726945, 'learning_rate': 0.04885510688585227, 'max_depth': 7}. Best is trial 57 with value: 117769.19230769231.\u001b[0m\n",
      "\u001b[32m[I 2022-06-18 13:41:04,900]\u001b[0m Trial 134 finished with value: 125553.0 and parameters: {'reg_alpha': 0.08062319173058541, 'reg_lambda': 2.0795884662243873, 'colsample_bytree': 0.9986622386888852, 'subsample': 0.3600576116136104, 'learning_rate': 0.07657169315362673, 'max_depth': 7}. Best is trial 57 with value: 117769.19230769231.\u001b[0m\n",
      "\u001b[32m[I 2022-06-18 13:41:04,950]\u001b[0m Trial 135 finished with value: 128962.61538461539 and parameters: {'reg_alpha': 0.07388760417698592, 'reg_lambda': 0.8905755456101566, 'colsample_bytree': 0.9956772792862146, 'subsample': 0.36140070980452754, 'learning_rate': 0.07724053870294434, 'max_depth': 7}. Best is trial 57 with value: 117769.19230769231.\u001b[0m\n",
      "\u001b[32m[I 2022-06-18 13:41:05,023]\u001b[0m Trial 136 finished with value: 125585.34615384616 and parameters: {'reg_alpha': 0.09666296014580354, 'reg_lambda': 3.934448902667069, 'colsample_bytree': 0.9999075308327423, 'subsample': 0.27552142334931096, 'learning_rate': 0.04282805170897129, 'max_depth': 7}. Best is trial 57 with value: 117769.19230769231.\u001b[0m\n",
      "\u001b[32m[I 2022-06-18 13:41:05,083]\u001b[0m Trial 137 finished with value: 127550.0 and parameters: {'reg_alpha': 0.10339889369792533, 'reg_lambda': 3.467380262423904, 'colsample_bytree': 0.970260019389271, 'subsample': 0.2732695206303898, 'learning_rate': 0.050997600099788, 'max_depth': 9}. Best is trial 57 with value: 117769.19230769231.\u001b[0m\n",
      "\u001b[32m[I 2022-06-18 13:41:05,135]\u001b[0m Trial 138 finished with value: 137180.46153846153 and parameters: {'reg_alpha': 0.08518649967057555, 'reg_lambda': 4.542571158605679, 'colsample_bytree': 0.9737474979437902, 'subsample': 0.2469594075362914, 'learning_rate': 0.038480099814386194, 'max_depth': 6}. Best is trial 57 with value: 117769.19230769231.\u001b[0m\n",
      "\u001b[32m[I 2022-06-18 13:41:05,207]\u001b[0m Trial 139 finished with value: 130577.15384615384 and parameters: {'reg_alpha': 0.04694836406857197, 'reg_lambda': 2.7437486014157626, 'colsample_bytree': 0.9354814152548051, 'subsample': 0.22928661612025417, 'learning_rate': 0.04413233951858377, 'max_depth': 7}. Best is trial 57 with value: 117769.19230769231.\u001b[0m\n",
      "\u001b[32m[I 2022-06-18 13:41:05,293]\u001b[0m Trial 140 finished with value: 129858.26923076923 and parameters: {'reg_alpha': 0.062326082267423255, 'reg_lambda': 3.735449510879811, 'colsample_bytree': 0.9996792739032517, 'subsample': 0.33261564533583204, 'learning_rate': 0.054261700091217, 'max_depth': 7}. Best is trial 57 with value: 117769.19230769231.\u001b[0m\n",
      "\u001b[32m[I 2022-06-18 13:41:05,362]\u001b[0m Trial 141 finished with value: 122288.30769230769 and parameters: {'reg_alpha': 0.13208810825188547, 'reg_lambda': 1.8840827596590612, 'colsample_bytree': 0.984735615751309, 'subsample': 0.2841633492557452, 'learning_rate': 0.04056382746274824, 'max_depth': 7}. Best is trial 57 with value: 117769.19230769231.\u001b[0m\n",
      "\u001b[32m[I 2022-06-18 13:41:05,410]\u001b[0m Trial 142 finished with value: 140023.34615384616 and parameters: {'reg_alpha': 0.11571249048045879, 'reg_lambda': 1.2295956631819978, 'colsample_bytree': 0.9741488374944121, 'subsample': 0.2795598198640498, 'learning_rate': 0.042247396289731, 'max_depth': 7}. Best is trial 57 with value: 117769.19230769231.\u001b[0m\n",
      "\u001b[32m[I 2022-06-18 13:41:05,479]\u001b[0m Trial 143 finished with value: 131800.92307692306 and parameters: {'reg_alpha': 0.05770675464378761, 'reg_lambda': 2.6540480563595263, 'colsample_bytree': 0.9533234280741623, 'subsample': 0.25664269923869426, 'learning_rate': 0.03593785940055623, 'max_depth': 7}. Best is trial 57 with value: 117769.19230769231.\u001b[0m\n"
     ]
    },
    {
     "name": "stderr",
     "output_type": "stream",
     "text": [
      "\u001b[32m[I 2022-06-18 13:41:05,551]\u001b[0m Trial 144 finished with value: 127215.03846153847 and parameters: {'reg_alpha': 0.20247268364878898, 'reg_lambda': 1.7551242522285049, 'colsample_bytree': 0.9873158199712706, 'subsample': 0.34671448510900993, 'learning_rate': 0.0399847829496877, 'max_depth': 7}. Best is trial 57 with value: 117769.19230769231.\u001b[0m\n",
      "\u001b[32m[I 2022-06-18 13:41:05,603]\u001b[0m Trial 145 finished with value: 138149.0 and parameters: {'reg_alpha': 0.515134541420281, 'reg_lambda': 6.473231604320204, 'colsample_bytree': 0.9673192496084452, 'subsample': 0.3216347994173512, 'learning_rate': 0.045790496204468095, 'max_depth': 7}. Best is trial 57 with value: 117769.19230769231.\u001b[0m\n",
      "\u001b[32m[I 2022-06-18 13:41:05,767]\u001b[0m Trial 146 finished with value: 130579.15384615384 and parameters: {'reg_alpha': 0.08248537482795638, 'reg_lambda': 3.114637652771645, 'colsample_bytree': 0.9405467809373937, 'subsample': 0.28404630715902696, 'learning_rate': 0.042047049803699804, 'max_depth': 8}. Best is trial 57 with value: 117769.19230769231.\u001b[0m\n",
      "\u001b[32m[I 2022-06-18 13:41:05,817]\u001b[0m Trial 147 finished with value: 140652.03846153847 and parameters: {'reg_alpha': 0.4255728204742165, 'reg_lambda': 4.185880352136611, 'colsample_bytree': 0.9113274180391859, 'subsample': 0.26257707300518474, 'learning_rate': 0.05198733504366721, 'max_depth': 7}. Best is trial 57 with value: 117769.19230769231.\u001b[0m\n",
      "\u001b[32m[I 2022-06-18 13:41:05,868]\u001b[0m Trial 148 finished with value: 123637.42307692308 and parameters: {'reg_alpha': 0.11191122884665045, 'reg_lambda': 1.9235619371565633, 'colsample_bytree': 0.9998235574058671, 'subsample': 0.6958254740378259, 'learning_rate': 0.07595858794340986, 'max_depth': 6}. Best is trial 57 with value: 117769.19230769231.\u001b[0m\n",
      "\u001b[32m[I 2022-06-18 13:41:05,914]\u001b[0m Trial 149 finished with value: 130073.03846153847 and parameters: {'reg_alpha': 0.12800488859082346, 'reg_lambda': 1.0622341426550688, 'colsample_bytree': 0.9829951167410725, 'subsample': 0.593319649791042, 'learning_rate': 0.0759988747391378, 'max_depth': 6}. Best is trial 57 with value: 117769.19230769231.\u001b[0m\n",
      "\u001b[32m[I 2022-06-18 13:41:05,961]\u001b[0m Trial 150 finished with value: 126826.61538461539 and parameters: {'reg_alpha': 0.1014506496761348, 'reg_lambda': 1.4418315919533928, 'colsample_bytree': 0.9638499137993555, 'subsample': 0.3013363973024098, 'learning_rate': 0.08358661297631596, 'max_depth': 3}. Best is trial 57 with value: 117769.19230769231.\u001b[0m\n",
      "\u001b[32m[I 2022-06-18 13:41:06,028]\u001b[0m Trial 151 finished with value: 129349.15384615384 and parameters: {'reg_alpha': 0.2131839879198117, 'reg_lambda': 2.0095704120903415, 'colsample_bytree': 0.9993758181420934, 'subsample': 0.2880690629691555, 'learning_rate': 0.07364983685146513, 'max_depth': 7}. Best is trial 57 with value: 117769.19230769231.\u001b[0m\n",
      "\u001b[32m[I 2022-06-18 13:41:06,151]\u001b[0m Trial 152 finished with value: 130478.42307692308 and parameters: {'reg_alpha': 0.040196960167512646, 'reg_lambda': 2.4944589356333604, 'colsample_bytree': 0.9831364516773551, 'subsample': 0.7010596179750939, 'learning_rate': 0.05596278764544951, 'max_depth': 6}. Best is trial 57 with value: 117769.19230769231.\u001b[0m\n",
      "\u001b[32m[I 2022-06-18 13:41:06,214]\u001b[0m Trial 153 finished with value: 128872.11538461539 and parameters: {'reg_alpha': 7.995688646574829, 'reg_lambda': 4.889348465888854, 'colsample_bytree': 0.9498239092458844, 'subsample': 0.31534912972173595, 'learning_rate': 0.0787343878964925, 'max_depth': 7}. Best is trial 57 with value: 117769.19230769231.\u001b[0m\n",
      "\u001b[32m[I 2022-06-18 13:41:06,277]\u001b[0m Trial 154 finished with value: 131736.15384615384 and parameters: {'reg_alpha': 0.6904728323997957, 'reg_lambda': 3.247435540984103, 'colsample_bytree': 0.9701162311370347, 'subsample': 0.7725137182279233, 'learning_rate': 0.04808917048654864, 'max_depth': 7}. Best is trial 57 with value: 117769.19230769231.\u001b[0m\n",
      "\u001b[32m[I 2022-06-18 13:41:06,335]\u001b[0m Trial 155 finished with value: 124745.46153846153 and parameters: {'reg_alpha': 0.06600577588653739, 'reg_lambda': 1.9089651367462221, 'colsample_bytree': 0.9868308106236429, 'subsample': 0.33703376217458153, 'learning_rate': 0.05905658202030739, 'max_depth': 6}. Best is trial 57 with value: 117769.19230769231.\u001b[0m\n",
      "\u001b[32m[I 2022-06-18 13:41:06,389]\u001b[0m Trial 156 finished with value: 125430.73076923077 and parameters: {'reg_alpha': 0.08257400675308509, 'reg_lambda': 1.8214883105283073, 'colsample_bytree': 0.9548166696599422, 'subsample': 0.6660229086326954, 'learning_rate': 0.05878213706917346, 'max_depth': 6}. Best is trial 57 with value: 117769.19230769231.\u001b[0m\n",
      "\u001b[32m[I 2022-06-18 13:41:06,447]\u001b[0m Trial 157 finished with value: 132655.23076923078 and parameters: {'reg_alpha': 0.06776559853966077, 'reg_lambda': 1.8313529967140152, 'colsample_bytree': 0.9370716543517261, 'subsample': 0.6762213864348405, 'learning_rate': 0.05698865614617074, 'max_depth': 6}. Best is trial 57 with value: 117769.19230769231.\u001b[0m\n",
      "\u001b[32m[I 2022-06-18 13:41:06,514]\u001b[0m Trial 158 finished with value: 128471.23076923077 and parameters: {'reg_alpha': 0.11434673218121012, 'reg_lambda': 1.4550019603498217, 'colsample_bytree': 0.9591759861576925, 'subsample': 0.7376937646217681, 'learning_rate': 0.05889928452775975, 'max_depth': 6}. Best is trial 57 with value: 117769.19230769231.\u001b[0m\n",
      "\u001b[32m[I 2022-06-18 13:41:06,832]\u001b[0m Trial 159 finished with value: 247318.6923076923 and parameters: {'reg_alpha': 0.03062509083390382, 'reg_lambda': 1.9949780279879192, 'colsample_bytree': 0.2166282946868382, 'subsample': 0.7209413197793061, 'learning_rate': 0.08122075567669793, 'max_depth': 6}. Best is trial 57 with value: 117769.19230769231.\u001b[0m\n",
      "\u001b[32m[I 2022-06-18 13:41:06,897]\u001b[0m Trial 160 finished with value: 136911.0 and parameters: {'reg_alpha': 0.0941576313473173, 'reg_lambda': 1.6311331800008109, 'colsample_bytree': 0.9252654570074965, 'subsample': 0.6958560387143723, 'learning_rate': 0.05368948443684332, 'max_depth': 5}. Best is trial 57 with value: 117769.19230769231.\u001b[0m\n",
      "\u001b[32m[I 2022-06-18 13:41:06,984]\u001b[0m Trial 161 finished with value: 128637.76923076923 and parameters: {'reg_alpha': 0.07847380407978265, 'reg_lambda': 2.663498593353622, 'colsample_bytree': 0.9843008384453477, 'subsample': 0.3357927117303373, 'learning_rate': 0.06342136556162105, 'max_depth': 7}. Best is trial 57 with value: 117769.19230769231.\u001b[0m\n",
      "\u001b[32m[I 2022-06-18 13:41:07,051]\u001b[0m Trial 162 finished with value: 126866.26923076923 and parameters: {'reg_alpha': 0.05104587188032564, 'reg_lambda': 2.1521916808481465, 'colsample_bytree': 0.9760089449702256, 'subsample': 0.35959817654826454, 'learning_rate': 0.06142660199526902, 'max_depth': 7}. Best is trial 57 with value: 117769.19230769231.\u001b[0m\n",
      "\u001b[32m[I 2022-06-18 13:41:07,103]\u001b[0m Trial 163 finished with value: 125407.57692307692 and parameters: {'reg_alpha': 0.14782849677359622, 'reg_lambda': 1.1694007145790872, 'colsample_bytree': 0.9987631749725359, 'subsample': 0.648568733731557, 'learning_rate': 0.0560935287685805, 'max_depth': 4}. Best is trial 57 with value: 117769.19230769231.\u001b[0m\n",
      "\u001b[32m[I 2022-06-18 13:41:07,156]\u001b[0m Trial 164 finished with value: 130705.46153846153 and parameters: {'reg_alpha': 0.15612771157188257, 'reg_lambda': 1.2035742356000942, 'colsample_bytree': 0.9564097129650322, 'subsample': 0.6916916553455165, 'learning_rate': 0.05549411677004363, 'max_depth': 4}. Best is trial 57 with value: 117769.19230769231.\u001b[0m\n",
      "\u001b[32m[I 2022-06-18 13:41:07,208]\u001b[0m Trial 165 finished with value: 129703.0 and parameters: {'reg_alpha': 0.12981835230416874, 'reg_lambda': 1.3470564269686138, 'colsample_bytree': 0.9999206734687738, 'subsample': 0.6445828081428798, 'learning_rate': 0.049969905026777006, 'max_depth': 4}. Best is trial 57 with value: 117769.19230769231.\u001b[0m\n",
      "\u001b[32m[I 2022-06-18 13:41:07,261]\u001b[0m Trial 166 finished with value: 136044.15384615384 and parameters: {'reg_alpha': 0.06070456311688589, 'reg_lambda': 0.6699419849755299, 'colsample_bytree': 0.9714705984985633, 'subsample': 0.6480077479762665, 'learning_rate': 0.058940735119906947, 'max_depth': 3}. Best is trial 57 with value: 117769.19230769231.\u001b[0m\n",
      "\u001b[32m[I 2022-06-18 13:41:07,318]\u001b[0m Trial 167 finished with value: 134097.07692307694 and parameters: {'reg_alpha': 0.2759869154716289, 'reg_lambda': 0.8014567929159825, 'colsample_bytree': 0.9532442576210549, 'subsample': 0.6649305439129425, 'learning_rate': 0.05730097984052594, 'max_depth': 5}. Best is trial 57 with value: 117769.19230769231.\u001b[0m\n"
     ]
    },
    {
     "name": "stderr",
     "output_type": "stream",
     "text": [
      "\u001b[32m[I 2022-06-18 13:41:07,389]\u001b[0m Trial 168 finished with value: 121167.61538461539 and parameters: {'reg_alpha': 0.1043808671555394, 'reg_lambda': 1.6296686757342247, 'colsample_bytree': 0.9849590667462667, 'subsample': 0.6116031364579172, 'learning_rate': 0.038302360017225534, 'max_depth': 8}. Best is trial 57 with value: 117769.19230769231.\u001b[0m\n",
      "\u001b[32m[I 2022-06-18 13:41:07,447]\u001b[0m Trial 169 finished with value: 136912.38461538462 and parameters: {'reg_alpha': 0.09470937042544343, 'reg_lambda': 1.6813442120151076, 'colsample_bytree': 0.9434965072417567, 'subsample': 0.6211378080827283, 'learning_rate': 0.03651747644273288, 'max_depth': 8}. Best is trial 57 with value: 117769.19230769231.\u001b[0m\n",
      "\u001b[32m[I 2022-06-18 13:41:07,522]\u001b[0m Trial 170 finished with value: 129822.30769230769 and parameters: {'reg_alpha': 0.07054775256468518, 'reg_lambda': 2.3863604032262695, 'colsample_bytree': 0.9889014537235505, 'subsample': 0.6426959891510813, 'learning_rate': 0.043083008312639365, 'max_depth': 8}. Best is trial 57 with value: 117769.19230769231.\u001b[0m\n",
      "\u001b[32m[I 2022-06-18 13:41:07,599]\u001b[0m Trial 171 finished with value: 121137.69230769231 and parameters: {'reg_alpha': 0.11670818177535543, 'reg_lambda': 2.0468593586421653, 'colsample_bytree': 0.9833343672545908, 'subsample': 0.6713712942002088, 'learning_rate': 0.03367464811853202, 'max_depth': 8}. Best is trial 57 with value: 117769.19230769231.\u001b[0m\n",
      "\u001b[32m[I 2022-06-18 13:41:07,679]\u001b[0m Trial 172 finished with value: 129240.92307692308 and parameters: {'reg_alpha': 0.11878387711595095, 'reg_lambda': 1.9253272529501857, 'colsample_bytree': 0.969007957829014, 'subsample': 0.665945493972372, 'learning_rate': 0.031123007808348393, 'max_depth': 8}. Best is trial 57 with value: 117769.19230769231.\u001b[0m\n",
      "\u001b[32m[I 2022-06-18 13:41:07,810]\u001b[0m Trial 173 finished with value: 123354.34615384616 and parameters: {'reg_alpha': 0.15045809252076947, 'reg_lambda': 3.0489062967102587, 'colsample_bytree': 0.9853473014173357, 'subsample': 0.5867980145762477, 'learning_rate': 0.0378151895053802, 'max_depth': 8}. Best is trial 57 with value: 117769.19230769231.\u001b[0m\n",
      "\u001b[32m[I 2022-06-18 13:41:07,885]\u001b[0m Trial 174 finished with value: 123129.69230769231 and parameters: {'reg_alpha': 0.1566517761853122, 'reg_lambda': 3.6488451273646656, 'colsample_bytree': 0.986515614930637, 'subsample': 0.5880924235052043, 'learning_rate': 0.03660409017498762, 'max_depth': 8}. Best is trial 57 with value: 117769.19230769231.\u001b[0m\n",
      "\u001b[32m[I 2022-06-18 13:41:07,958]\u001b[0m Trial 175 finished with value: 124315.84615384616 and parameters: {'reg_alpha': 0.14874155870231323, 'reg_lambda': 3.037549245887716, 'colsample_bytree': 0.9841232528395472, 'subsample': 0.5636050017988701, 'learning_rate': 0.03411131674138754, 'max_depth': 8}. Best is trial 57 with value: 117769.19230769231.\u001b[0m\n",
      "\u001b[32m[I 2022-06-18 13:41:08,035]\u001b[0m Trial 176 finished with value: 129527.38461538461 and parameters: {'reg_alpha': 0.15042317570359945, 'reg_lambda': 3.006854307743096, 'colsample_bytree': 0.9819944271897939, 'subsample': 0.6036930798701705, 'learning_rate': 0.03340864777918887, 'max_depth': 8}. Best is trial 57 with value: 117769.19230769231.\u001b[0m\n",
      "\u001b[32m[I 2022-06-18 13:41:08,085]\u001b[0m Trial 177 finished with value: 140328.6923076923 and parameters: {'reg_alpha': 0.1821325980097065, 'reg_lambda': 0.044402515393035046, 'colsample_bytree': 0.9536586920066247, 'subsample': 0.5477600933937918, 'learning_rate': 0.031205190980669113, 'max_depth': 8}. Best is trial 57 with value: 117769.19230769231.\u001b[0m\n",
      "\u001b[32m[I 2022-06-18 13:41:08,154]\u001b[0m Trial 178 finished with value: 136668.46153846153 and parameters: {'reg_alpha': 0.14938114703174823, 'reg_lambda': 3.5117630240815596, 'colsample_bytree': 0.9318249762725277, 'subsample': 0.565628608569997, 'learning_rate': 0.0388338631433009, 'max_depth': 8}. Best is trial 57 with value: 117769.19230769231.\u001b[0m\n",
      "\u001b[32m[I 2022-06-18 13:41:08,264]\u001b[0m Trial 179 finished with value: 146601.57692307694 and parameters: {'reg_alpha': 0.1318591071308833, 'reg_lambda': 2.6659042584803494, 'colsample_bytree': 0.777671585987311, 'subsample': 0.5887256693723969, 'learning_rate': 0.034061532917280056, 'max_depth': 8}. Best is trial 57 with value: 117769.19230769231.\u001b[0m\n",
      "\u001b[32m[I 2022-06-18 13:41:08,340]\u001b[0m Trial 180 finished with value: 130176.65384615384 and parameters: {'reg_alpha': 0.19947677349614018, 'reg_lambda': 1.546873851911524, 'colsample_bytree': 0.9784785838484238, 'subsample': 0.6199445343267919, 'learning_rate': 0.029536134049772053, 'max_depth': 8}. Best is trial 57 with value: 117769.19230769231.\u001b[0m\n",
      "\u001b[32m[I 2022-06-18 13:41:08,416]\u001b[0m Trial 181 finished with value: 125312.92307692308 and parameters: {'reg_alpha': 0.10754712993133105, 'reg_lambda': 2.3748429054786224, 'colsample_bytree': 0.9995683361683143, 'subsample': 0.5781649722893275, 'learning_rate': 0.03533029629872614, 'max_depth': 8}. Best is trial 57 with value: 117769.19230769231.\u001b[0m\n",
      "\u001b[32m[I 2022-06-18 13:41:08,481]\u001b[0m Trial 182 finished with value: 135404.65384615384 and parameters: {'reg_alpha': 0.11124622776133365, 'reg_lambda': 3.078445028168983, 'colsample_bytree': 0.9651587209236917, 'subsample': 0.5745602720370572, 'learning_rate': 0.038179773569133886, 'max_depth': 8}. Best is trial 57 with value: 117769.19230769231.\u001b[0m\n",
      "\u001b[32m[I 2022-06-18 13:41:08,717]\u001b[0m Trial 183 finished with value: 126741.26923076923 and parameters: {'reg_alpha': 0.14320796753352485, 'reg_lambda': 3.8210893069346055, 'colsample_bytree': 0.9843042845531661, 'subsample': 0.6299688621658092, 'learning_rate': 0.03621640549442162, 'max_depth': 8}. Best is trial 57 with value: 117769.19230769231.\u001b[0m\n",
      "\u001b[32m[I 2022-06-18 13:41:08,944]\u001b[0m Trial 184 finished with value: 123860.42307692308 and parameters: {'reg_alpha': 0.17221660967301872, 'reg_lambda': 2.4761030932429833, 'colsample_bytree': 0.9998013560087031, 'subsample': 0.6018774547961869, 'learning_rate': 0.03452426888513233, 'max_depth': 8}. Best is trial 57 with value: 117769.19230769231.\u001b[0m\n",
      "\u001b[32m[I 2022-06-18 13:41:09,012]\u001b[0m Trial 185 finished with value: 126275.73076923077 and parameters: {'reg_alpha': 0.17517701971171298, 'reg_lambda': 2.437073374298511, 'colsample_bytree': 0.9850336257928906, 'subsample': 0.5389654440069808, 'learning_rate': 0.032550042171738514, 'max_depth': 8}. Best is trial 57 with value: 117769.19230769231.\u001b[0m\n",
      "\u001b[32m[I 2022-06-18 13:41:09,084]\u001b[0m Trial 186 finished with value: 128959.96153846153 and parameters: {'reg_alpha': 0.21706622937094194, 'reg_lambda': 2.961818969925465, 'colsample_bytree': 0.9986348658335997, 'subsample': 0.601670975426039, 'learning_rate': 0.027389519016044223, 'max_depth': 8}. Best is trial 57 with value: 117769.19230769231.\u001b[0m\n",
      "\u001b[32m[I 2022-06-18 13:41:09,156]\u001b[0m Trial 187 finished with value: 128461.34615384616 and parameters: {'reg_alpha': 0.11756576892223973, 'reg_lambda': 2.3759602769442005, 'colsample_bytree': 0.9703879041524198, 'subsample': 0.5908939686976137, 'learning_rate': 0.03663632133294963, 'max_depth': 8}. Best is trial 57 with value: 117769.19230769231.\u001b[0m\n",
      "\u001b[32m[I 2022-06-18 13:41:09,209]\u001b[0m Trial 188 finished with value: 158540.26923076922 and parameters: {'reg_alpha': 0.15849290374236857, 'reg_lambda': 4.9142054395492, 'colsample_bytree': 0.5881838145146769, 'subsample': 0.5634291541873466, 'learning_rate': 0.034583270446592686, 'max_depth': 8}. Best is trial 57 with value: 117769.19230769231.\u001b[0m\n",
      "\u001b[32m[I 2022-06-18 13:41:09,367]\u001b[0m Trial 189 finished with value: 131057.23076923077 and parameters: {'reg_alpha': 0.23266121650084648, 'reg_lambda': 3.4780049203892593, 'colsample_bytree': 0.5257583188149691, 'subsample': 0.5261399892090339, 'learning_rate': 0.03470856538000147, 'max_depth': 8}. Best is trial 57 with value: 117769.19230769231.\u001b[0m\n",
      "\u001b[32m[I 2022-06-18 13:41:09,436]\u001b[0m Trial 190 finished with value: 127821.11538461539 and parameters: {'reg_alpha': 0.18227844814789876, 'reg_lambda': 2.5865928709266357, 'colsample_bytree': 0.9867066940057836, 'subsample': 0.6104888345098826, 'learning_rate': 0.040221632807393444, 'max_depth': 8}. Best is trial 57 with value: 117769.19230769231.\u001b[0m\n",
      "\u001b[32m[I 2022-06-18 13:41:09,492]\u001b[0m Trial 191 finished with value: 133987.65384615384 and parameters: {'reg_alpha': 0.10139774548519712, 'reg_lambda': 1.7774989640147159, 'colsample_bytree': 0.9584382753141192, 'subsample': 0.6324997364390406, 'learning_rate': 0.03709228593139022, 'max_depth': 8}. Best is trial 57 with value: 117769.19230769231.\u001b[0m\n"
     ]
    },
    {
     "name": "stderr",
     "output_type": "stream",
     "text": [
      "\u001b[32m[I 2022-06-18 13:41:09,573]\u001b[0m Trial 192 finished with value: 130575.92307692308 and parameters: {'reg_alpha': 0.08792920238030592, 'reg_lambda': 1.9328915763503258, 'colsample_bytree': 0.9755269957035898, 'subsample': 0.6694907229488521, 'learning_rate': 0.032732543950502124, 'max_depth': 8}. Best is trial 57 with value: 117769.19230769231.\u001b[0m\n",
      "\u001b[32m[I 2022-06-18 13:41:09,622]\u001b[0m Trial 193 finished with value: 233284.38461538462 and parameters: {'reg_alpha': 0.12333939408249288, 'reg_lambda': 1.242379715378984, 'colsample_bytree': 0.3317959011093545, 'subsample': 0.5894670468082908, 'learning_rate': 0.025734659531685904, 'max_depth': 9}. Best is trial 57 with value: 117769.19230769231.\u001b[0m\n",
      "\u001b[32m[I 2022-06-18 13:41:09,687]\u001b[0m Trial 194 finished with value: 126283.03846153847 and parameters: {'reg_alpha': 0.13351623959199482, 'reg_lambda': 1.5953644140753904, 'colsample_bytree': 0.9988628594591126, 'subsample': 0.5790981554434877, 'learning_rate': 0.03129246678247989, 'max_depth': 8}. Best is trial 57 with value: 117769.19230769231.\u001b[0m\n",
      "\u001b[32m[I 2022-06-18 13:41:09,738]\u001b[0m Trial 195 finished with value: 136057.84615384616 and parameters: {'reg_alpha': 0.10855253302534225, 'reg_lambda': 2.405374088530301, 'colsample_bytree': 0.9470081218977053, 'subsample': 0.5038217222596313, 'learning_rate': 0.03958722896047367, 'max_depth': 8}. Best is trial 57 with value: 117769.19230769231.\u001b[0m\n",
      "\u001b[32m[I 2022-06-18 13:41:09,792]\u001b[0m Trial 196 finished with value: 137304.11538461538 and parameters: {'reg_alpha': 0.07843254329421012, 'reg_lambda': 4.126661865265962, 'colsample_bytree': 0.9685794562738969, 'subsample': 0.6821851157762251, 'learning_rate': 0.03827028026035407, 'max_depth': 9}. Best is trial 57 with value: 117769.19230769231.\u001b[0m\n",
      "\u001b[32m[I 2022-06-18 13:41:09,905]\u001b[0m Trial 197 finished with value: 123344.76923076923 and parameters: {'reg_alpha': 0.16463950905229283, 'reg_lambda': 3.16960227665162, 'colsample_bytree': 0.9836675895739336, 'subsample': 0.7083194290919164, 'learning_rate': 0.0344668244329988, 'max_depth': 8}. Best is trial 57 with value: 117769.19230769231.\u001b[0m\n",
      "\u001b[32m[I 2022-06-18 13:41:09,980]\u001b[0m Trial 198 finished with value: 128287.57692307692 and parameters: {'reg_alpha': 0.16637714264169057, 'reg_lambda': 3.0687111560030393, 'colsample_bytree': 0.9857571897555321, 'subsample': 0.7131983079352244, 'learning_rate': 0.035841009186379086, 'max_depth': 8}. Best is trial 57 with value: 117769.19230769231.\u001b[0m\n",
      "\u001b[32m[I 2022-06-18 13:41:10,056]\u001b[0m Trial 199 finished with value: 123509.38461538461 and parameters: {'reg_alpha': 0.234720016710949, 'reg_lambda': 3.4321342206314833, 'colsample_bytree': 0.9989143381773722, 'subsample': 0.5715055004463148, 'learning_rate': 0.034389551694320765, 'max_depth': 8}. Best is trial 57 with value: 117769.19230769231.\u001b[0m\n",
      "\u001b[32m[I 2022-06-18 13:41:10,145]\u001b[0m Trial 200 finished with value: 126741.0 and parameters: {'reg_alpha': 0.21529237829345396, 'reg_lambda': 3.5936758171203578, 'colsample_bytree': 0.9835472003261531, 'subsample': 0.8131478168243462, 'learning_rate': 0.03056888177477434, 'max_depth': 8}. Best is trial 57 with value: 117769.19230769231.\u001b[0m\n",
      "\u001b[32m[I 2022-06-18 13:41:10,227]\u001b[0m Trial 201 finished with value: 125642.65384615384 and parameters: {'reg_alpha': 0.25880042256903074, 'reg_lambda': 2.8562976515510696, 'colsample_bytree': 0.9881748500309848, 'subsample': 0.730312403740554, 'learning_rate': 0.033020136886122174, 'max_depth': 8}. Best is trial 57 with value: 117769.19230769231.\u001b[0m\n",
      "\u001b[32m[I 2022-06-18 13:41:10,302]\u001b[0m Trial 202 finished with value: 133751.23076923078 and parameters: {'reg_alpha': 0.15024017462026706, 'reg_lambda': 4.12568540252186, 'colsample_bytree': 0.9704369776815434, 'subsample': 0.559899845711801, 'learning_rate': 0.034782350895064276, 'max_depth': 8}. Best is trial 57 with value: 117769.19230769231.\u001b[0m\n",
      "\u001b[32m[I 2022-06-18 13:41:10,368]\u001b[0m Trial 203 finished with value: 121406.76923076923 and parameters: {'reg_alpha': 0.3015050858679219, 'reg_lambda': 2.2426518662264976, 'colsample_bytree': 0.9935891105866256, 'subsample': 0.5700555081601156, 'learning_rate': 0.04084850234039735, 'max_depth': 8}. Best is trial 57 with value: 117769.19230769231.\u001b[0m\n",
      "\u001b[32m[I 2022-06-18 13:41:10,418]\u001b[0m Trial 204 finished with value: 134652.23076923078 and parameters: {'reg_alpha': 0.3116248130000942, 'reg_lambda': 2.2621086743821937, 'colsample_bytree': 0.9638787853958155, 'subsample': 0.5492244363400329, 'learning_rate': 0.040963405693579584, 'max_depth': 8}. Best is trial 57 with value: 117769.19230769231.\u001b[0m\n",
      "\u001b[32m[I 2022-06-18 13:41:10,485]\u001b[0m Trial 205 finished with value: 124122.96153846153 and parameters: {'reg_alpha': 0.33276691461087193, 'reg_lambda': 3.2799327531760976, 'colsample_bytree': 0.998039512810808, 'subsample': 0.9580528254185022, 'learning_rate': 0.038481017804251776, 'max_depth': 8}. Best is trial 57 with value: 117769.19230769231.\u001b[0m\n",
      "\u001b[32m[I 2022-06-18 13:41:10,561]\u001b[0m Trial 206 finished with value: 132722.0 and parameters: {'reg_alpha': 0.368062766251331, 'reg_lambda': 4.469108985047788, 'colsample_bytree': 0.9804828700324638, 'subsample': 0.5144124019796233, 'learning_rate': 0.03746759690883182, 'max_depth': 8}. Best is trial 57 with value: 117769.19230769231.\u001b[0m\n",
      "\u001b[32m[I 2022-06-18 13:41:10,634]\u001b[0m Trial 207 finished with value: 138344.3076923077 and parameters: {'reg_alpha': 0.27856909022229204, 'reg_lambda': 5.582002593220576, 'colsample_bytree': 0.9467321182765794, 'subsample': 0.8617526452474684, 'learning_rate': 0.04030680206562628, 'max_depth': 8}. Best is trial 57 with value: 117769.19230769231.\u001b[0m\n",
      "\u001b[32m[I 2022-06-18 13:41:10,704]\u001b[0m Trial 208 finished with value: 131417.65384615384 and parameters: {'reg_alpha': 0.5310990620401338, 'reg_lambda': 3.455374338808645, 'colsample_bytree': 0.9727132760490705, 'subsample': 0.604358983129605, 'learning_rate': 0.03748769891517923, 'max_depth': 8}. Best is trial 57 with value: 117769.19230769231.\u001b[0m\n",
      "\u001b[32m[I 2022-06-18 13:41:10,784]\u001b[0m Trial 209 finished with value: 122507.42307692308 and parameters: {'reg_alpha': 0.22658780905940903, 'reg_lambda': 2.9501537853451283, 'colsample_bytree': 0.9846423191727889, 'subsample': 0.8135023177960892, 'learning_rate': 0.03306540092882472, 'max_depth': 9}. Best is trial 57 with value: 117769.19230769231.\u001b[0m\n",
      "\u001b[32m[I 2022-06-18 13:41:10,859]\u001b[0m Trial 210 finished with value: 125196.5 and parameters: {'reg_alpha': 0.3540635616412994, 'reg_lambda': 2.9204534302978584, 'colsample_bytree': 0.9990154375850931, 'subsample': 0.9849110526261382, 'learning_rate': 0.0336683987494024, 'max_depth': 9}. Best is trial 57 with value: 117769.19230769231.\u001b[0m\n",
      "\u001b[32m[I 2022-06-18 13:41:10,936]\u001b[0m Trial 211 finished with value: 134926.1923076923 and parameters: {'reg_alpha': 0.23121265747576744, 'reg_lambda': 3.1227369843672426, 'colsample_bytree': 0.9802706015320684, 'subsample': 0.5691755723064649, 'learning_rate': 0.03252200549552579, 'max_depth': 9}. Best is trial 57 with value: 117769.19230769231.\u001b[0m\n",
      "\u001b[32m[I 2022-06-18 13:41:11,004]\u001b[0m Trial 212 finished with value: 132125.11538461538 and parameters: {'reg_alpha': 0.20031777415280388, 'reg_lambda': 3.981637008724775, 'colsample_bytree': 0.9623458540281854, 'subsample': 0.9133171651250362, 'learning_rate': 0.029168963051851262, 'max_depth': 8}. Best is trial 57 with value: 117769.19230769231.\u001b[0m\n",
      "\u001b[32m[I 2022-06-18 13:41:11,068]\u001b[0m Trial 213 finished with value: 127659.5 and parameters: {'reg_alpha': 0.29501207086891884, 'reg_lambda': 2.107338632005878, 'colsample_bytree': 0.9860771492493209, 'subsample': 0.7533180175723753, 'learning_rate': 0.03889572557767891, 'max_depth': 8}. Best is trial 57 with value: 117769.19230769231.\u001b[0m\n",
      "\u001b[32m[I 2022-06-18 13:41:11,132]\u001b[0m Trial 214 finished with value: 123832.30769230769 and parameters: {'reg_alpha': 0.22799622729181268, 'reg_lambda': 2.566590451779756, 'colsample_bytree': 0.9988299612529132, 'subsample': 0.8321445027741108, 'learning_rate': 0.03545970261830278, 'max_depth': 9}. Best is trial 57 with value: 117769.19230769231.\u001b[0m\n",
      "\u001b[32m[I 2022-06-18 13:41:11,203]\u001b[0m Trial 215 finished with value: 124213.38461538461 and parameters: {'reg_alpha': 0.18672683623108047, 'reg_lambda': 2.8125855760581695, 'colsample_bytree': 0.9982949909280112, 'subsample': 0.9324005313948398, 'learning_rate': 0.03545551253604145, 'max_depth': 8}. Best is trial 57 with value: 117769.19230769231.\u001b[0m\n"
     ]
    },
    {
     "name": "stderr",
     "output_type": "stream",
     "text": [
      "\u001b[32m[I 2022-06-18 13:41:11,280]\u001b[0m Trial 216 finished with value: 124090.65384615384 and parameters: {'reg_alpha': 0.18594937700095931, 'reg_lambda': 2.5675825800974494, 'colsample_bytree': 0.9985001636844218, 'subsample': 0.9618813211841774, 'learning_rate': 0.035063849575558956, 'max_depth': 9}. Best is trial 57 with value: 117769.19230769231.\u001b[0m\n",
      "\u001b[32m[I 2022-06-18 13:41:11,341]\u001b[0m Trial 217 finished with value: 125305.42307692308 and parameters: {'reg_alpha': 0.19516836305019955, 'reg_lambda': 2.5834965997835893, 'colsample_bytree': 0.9999532989825315, 'subsample': 0.9925107963358654, 'learning_rate': 0.035377184077595304, 'max_depth': 9}. Best is trial 57 with value: 117769.19230769231.\u001b[0m\n",
      "\u001b[32m[I 2022-06-18 13:41:11,412]\u001b[0m Trial 218 finished with value: 124409.61538461539 and parameters: {'reg_alpha': 0.24339328605596428, 'reg_lambda': 2.4398775287846246, 'colsample_bytree': 0.9998739454124881, 'subsample': 0.9103368983356726, 'learning_rate': 0.03751472683954441, 'max_depth': 9}. Best is trial 57 with value: 117769.19230769231.\u001b[0m\n",
      "\u001b[32m[I 2022-06-18 13:41:11,464]\u001b[0m Trial 219 finished with value: 134567.07692307694 and parameters: {'reg_alpha': 0.18329672446597406, 'reg_lambda': 3.3123741893046725, 'colsample_bytree': 0.9730347801819696, 'subsample': 0.9418145069078359, 'learning_rate': 0.04165915992181615, 'max_depth': 9}. Best is trial 57 with value: 117769.19230769231.\u001b[0m\n",
      "\u001b[32m[I 2022-06-18 13:41:11,535]\u001b[0m Trial 220 finished with value: 123269.23076923077 and parameters: {'reg_alpha': 0.22794340912452343, 'reg_lambda': 2.7329822288951022, 'colsample_bytree': 0.9996381127098594, 'subsample': 0.8422830143989601, 'learning_rate': 0.03630409574870148, 'max_depth': 9}. Best is trial 57 with value: 117769.19230769231.\u001b[0m\n",
      "\u001b[32m[I 2022-06-18 13:41:11,599]\u001b[0m Trial 221 finished with value: 126659.11538461539 and parameters: {'reg_alpha': 0.22416892208390035, 'reg_lambda': 2.783519393968082, 'colsample_bytree': 0.9845881959217225, 'subsample': 0.9554861549788355, 'learning_rate': 0.03205047212299611, 'max_depth': 9}. Best is trial 57 with value: 117769.19230769231.\u001b[0m\n",
      "\u001b[32m[I 2022-06-18 13:41:11,664]\u001b[0m Trial 222 finished with value: 131591.76923076922 and parameters: {'reg_alpha': 0.2536013454084829, 'reg_lambda': 2.142197153846832, 'colsample_bytree': 0.9728667110907514, 'subsample': 0.8204083642905878, 'learning_rate': 0.0355437380713315, 'max_depth': 10}. Best is trial 57 with value: 117769.19230769231.\u001b[0m\n",
      "\u001b[32m[I 2022-06-18 13:41:11,719]\u001b[0m Trial 223 finished with value: 130245.53846153847 and parameters: {'reg_alpha': 0.17128499501904798, 'reg_lambda': 2.6495838372210376, 'colsample_bytree': 0.9885629059090261, 'subsample': 0.8879692129623882, 'learning_rate': 0.038800639827868307, 'max_depth': 9}. Best is trial 57 with value: 117769.19230769231.\u001b[0m\n",
      "\u001b[32m[I 2022-06-18 13:41:11,766]\u001b[0m Trial 224 finished with value: 140686.65384615384 and parameters: {'reg_alpha': 0.287738880069564, 'reg_lambda': 0.008324748817005618, 'colsample_bytree': 0.9620706419790449, 'subsample': 0.954138438967426, 'learning_rate': 0.036584355286091746, 'max_depth': 9}. Best is trial 57 with value: 117769.19230769231.\u001b[0m\n",
      "\u001b[32m[I 2022-06-18 13:41:11,832]\u001b[0m Trial 225 finished with value: 128387.92307692308 and parameters: {'reg_alpha': 0.20665847471270726, 'reg_lambda': 0.003178017478619811, 'colsample_bytree': 0.9996718887002278, 'subsample': 0.9718102978927435, 'learning_rate': 0.033924380002874135, 'max_depth': 10}. Best is trial 57 with value: 117769.19230769231.\u001b[0m\n",
      "\u001b[32m[I 2022-06-18 13:41:11,905]\u001b[0m Trial 226 finished with value: 126702.19230769231 and parameters: {'reg_alpha': 0.1730869403636111, 'reg_lambda': 3.527040462009137, 'colsample_bytree': 0.9998572793810526, 'subsample': 0.8586661025277196, 'learning_rate': 0.040226288359227806, 'max_depth': 9}. Best is trial 57 with value: 117769.19230769231.\u001b[0m\n",
      "\u001b[32m[I 2022-06-18 13:41:11,958]\u001b[0m Trial 227 finished with value: 133029.96153846153 and parameters: {'reg_alpha': 0.34675246451085207, 'reg_lambda': 2.1582951443049727, 'colsample_bytree': 0.9749753010311331, 'subsample': 0.9418702962628542, 'learning_rate': 0.03704492670949966, 'max_depth': 9}. Best is trial 57 with value: 117769.19230769231.\u001b[0m\n",
      "\u001b[32m[I 2022-06-18 13:41:12,040]\u001b[0m Trial 228 finished with value: 126904.0 and parameters: {'reg_alpha': 0.23369346537818825, 'reg_lambda': 4.62391172058204, 'colsample_bytree': 0.9842355231912087, 'subsample': 0.8072920684198873, 'learning_rate': 0.03503636374123248, 'max_depth': 9}. Best is trial 57 with value: 117769.19230769231.\u001b[0m\n",
      "\u001b[32m[I 2022-06-18 13:41:12,123]\u001b[0m Trial 229 finished with value: 129539.96153846153 and parameters: {'reg_alpha': 0.19776214049799692, 'reg_lambda': 2.8090971399925477, 'colsample_bytree': 0.9527453015441321, 'subsample': 0.8518618778266198, 'learning_rate': 0.03266767260782268, 'max_depth': 9}. Best is trial 57 with value: 117769.19230769231.\u001b[0m\n",
      "\u001b[32m[I 2022-06-18 13:41:12,187]\u001b[0m Trial 230 finished with value: 127542.11538461539 and parameters: {'reg_alpha': 0.12856809351997522, 'reg_lambda': 1.6837622296501364, 'colsample_bytree': 0.9702092036469503, 'subsample': 0.8810490562403086, 'learning_rate': 0.04400178064097085, 'max_depth': 8}. Best is trial 57 with value: 117769.19230769231.\u001b[0m\n",
      "\u001b[32m[I 2022-06-18 13:41:12,250]\u001b[0m Trial 231 finished with value: 128163.26923076923 and parameters: {'reg_alpha': 0.1535536533747856, 'reg_lambda': 3.302991958281292, 'colsample_bytree': 0.9877222713798005, 'subsample': 0.9716168762659899, 'learning_rate': 0.030481893941367934, 'max_depth': 8}. Best is trial 57 with value: 117769.19230769231.\u001b[0m\n",
      "\u001b[32m[I 2022-06-18 13:41:12,313]\u001b[0m Trial 232 finished with value: 137569.73076923078 and parameters: {'reg_alpha': 0.15977221945479875, 'reg_lambda': 2.8446989025140907, 'colsample_bytree': 0.9833078293362484, 'subsample': 0.966968237453623, 'learning_rate': 0.033759452466994716, 'max_depth': 8}. Best is trial 57 with value: 117769.19230769231.\u001b[0m\n",
      "\u001b[32m[I 2022-06-18 13:41:12,390]\u001b[0m Trial 233 finished with value: 125005.5 and parameters: {'reg_alpha': 0.13261700120142159, 'reg_lambda': 2.33829488152802, 'colsample_bytree': 0.9860399440170832, 'subsample': 0.8439958743803304, 'learning_rate': 0.03609069378318781, 'max_depth': 8}. Best is trial 57 with value: 117769.19230769231.\u001b[0m\n",
      "\u001b[32m[I 2022-06-18 13:41:12,464]\u001b[0m Trial 234 finished with value: 130818.03846153847 and parameters: {'reg_alpha': 0.2732722105528742, 'reg_lambda': 3.647300194223474, 'colsample_bytree': 0.9680954138431418, 'subsample': 0.8414287503720786, 'learning_rate': 0.0384876603867135, 'max_depth': 8}. Best is trial 57 with value: 117769.19230769231.\u001b[0m\n",
      "\u001b[32m[I 2022-06-18 13:41:12,544]\u001b[0m Trial 235 finished with value: 126323.03846153847 and parameters: {'reg_alpha': 0.19030666713862154, 'reg_lambda': 3.080220265886813, 'colsample_bytree': 0.9989410738147833, 'subsample': 0.7915883027914566, 'learning_rate': 0.03405094156025038, 'max_depth': 8}. Best is trial 57 with value: 117769.19230769231.\u001b[0m\n",
      "\u001b[32m[I 2022-06-18 13:41:12,605]\u001b[0m Trial 236 finished with value: 124547.84615384616 and parameters: {'reg_alpha': 0.13719504998993373, 'reg_lambda': 1.940914020444418, 'colsample_bytree': 0.9993619826221569, 'subsample': 0.584181916756676, 'learning_rate': 0.03539369623331657, 'max_depth': 8}. Best is trial 57 with value: 117769.19230769231.\u001b[0m\n",
      "\u001b[32m[I 2022-06-18 13:41:12,703]\u001b[0m Trial 237 finished with value: 131638.84615384616 and parameters: {'reg_alpha': 0.23821979568710291, 'reg_lambda': 0.0922272319332509, 'colsample_bytree': 0.9766401445951132, 'subsample': 0.9480953189704103, 'learning_rate': 0.03728839981951776, 'max_depth': 12}. Best is trial 57 with value: 117769.19230769231.\u001b[0m\n",
      "\u001b[32m[I 2022-06-18 13:41:12,761]\u001b[0m Trial 238 finished with value: 133860.73076923078 and parameters: {'reg_alpha': 0.9745533086369204, 'reg_lambda': 2.3988640399786267, 'colsample_bytree': 0.9592030277838324, 'subsample': 0.9336641553520401, 'learning_rate': 0.03223558132311936, 'max_depth': 9}. Best is trial 57 with value: 117769.19230769231.\u001b[0m\n",
      "\u001b[32m[I 2022-06-18 13:41:12,839]\u001b[0m Trial 239 finished with value: 130699.65384615384 and parameters: {'reg_alpha': 0.16970539102436336, 'reg_lambda': 4.557250216162992, 'colsample_bytree': 0.9824079191045231, 'subsample': 0.7025756562921704, 'learning_rate': 0.0413387898410432, 'max_depth': 8}. Best is trial 57 with value: 117769.19230769231.\u001b[0m\n"
     ]
    },
    {
     "name": "stderr",
     "output_type": "stream",
     "text": [
      "\u001b[32m[I 2022-06-18 13:41:12,929]\u001b[0m Trial 240 finished with value: 121309.65384615384 and parameters: {'reg_alpha': 0.20212248884286227, 'reg_lambda': 3.0092600613048646, 'colsample_bytree': 0.9998358957377294, 'subsample': 0.5431341773573033, 'learning_rate': 0.027379971845481983, 'max_depth': 8}. Best is trial 57 with value: 117769.19230769231.\u001b[0m\n",
      "\u001b[32m[I 2022-06-18 13:41:13,023]\u001b[0m Trial 241 finished with value: 128311.61538461539 and parameters: {'reg_alpha': 0.19196991084546616, 'reg_lambda': 3.0259322737156005, 'colsample_bytree': 0.9998243972378162, 'subsample': 0.5323971258505553, 'learning_rate': 0.022111211803018473, 'max_depth': 8}. Best is trial 57 with value: 117769.19230769231.\u001b[0m\n",
      "\u001b[32m[I 2022-06-18 13:41:13,103]\u001b[0m Trial 242 finished with value: 124491.69230769231 and parameters: {'reg_alpha': 0.3082522751230008, 'reg_lambda': 2.693957818671602, 'colsample_bytree': 0.9835058702549636, 'subsample': 0.575469729272786, 'learning_rate': 0.039224694256151306, 'max_depth': 8}. Best is trial 57 with value: 117769.19230769231.\u001b[0m\n",
      "\u001b[32m[I 2022-06-18 13:41:13,180]\u001b[0m Trial 243 finished with value: 123842.15384615384 and parameters: {'reg_alpha': 0.22147571755883744, 'reg_lambda': 3.931726478237609, 'colsample_bytree': 0.9998909890895514, 'subsample': 0.5536704635757946, 'learning_rate': 0.03455053930409403, 'max_depth': 8}. Best is trial 57 with value: 117769.19230769231.\u001b[0m\n",
      "\u001b[32m[I 2022-06-18 13:41:13,258]\u001b[0m Trial 244 finished with value: 134183.76923076922 and parameters: {'reg_alpha': 0.2224930355831294, 'reg_lambda': 4.140953487368357, 'colsample_bytree': 0.9711691029129561, 'subsample': 0.6060265189414621, 'learning_rate': 0.02753400334178678, 'max_depth': 8}. Best is trial 57 with value: 117769.19230769231.\u001b[0m\n",
      "\u001b[32m[I 2022-06-18 13:41:13,353]\u001b[0m Trial 245 finished with value: 127346.5 and parameters: {'reg_alpha': 0.2672121852785504, 'reg_lambda': 3.767955169420171, 'colsample_bytree': 0.9855630639895906, 'subsample': 0.7992920570635658, 'learning_rate': 0.02585788271269263, 'max_depth': 8}. Best is trial 57 with value: 117769.19230769231.\u001b[0m\n",
      "\u001b[32m[I 2022-06-18 13:41:13,424]\u001b[0m Trial 246 finished with value: 123658.42307692308 and parameters: {'reg_alpha': 0.23276678536009207, 'reg_lambda': 1.9477947166841627, 'colsample_bytree': 0.998769827397092, 'subsample': 0.5510810232389132, 'learning_rate': 0.03615527822524155, 'max_depth': 8}. Best is trial 57 with value: 117769.19230769231.\u001b[0m\n",
      "\u001b[32m[I 2022-06-18 13:41:13,500]\u001b[0m Trial 247 finished with value: 119919.88461538461 and parameters: {'reg_alpha': 0.21692530019845524, 'reg_lambda': 2.0189538599208587, 'colsample_bytree': 0.988840455226177, 'subsample': 0.8322823334498289, 'learning_rate': 0.0368807556440444, 'max_depth': 8}. Best is trial 57 with value: 117769.19230769231.\u001b[0m\n",
      "\u001b[32m[I 2022-06-18 13:41:13,568]\u001b[0m Trial 248 finished with value: 123605.96153846153 and parameters: {'reg_alpha': 0.3914588764792895, 'reg_lambda': 1.4955773717960004, 'colsample_bytree': 0.9996534791811528, 'subsample': 0.5433625525186175, 'learning_rate': 0.03771730690522086, 'max_depth': 8}. Best is trial 57 with value: 117769.19230769231.\u001b[0m\n",
      "\u001b[32m[I 2022-06-18 13:41:13,638]\u001b[0m Trial 249 finished with value: 123220.07692307692 and parameters: {'reg_alpha': 0.4089256406418736, 'reg_lambda': 1.6276668004520423, 'colsample_bytree': 0.9997995352584225, 'subsample': 0.8339797473045756, 'learning_rate': 0.0386326626120212, 'max_depth': 8}. Best is trial 57 with value: 117769.19230769231.\u001b[0m\n",
      "\u001b[32m[I 2022-06-18 13:41:13,685]\u001b[0m Trial 250 finished with value: 157363.92307692306 and parameters: {'reg_alpha': 0.3975268687332416, 'reg_lambda': 1.6506850687475867, 'colsample_bytree': 0.6962329913067669, 'subsample': 0.5547930782922855, 'learning_rate': 0.037121453850442056, 'max_depth': 11}. Best is trial 57 with value: 117769.19230769231.\u001b[0m\n",
      "\u001b[32m[I 2022-06-18 13:41:13,778]\u001b[0m Trial 251 finished with value: 126254.03846153847 and parameters: {'reg_alpha': 0.30830324099698736, 'reg_lambda': 1.5006997382670155, 'colsample_bytree': 0.9998283403078961, 'subsample': 0.8453035391267916, 'learning_rate': 0.015092290334089547, 'max_depth': 8}. Best is trial 57 with value: 117769.19230769231.\u001b[0m\n",
      "\u001b[32m[I 2022-06-18 13:41:13,832]\u001b[0m Trial 252 finished with value: 131328.65384615384 and parameters: {'reg_alpha': 0.38160376163700727, 'reg_lambda': 1.8990975535221233, 'colsample_bytree': 0.9707179798898348, 'subsample': 0.8249964067797965, 'learning_rate': 0.03922202906752565, 'max_depth': 8}. Best is trial 57 with value: 117769.19230769231.\u001b[0m\n",
      "\u001b[32m[I 2022-06-18 13:41:13,907]\u001b[0m Trial 253 finished with value: 136922.11538461538 and parameters: {'reg_alpha': 0.25210925084602925, 'reg_lambda': 1.320891866887209, 'colsample_bytree': 0.9801796354840197, 'subsample': 0.8264271528959364, 'learning_rate': 0.019790378988438023, 'max_depth': 8}. Best is trial 57 with value: 117769.19230769231.\u001b[0m\n",
      "\u001b[32m[I 2022-06-18 13:41:13,963]\u001b[0m Trial 254 finished with value: 133423.76923076922 and parameters: {'reg_alpha': 0.2567528501329328, 'reg_lambda': 1.5488456069771708, 'colsample_bytree': 0.9604262377929088, 'subsample': 0.5399681208478212, 'learning_rate': 0.030317847765227834, 'max_depth': 9}. Best is trial 57 with value: 117769.19230769231.\u001b[0m\n",
      "\u001b[32m[I 2022-06-18 13:41:14,029]\u001b[0m Trial 255 finished with value: 128136.69230769231 and parameters: {'reg_alpha': 0.21601611145352512, 'reg_lambda': 1.9855852386572639, 'colsample_bytree': 0.9998755071819874, 'subsample': 0.8338223221705598, 'learning_rate': 0.041007495636777205, 'max_depth': 8}. Best is trial 57 with value: 117769.19230769231.\u001b[0m\n",
      "\u001b[32m[I 2022-06-18 13:41:14,101]\u001b[0m Trial 256 finished with value: 120869.69230769231 and parameters: {'reg_alpha': 0.3064836819203256, 'reg_lambda': 2.182414354603275, 'colsample_bytree': 0.9844766423113314, 'subsample': 0.5300217758924141, 'learning_rate': 0.03677388333426055, 'max_depth': 8}. Best is trial 57 with value: 117769.19230769231.\u001b[0m\n",
      "\u001b[32m[I 2022-06-18 13:41:14,157]\u001b[0m Trial 257 finished with value: 132147.5 and parameters: {'reg_alpha': 0.0017287729646846613, 'reg_lambda': 1.9011705511428139, 'colsample_bytree': 0.9770121345033725, 'subsample': 0.524996597295951, 'learning_rate': 0.03711851426459345, 'max_depth': 8}. Best is trial 57 with value: 117769.19230769231.\u001b[0m\n",
      "\u001b[32m[I 2022-06-18 13:41:14,226]\u001b[0m Trial 258 finished with value: 130686.84615384616 and parameters: {'reg_alpha': 0.4602130507685022, 'reg_lambda': 1.4249122280666866, 'colsample_bytree': 0.9578009811984763, 'subsample': 0.5483457664850392, 'learning_rate': 0.039790063173632755, 'max_depth': 8}. Best is trial 57 with value: 117769.19230769231.\u001b[0m\n",
      "\u001b[32m[I 2022-06-18 13:41:14,283]\u001b[0m Trial 259 finished with value: 130981.88461538461 and parameters: {'reg_alpha': 0.3329910200886423, 'reg_lambda': 2.2369366099831693, 'colsample_bytree': 0.9828819147529916, 'subsample': 0.5633016731456247, 'learning_rate': 0.036214771208476645, 'max_depth': 8}. Best is trial 57 with value: 117769.19230769231.\u001b[0m\n",
      "\u001b[32m[I 2022-06-18 13:41:14,377]\u001b[0m Trial 260 finished with value: 127256.92307692308 and parameters: {'reg_alpha': 0.4029298443837424, 'reg_lambda': 1.6187986193929234, 'colsample_bytree': 0.9689282698872506, 'subsample': 0.5075570656290654, 'learning_rate': 0.032360077493582995, 'max_depth': 8}. Best is trial 57 with value: 117769.19230769231.\u001b[0m\n",
      "\u001b[32m[I 2022-06-18 13:41:14,447]\u001b[0m Trial 261 finished with value: 122552.15384615384 and parameters: {'reg_alpha': 0.2887122321839747, 'reg_lambda': 2.1457221769787513, 'colsample_bytree': 0.9863458277473349, 'subsample': 0.5468124748642973, 'learning_rate': 0.037871458268244826, 'max_depth': 8}. Best is trial 57 with value: 117769.19230769231.\u001b[0m\n",
      "\u001b[32m[I 2022-06-18 13:41:14,515]\u001b[0m Trial 262 finished with value: 130994.84615384616 and parameters: {'reg_alpha': 0.3152500615878896, 'reg_lambda': 1.8717874251245046, 'colsample_bytree': 0.9507599438260204, 'subsample': 0.5336253345206914, 'learning_rate': 0.03810221225214397, 'max_depth': 8}. Best is trial 57 with value: 117769.19230769231.\u001b[0m\n",
      "\u001b[32m[I 2022-06-18 13:41:14,587]\u001b[0m Trial 263 finished with value: 129807.11538461539 and parameters: {'reg_alpha': 0.2782609254396386, 'reg_lambda': 2.085630997809226, 'colsample_bytree': 0.9811925826348993, 'subsample': 0.8713442719314878, 'learning_rate': 0.04290695373572713, 'max_depth': 8}. Best is trial 57 with value: 117769.19230769231.\u001b[0m\n"
     ]
    },
    {
     "name": "stderr",
     "output_type": "stream",
     "text": [
      "\u001b[32m[I 2022-06-18 13:41:14,638]\u001b[0m Trial 264 finished with value: 137376.6923076923 and parameters: {'reg_alpha': 0.4106483081067975, 'reg_lambda': 1.10312782816939, 'colsample_bytree': 0.961075455533283, 'subsample': 0.4829617333059665, 'learning_rate': 0.03783953388648189, 'max_depth': 8}. Best is trial 57 with value: 117769.19230769231.\u001b[0m\n",
      "\u001b[32m[I 2022-06-18 13:41:14,696]\u001b[0m Trial 265 finished with value: 129497.96153846153 and parameters: {'reg_alpha': 0.24341613222669528, 'reg_lambda': 1.3870480966350593, 'colsample_bytree': 0.9847070406433033, 'subsample': 0.546871241309308, 'learning_rate': 0.0406437376606224, 'max_depth': 8}. Best is trial 57 with value: 117769.19230769231.\u001b[0m\n",
      "\u001b[32m[I 2022-06-18 13:41:14,746]\u001b[0m Trial 266 finished with value: 139232.73076923078 and parameters: {'reg_alpha': 0.334675509942238, 'reg_lambda': 0.2053068345742649, 'colsample_bytree': 0.9711652278262324, 'subsample': 0.5214709570674119, 'learning_rate': 0.03598602445688889, 'max_depth': 8}. Best is trial 57 with value: 117769.19230769231.\u001b[0m\n",
      "\u001b[32m[I 2022-06-18 13:41:14,806]\u001b[0m Trial 267 finished with value: 135314.61538461538 and parameters: {'reg_alpha': 0.2727119454182885, 'reg_lambda': 1.787404160581206, 'colsample_bytree': 0.9407960549631553, 'subsample': 0.5674673214704264, 'learning_rate': 0.033656497770524395, 'max_depth': 8}. Best is trial 57 with value: 117769.19230769231.\u001b[0m\n",
      "\u001b[32m[I 2022-06-18 13:41:14,875]\u001b[0m Trial 268 finished with value: 122980.03846153847 and parameters: {'reg_alpha': 0.5920931368082017, 'reg_lambda': 2.1812413292842776, 'colsample_bytree': 0.9855494655363582, 'subsample': 0.7761322641758639, 'learning_rate': 0.039061509851056726, 'max_depth': 8}. Best is trial 57 with value: 117769.19230769231.\u001b[0m\n",
      "\u001b[32m[I 2022-06-18 13:41:14,921]\u001b[0m Trial 269 finished with value: 153582.8076923077 and parameters: {'reg_alpha': 0.5871787134386222, 'reg_lambda': 2.1996843283487655, 'colsample_bytree': 0.7399916829756035, 'subsample': 0.7915325305613327, 'learning_rate': 0.04162557593581453, 'max_depth': 8}. Best is trial 57 with value: 117769.19230769231.\u001b[0m\n",
      "\u001b[32m[I 2022-06-18 13:41:14,989]\u001b[0m Trial 270 finished with value: 133146.53846153847 and parameters: {'reg_alpha': 0.508063531579921, 'reg_lambda': 0.011425726675779665, 'colsample_bytree': 0.9687822532836531, 'subsample': 0.7575979694272642, 'learning_rate': 0.039519627220472316, 'max_depth': 8}. Best is trial 57 with value: 117769.19230769231.\u001b[0m\n",
      "\u001b[32m[I 2022-06-18 13:41:15,054]\u001b[0m Trial 271 finished with value: 126340.92307692308 and parameters: {'reg_alpha': 0.6744677498193822, 'reg_lambda': 1.5528419924122607, 'colsample_bytree': 0.9834280379330823, 'subsample': 0.7762981755357374, 'learning_rate': 0.03850838439909476, 'max_depth': 8}. Best is trial 57 with value: 117769.19230769231.\u001b[0m\n",
      "\u001b[32m[I 2022-06-18 13:41:15,189]\u001b[0m Trial 272 finished with value: 152020.26923076922 and parameters: {'reg_alpha': 0.4186286018044657, 'reg_lambda': 2.1902850803054923, 'colsample_bytree': 0.4160500539873674, 'subsample': 0.8140280760023573, 'learning_rate': 0.03697584272961443, 'max_depth': 8}. Best is trial 57 with value: 117769.19230769231.\u001b[0m\n",
      "\u001b[32m[I 2022-06-18 13:41:15,254]\u001b[0m Trial 273 finished with value: 127599.19230769231 and parameters: {'reg_alpha': 0.5629415779500457, 'reg_lambda': 1.8905045274029146, 'colsample_bytree': 0.9502673646125841, 'subsample': 0.831990636183386, 'learning_rate': 0.043387246340458124, 'max_depth': 8}. Best is trial 57 with value: 117769.19230769231.\u001b[0m\n",
      "\u001b[32m[I 2022-06-18 13:41:15,324]\u001b[0m Trial 274 finished with value: 131179.92307692306 and parameters: {'reg_alpha': 0.3494572801456182, 'reg_lambda': 2.4243727451685033, 'colsample_bytree': 0.9831759385552173, 'subsample': 0.7139610982325513, 'learning_rate': 0.040908296934959246, 'max_depth': 9}. Best is trial 57 with value: 117769.19230769231.\u001b[0m\n",
      "\u001b[32m[I 2022-06-18 13:41:15,375]\u001b[0m Trial 275 finished with value: 135637.57692307694 and parameters: {'reg_alpha': 0.8317507800833965, 'reg_lambda': 1.7828156083071773, 'colsample_bytree': 0.968058391476174, 'subsample': 0.7444604576230651, 'learning_rate': 0.04535080824503787, 'max_depth': 8}. Best is trial 57 with value: 117769.19230769231.\u001b[0m\n",
      "\u001b[32m[I 2022-06-18 13:41:15,446]\u001b[0m Trial 276 finished with value: 125953.26923076923 and parameters: {'reg_alpha': 0.11254121671015466, 'reg_lambda': 1.2752699283558324, 'colsample_bytree': 0.9849828641524851, 'subsample': 0.8053802068570095, 'learning_rate': 0.03907960963312211, 'max_depth': 8}. Best is trial 57 with value: 117769.19230769231.\u001b[0m\n",
      "\u001b[32m[I 2022-06-18 13:41:15,515]\u001b[0m Trial 277 finished with value: 130867.73076923077 and parameters: {'reg_alpha': 0.43988575326710216, 'reg_lambda': 2.26271453808024, 'colsample_bytree': 0.9588898363367744, 'subsample': 0.5806712287631871, 'learning_rate': 0.036073494567935876, 'max_depth': 8}. Best is trial 57 with value: 117769.19230769231.\u001b[0m\n",
      "\u001b[32m[I 2022-06-18 13:41:15,576]\u001b[0m Trial 278 finished with value: 127416.53846153847 and parameters: {'reg_alpha': 0.3127796773377495, 'reg_lambda': 1.5922797329646874, 'colsample_bytree': 0.9858455476767202, 'subsample': 0.5335379122294571, 'learning_rate': 0.037661103050096484, 'max_depth': 8}. Best is trial 57 with value: 117769.19230769231.\u001b[0m\n",
      "\u001b[32m[I 2022-06-18 13:41:15,641]\u001b[0m Trial 279 finished with value: 134907.38461538462 and parameters: {'reg_alpha': 0.09481443899408867, 'reg_lambda': 2.5531538505367086, 'colsample_bytree': 0.9706529889501543, 'subsample': 0.853793225177828, 'learning_rate': 0.03220974208019712, 'max_depth': 8}. Best is trial 57 with value: 117769.19230769231.\u001b[0m\n",
      "\u001b[32m[I 2022-06-18 13:41:15,707]\u001b[0m Trial 280 finished with value: 124737.23076923077 and parameters: {'reg_alpha': 0.2086568982039287, 'reg_lambda': 2.0869976359433413, 'colsample_bytree': 0.9998721177371702, 'subsample': 0.8692507095388925, 'learning_rate': 0.028497777189348292, 'max_depth': 8}. Best is trial 57 with value: 117769.19230769231.\u001b[0m\n",
      "\u001b[32m[I 2022-06-18 13:41:15,758]\u001b[0m Trial 281 finished with value: 133616.8076923077 and parameters: {'reg_alpha': 0.12757083970696292, 'reg_lambda': 1.751801392502893, 'colsample_bytree': 0.954612017688085, 'subsample': 0.8345669130907579, 'learning_rate': 0.039806830866718414, 'max_depth': 9}. Best is trial 57 with value: 117769.19230769231.\u001b[0m\n",
      "\u001b[32m[I 2022-06-18 13:41:15,816]\u001b[0m Trial 282 finished with value: 126881.26923076923 and parameters: {'reg_alpha': 1.1488448651437948, 'reg_lambda': 2.7990166094751117, 'colsample_bytree': 0.9835405630200357, 'subsample': 0.5915747066927972, 'learning_rate': 0.03670562966430761, 'max_depth': 8}. Best is trial 57 with value: 117769.19230769231.\u001b[0m\n",
      "\u001b[32m[I 2022-06-18 13:41:15,868]\u001b[0m Trial 283 finished with value: 136296.5 and parameters: {'reg_alpha': 0.6992912667438792, 'reg_lambda': 1.36967428613642, 'colsample_bytree': 0.9402756462388581, 'subsample': 0.5541794379435582, 'learning_rate': 0.042517788161667305, 'max_depth': 8}. Best is trial 57 with value: 117769.19230769231.\u001b[0m\n",
      "\u001b[32m[I 2022-06-18 13:41:15,950]\u001b[0m Trial 284 finished with value: 132283.92307692306 and parameters: {'reg_alpha': 0.27941976202136204, 'reg_lambda': 2.1060525174313165, 'colsample_bytree': 0.9702573223834294, 'subsample': 0.4952758004849145, 'learning_rate': 0.03425677122101482, 'max_depth': 9}. Best is trial 57 with value: 117769.19230769231.\u001b[0m\n",
      "\u001b[32m[I 2022-06-18 13:41:15,999]\u001b[0m Trial 285 finished with value: 155413.03846153847 and parameters: {'reg_alpha': 0.36556609213282526, 'reg_lambda': 3.2753199931290253, 'colsample_bytree': 0.6456980259681804, 'subsample': 0.6833359783074812, 'learning_rate': 0.038438365636028135, 'max_depth': 8}. Best is trial 57 with value: 117769.19230769231.\u001b[0m\n",
      "\u001b[32m[I 2022-06-18 13:41:16,069]\u001b[0m Trial 286 finished with value: 127837.76923076923 and parameters: {'reg_alpha': 0.014220224969685846, 'reg_lambda': 2.3343469968263615, 'colsample_bytree': 0.9864273952147864, 'subsample': 0.7851762071956087, 'learning_rate': 0.03526652904807833, 'max_depth': 8}. Best is trial 57 with value: 117769.19230769231.\u001b[0m\n",
      "\u001b[32m[I 2022-06-18 13:41:16,131]\u001b[0m Trial 287 finished with value: 126510.46153846153 and parameters: {'reg_alpha': 0.4998067136805676, 'reg_lambda': 0.9959422451310435, 'colsample_bytree': 0.9866226679936652, 'subsample': 0.8211482333669393, 'learning_rate': 0.04051708404749603, 'max_depth': 8}. Best is trial 57 with value: 117769.19230769231.\u001b[0m\n"
     ]
    },
    {
     "name": "stderr",
     "output_type": "stream",
     "text": [
      "\u001b[32m[I 2022-06-18 13:41:16,177]\u001b[0m Trial 288 finished with value: 144692.57692307694 and parameters: {'reg_alpha': 0.15127947318582974, 'reg_lambda': 2.6989283070249925, 'colsample_bytree': 0.8245774246935824, 'subsample': 0.6252195231016613, 'learning_rate': 0.09970412243688592, 'max_depth': 9}. Best is trial 57 with value: 117769.19230769231.\u001b[0m\n",
      "\u001b[32m[I 2022-06-18 13:41:16,242]\u001b[0m Trial 289 finished with value: 130361.23076923077 and parameters: {'reg_alpha': 0.2319090377231341, 'reg_lambda': 0.027391718072123677, 'colsample_bytree': 0.9999741748288766, 'subsample': 0.5866967023699821, 'learning_rate': 0.036844325941157725, 'max_depth': 10}. Best is trial 57 with value: 117769.19230769231.\u001b[0m\n",
      "\u001b[32m[I 2022-06-18 13:41:16,299]\u001b[0m Trial 290 finished with value: 134297.76923076922 and parameters: {'reg_alpha': 0.2959832028675105, 'reg_lambda': 1.6158302554250732, 'colsample_bytree': 0.9674210250886819, 'subsample': 0.564702627810501, 'learning_rate': 0.031001721669633046, 'max_depth': 8}. Best is trial 57 with value: 117769.19230769231.\u001b[0m\n",
      "\u001b[32m[I 2022-06-18 13:41:16,354]\u001b[0m Trial 291 finished with value: 135636.65384615384 and parameters: {'reg_alpha': 0.11216750256698672, 'reg_lambda': 3.1830420323419606, 'colsample_bytree': 0.9493488679431746, 'subsample': 0.5423011329960303, 'learning_rate': 0.046778332694249976, 'max_depth': 8}. Best is trial 57 with value: 117769.19230769231.\u001b[0m\n",
      "\u001b[32m[I 2022-06-18 13:41:16,409]\u001b[0m Trial 292 finished with value: 128691.65384615384 and parameters: {'reg_alpha': 0.2022616483725192, 'reg_lambda': 1.8904581875420272, 'colsample_bytree': 0.9741811888402295, 'subsample': 0.5165375724679113, 'learning_rate': 0.08033250092696896, 'max_depth': 8}. Best is trial 57 with value: 117769.19230769231.\u001b[0m\n",
      "\u001b[32m[I 2022-06-18 13:41:16,499]\u001b[0m Trial 293 finished with value: 124437.46153846153 and parameters: {'reg_alpha': 0.1549778080812462, 'reg_lambda': 2.449343652588878, 'colsample_bytree': 0.9857956905956254, 'subsample': 0.8463176115513035, 'learning_rate': 0.02517495910107504, 'max_depth': 7}. Best is trial 57 with value: 117769.19230769231.\u001b[0m\n",
      "\u001b[32m[I 2022-06-18 13:41:16,570]\u001b[0m Trial 294 finished with value: 130730.57692307692 and parameters: {'reg_alpha': 0.23987271327682136, 'reg_lambda': 2.0357782655854377, 'colsample_bytree': 0.9606025238682396, 'subsample': 0.45426638550882925, 'learning_rate': 0.03818772447749877, 'max_depth': 8}. Best is trial 57 with value: 117769.19230769231.\u001b[0m\n",
      "\u001b[32m[I 2022-06-18 13:41:16,667]\u001b[0m Trial 295 finished with value: 127489.61538461539 and parameters: {'reg_alpha': 0.3729163527563776, 'reg_lambda': 2.778808525303382, 'colsample_bytree': 0.9996155622958375, 'subsample': 0.7704004998090452, 'learning_rate': 0.03355786517285599, 'max_depth': 5}. Best is trial 57 with value: 117769.19230769231.\u001b[0m\n",
      "\u001b[32m[I 2022-06-18 13:41:16,794]\u001b[0m Trial 296 finished with value: 145213.11538461538 and parameters: {'reg_alpha': 0.09409851664970369, 'reg_lambda': 3.599788248800834, 'colsample_bytree': 0.46198858307752294, 'subsample': 0.8007758419983548, 'learning_rate': 0.03566580483885862, 'max_depth': 9}. Best is trial 57 with value: 117769.19230769231.\u001b[0m\n",
      "\u001b[32m[I 2022-06-18 13:41:16,850]\u001b[0m Trial 297 finished with value: 129277.61538461539 and parameters: {'reg_alpha': 0.16786126995814163, 'reg_lambda': 1.6490934414941176, 'colsample_bytree': 0.9842284936576966, 'subsample': 0.5752066509189472, 'learning_rate': 0.05125402592365232, 'max_depth': 8}. Best is trial 57 with value: 117769.19230769231.\u001b[0m\n",
      "\u001b[32m[I 2022-06-18 13:41:17,245]\u001b[0m Trial 298 finished with value: 203514.65384615384 and parameters: {'reg_alpha': 0.26820100132763325, 'reg_lambda': 1.1205315129233464, 'colsample_bytree': 0.2631980915042677, 'subsample': 0.6992176888912957, 'learning_rate': 0.04179457167056986, 'max_depth': 7}. Best is trial 57 with value: 117769.19230769231.\u001b[0m\n",
      "\u001b[32m[I 2022-06-18 13:41:17,300]\u001b[0m Trial 299 finished with value: 133662.84615384616 and parameters: {'reg_alpha': 0.12504628782160915, 'reg_lambda': 2.297207092031915, 'colsample_bytree': 0.971095697152373, 'subsample': 0.735610856930495, 'learning_rate': 0.03919427166050637, 'max_depth': 8}. Best is trial 57 with value: 117769.19230769231.\u001b[0m\n",
      "\u001b[32m[I 2022-06-18 13:41:17,359]\u001b[0m Trial 300 finished with value: 134907.5 and parameters: {'reg_alpha': 0.21021694980762892, 'reg_lambda': 1.902162841376598, 'colsample_bytree': 0.940897963827843, 'subsample': 0.6133589255915455, 'learning_rate': 0.03246496138643696, 'max_depth': 8}. Best is trial 57 with value: 117769.19230769231.\u001b[0m\n",
      "\u001b[32m[I 2022-06-18 13:41:17,434]\u001b[0m Trial 301 finished with value: 126078.26923076923 and parameters: {'reg_alpha': 0.4584538983241176, 'reg_lambda': 3.1910141346448966, 'colsample_bytree': 0.9865559896543115, 'subsample': 0.2934888071086474, 'learning_rate': 0.036169536052402355, 'max_depth': 8}. Best is trial 57 with value: 117769.19230769231.\u001b[0m\n",
      "\u001b[32m[I 2022-06-18 13:41:17,489]\u001b[0m Trial 302 finished with value: 127666.5 and parameters: {'reg_alpha': 0.6158835357570706, 'reg_lambda': 1.34619686848555, 'colsample_bytree': 0.9596535263428276, 'subsample': 0.8256612362296963, 'learning_rate': 0.0786118949075987, 'max_depth': 8}. Best is trial 57 with value: 117769.19230769231.\u001b[0m\n",
      "\u001b[32m[I 2022-06-18 13:41:17,565]\u001b[0m Trial 303 finished with value: 135218.96153846153 and parameters: {'reg_alpha': 0.30480092956317295, 'reg_lambda': 2.608736782138708, 'colsample_bytree': 0.9736481396129132, 'subsample': 0.5459638852497459, 'learning_rate': 0.034474652762416895, 'max_depth': 7}. Best is trial 57 with value: 117769.19230769231.\u001b[0m\n",
      "\u001b[32m[I 2022-06-18 13:41:17,611]\u001b[0m Trial 304 finished with value: 125155.96153846153 and parameters: {'reg_alpha': 0.1402138747101163, 'reg_lambda': 1.529001290210312, 'colsample_bytree': 0.9992152670136416, 'subsample': 0.8614911847543415, 'learning_rate': 0.0906103103984301, 'max_depth': 8}. Best is trial 57 with value: 117769.19230769231.\u001b[0m\n",
      "\u001b[32m[I 2022-06-18 13:41:17,677]\u001b[0m Trial 305 finished with value: 127089.38461538461 and parameters: {'reg_alpha': 0.18418327480454535, 'reg_lambda': 2.0910524987818153, 'colsample_bytree': 0.9854440549869835, 'subsample': 0.8110218687713574, 'learning_rate': 0.02926909409141943, 'max_depth': 9}. Best is trial 57 with value: 117769.19230769231.\u001b[0m\n",
      "\u001b[32m[I 2022-06-18 13:41:17,743]\u001b[0m Trial 306 finished with value: 133395.34615384616 and parameters: {'reg_alpha': 0.006630453783177857, 'reg_lambda': 3.070847154559714, 'colsample_bytree': 0.9701293330452581, 'subsample': 0.594219068908027, 'learning_rate': 0.038156927603993834, 'max_depth': 9}. Best is trial 57 with value: 117769.19230769231.\u001b[0m\n",
      "\u001b[32m[I 2022-06-18 13:41:17,812]\u001b[0m Trial 307 finished with value: 134661.84615384616 and parameters: {'reg_alpha': 0.24038050548483458, 'reg_lambda': 3.912065030936912, 'colsample_bytree': 0.953463410684555, 'subsample': 0.5635690347036894, 'learning_rate': 0.022626085185656675, 'max_depth': 8}. Best is trial 57 with value: 117769.19230769231.\u001b[0m\n",
      "\u001b[32m[I 2022-06-18 13:41:17,871]\u001b[0m Trial 308 finished with value: 127097.19230769231 and parameters: {'reg_alpha': 0.3255514497605776, 'reg_lambda': 2.4213873060872837, 'colsample_bytree': 0.998871966438039, 'subsample': 0.6340977057985762, 'learning_rate': 0.040584675777085036, 'max_depth': 8}. Best is trial 57 with value: 117769.19230769231.\u001b[0m\n",
      "\u001b[32m[I 2022-06-18 13:41:17,946]\u001b[0m Trial 309 finished with value: 121035.42307692308 and parameters: {'reg_alpha': 0.10916926568452633, 'reg_lambda': 1.7677764832140985, 'colsample_bytree': 0.9847461443737404, 'subsample': 0.6571007626868707, 'learning_rate': 0.033443785655040456, 'max_depth': 8}. Best is trial 57 with value: 117769.19230769231.\u001b[0m\n",
      "\u001b[32m[I 2022-06-18 13:41:18,003]\u001b[0m Trial 310 finished with value: 139852.42307692306 and parameters: {'reg_alpha': 0.1064479362190188, 'reg_lambda': 1.3485987869625307, 'colsample_bytree': 0.9274366686633839, 'subsample': 0.6509086484963058, 'learning_rate': 0.031321556555915876, 'max_depth': 8}. Best is trial 57 with value: 117769.19230769231.\u001b[0m\n",
      "\u001b[32m[I 2022-06-18 13:41:18,063]\u001b[0m Trial 311 finished with value: 135677.5 and parameters: {'reg_alpha': 0.07078233249606643, 'reg_lambda': 0.38536019041107017, 'colsample_bytree': 0.9753706154245346, 'subsample': 0.6619757768318859, 'learning_rate': 0.04415134336611817, 'max_depth': 8}. Best is trial 57 with value: 117769.19230769231.\u001b[0m\n"
     ]
    },
    {
     "name": "stderr",
     "output_type": "stream",
     "text": [
      "\u001b[32m[I 2022-06-18 13:41:18,139]\u001b[0m Trial 312 finished with value: 130042.88461538461 and parameters: {'reg_alpha': 0.08908035040007309, 'reg_lambda': 1.609471782774233, 'colsample_bytree': 0.9603984730350607, 'subsample': 0.6816795796595819, 'learning_rate': 0.03301962911037753, 'max_depth': 8}. Best is trial 57 with value: 117769.19230769231.\u001b[0m\n",
      "\u001b[32m[I 2022-06-18 13:41:18,216]\u001b[0m Trial 313 finished with value: 126801.53846153847 and parameters: {'reg_alpha': 0.1041287085846617, 'reg_lambda': 1.8602940955762128, 'colsample_bytree': 0.9855474286588226, 'subsample': 0.7059170145527411, 'learning_rate': 0.02692722264146728, 'max_depth': 7}. Best is trial 57 with value: 117769.19230769231.\u001b[0m\n",
      "\u001b[32m[I 2022-06-18 13:41:18,267]\u001b[0m Trial 314 finished with value: 140342.34615384616 and parameters: {'reg_alpha': 0.11901400782435721, 'reg_lambda': 1.156361348714259, 'colsample_bytree': 0.9504975018873173, 'subsample': 0.6898153420520869, 'learning_rate': 0.03695363578412719, 'max_depth': 8}. Best is trial 57 with value: 117769.19230769231.\u001b[0m\n",
      "\u001b[32m[I 2022-06-18 13:41:18,341]\u001b[0m Trial 315 finished with value: 136358.34615384616 and parameters: {'reg_alpha': 0.1471070049809169, 'reg_lambda': 5.114921851791249, 'colsample_bytree': 0.9763865535035566, 'subsample': 0.7240959386960887, 'learning_rate': 0.03387028382392145, 'max_depth': 8}. Best is trial 57 with value: 117769.19230769231.\u001b[0m\n",
      "\u001b[32m[I 2022-06-18 13:41:18,467]\u001b[0m Trial 316 finished with value: 120161.42307692308 and parameters: {'reg_alpha': 0.8671783189615618, 'reg_lambda': 1.8372238441728241, 'colsample_bytree': 0.9858332915087743, 'subsample': 0.6560638133312744, 'learning_rate': 0.04876673725938035, 'max_depth': 8}. Best is trial 57 with value: 117769.19230769231.\u001b[0m\n",
      "\u001b[32m[I 2022-06-18 13:41:18,543]\u001b[0m Trial 317 finished with value: 121231.5 and parameters: {'reg_alpha': 1.0119647655683826, 'reg_lambda': 1.7301928575642445, 'colsample_bytree': 0.986196823112974, 'subsample': 0.6567666956845849, 'learning_rate': 0.04951187845575528, 'max_depth': 8}. Best is trial 57 with value: 117769.19230769231.\u001b[0m\n",
      "\u001b[32m[I 2022-06-18 13:41:18,610]\u001b[0m Trial 318 finished with value: 131378.61538461538 and parameters: {'reg_alpha': 1.2785763641267702, 'reg_lambda': 1.4090885208909047, 'colsample_bytree': 0.9696341408345825, 'subsample': 0.638231208204352, 'learning_rate': 0.04919801755833545, 'max_depth': 8}. Best is trial 57 with value: 117769.19230769231.\u001b[0m\n",
      "\u001b[32m[I 2022-06-18 13:41:18,670]\u001b[0m Trial 319 finished with value: 131486.61538461538 and parameters: {'reg_alpha': 0.8180163060777059, 'reg_lambda': 1.7071592280060213, 'colsample_bytree': 0.943475177042264, 'subsample': 0.6765570973240459, 'learning_rate': 0.052487527422355996, 'max_depth': 11}. Best is trial 57 with value: 117769.19230769231.\u001b[0m\n",
      "\u001b[32m[I 2022-06-18 13:41:18,730]\u001b[0m Trial 320 finished with value: 129586.88461538461 and parameters: {'reg_alpha': 0.8647551862644332, 'reg_lambda': 0.005143933466645647, 'colsample_bytree': 0.986729565697115, 'subsample': 0.6548180643725238, 'learning_rate': 0.0512293938369025, 'max_depth': 8}. Best is trial 57 with value: 117769.19230769231.\u001b[0m\n",
      "\u001b[32m[I 2022-06-18 13:41:18,800]\u001b[0m Trial 321 finished with value: 126153.53846153847 and parameters: {'reg_alpha': 1.1940928172425238, 'reg_lambda': 1.4888373742970593, 'colsample_bytree': 0.9603882725790513, 'subsample': 0.6564289188460719, 'learning_rate': 0.04824225731059864, 'max_depth': 8}. Best is trial 57 with value: 117769.19230769231.\u001b[0m\n",
      "\u001b[32m[I 2022-06-18 13:41:18,864]\u001b[0m Trial 322 finished with value: 123850.34615384616 and parameters: {'reg_alpha': 1.5469775634225091, 'reg_lambda': 2.189668308093518, 'colsample_bytree': 0.984537471069054, 'subsample': 0.6174137937386274, 'learning_rate': 0.04981372126717335, 'max_depth': 8}. Best is trial 57 with value: 117769.19230769231.\u001b[0m\n",
      "\u001b[32m[I 2022-06-18 13:41:18,925]\u001b[0m Trial 323 finished with value: 132557.61538461538 and parameters: {'reg_alpha': 1.1186092755896209, 'reg_lambda': 1.2109741458491816, 'colsample_bytree': 0.9724297028107417, 'subsample': 0.6668970182768252, 'learning_rate': 0.050035746809118556, 'max_depth': 8}. Best is trial 57 with value: 117769.19230769231.\u001b[0m\n",
      "\u001b[32m[I 2022-06-18 13:41:18,997]\u001b[0m Trial 324 finished with value: 124471.80769230769 and parameters: {'reg_alpha': 0.0771342169840636, 'reg_lambda': 1.7637315830540363, 'colsample_bytree': 0.9866704902805024, 'subsample': 0.6275363845634676, 'learning_rate': 0.04735496563437864, 'max_depth': 8}. Best is trial 57 with value: 117769.19230769231.\u001b[0m\n",
      "\u001b[32m[I 2022-06-18 13:41:19,060]\u001b[0m Trial 325 finished with value: 131056.5 and parameters: {'reg_alpha': 0.9288413737041139, 'reg_lambda': 2.0634375411979886, 'colsample_bytree': 0.9633462053844096, 'subsample': 0.676897434065953, 'learning_rate': 0.05379301217152648, 'max_depth': 8}. Best is trial 57 with value: 117769.19230769231.\u001b[0m\n",
      "\u001b[32m[I 2022-06-18 13:41:19,117]\u001b[0m Trial 326 finished with value: 127062.5 and parameters: {'reg_alpha': 1.0577180689241492, 'reg_lambda': 1.7051107636450564, 'colsample_bytree': 0.998792407614695, 'subsample': 0.6394579702256298, 'learning_rate': 0.05153867007070038, 'max_depth': 8}. Best is trial 57 with value: 117769.19230769231.\u001b[0m\n",
      "\u001b[32m[I 2022-06-18 13:41:19,181]\u001b[0m Trial 327 finished with value: 138709.15384615384 and parameters: {'reg_alpha': 0.12997626463393375, 'reg_lambda': 2.417992615688047, 'colsample_bytree': 0.9379154607060458, 'subsample': 0.6483802539807909, 'learning_rate': 0.043950143845169834, 'max_depth': 8}. Best is trial 57 with value: 117769.19230769231.\u001b[0m\n",
      "\u001b[32m[I 2022-06-18 13:41:19,232]\u001b[0m Trial 328 finished with value: 132980.8076923077 and parameters: {'reg_alpha': 0.09017717522596427, 'reg_lambda': 0.8517381419978927, 'colsample_bytree': 0.9761999502421876, 'subsample': 0.6013380376013946, 'learning_rate': 0.04586561594560663, 'max_depth': 8}. Best is trial 57 with value: 117769.19230769231.\u001b[0m\n",
      "\u001b[32m[I 2022-06-18 13:41:19,298]\u001b[0m Trial 329 finished with value: 127664.92307692308 and parameters: {'reg_alpha': 0.7338614669364919, 'reg_lambda': 1.3830523495938194, 'colsample_bytree': 0.9853101726378203, 'subsample': 0.6844602304222647, 'learning_rate': 0.04207962203124649, 'max_depth': 8}. Best is trial 57 with value: 117769.19230769231.\u001b[0m\n",
      "\u001b[32m[I 2022-06-18 13:41:19,362]\u001b[0m Trial 330 finished with value: 137717.46153846153 and parameters: {'reg_alpha': 0.3756152439556036, 'reg_lambda': 0.9958855842407822, 'colsample_bytree': 0.9603527953606316, 'subsample': 0.6669545806940276, 'learning_rate': 0.03984377877422232, 'max_depth': 5}. Best is trial 57 with value: 117769.19230769231.\u001b[0m\n",
      "\u001b[32m[I 2022-06-18 13:41:19,421]\u001b[0m Trial 331 finished with value: 131138.57692307694 and parameters: {'reg_alpha': 0.545282838345198, 'reg_lambda': 2.117571126127195, 'colsample_bytree': 0.9753087072250625, 'subsample': 0.5808662163304084, 'learning_rate': 0.05277119950025583, 'max_depth': 8}. Best is trial 57 with value: 117769.19230769231.\u001b[0m\n",
      "\u001b[32m[I 2022-06-18 13:41:19,488]\u001b[0m Trial 332 finished with value: 127485.57692307692 and parameters: {'reg_alpha': 0.159178672607449, 'reg_lambda': 2.849017423454839, 'colsample_bytree': 0.9989607116196653, 'subsample': 0.6119605494926578, 'learning_rate': 0.030894103489625187, 'max_depth': 8}. Best is trial 57 with value: 117769.19230769231.\u001b[0m\n",
      "\u001b[32m[I 2022-06-18 13:41:19,543]\u001b[0m Trial 333 finished with value: 134830.92307692306 and parameters: {'reg_alpha': 0.11476064043351515, 'reg_lambda': 1.8897024500651536, 'colsample_bytree': 0.9489714623090144, 'subsample': 0.689590264404697, 'learning_rate': 0.037918727085524406, 'max_depth': 8}. Best is trial 57 with value: 117769.19230769231.\u001b[0m\n",
      "\u001b[32m[I 2022-06-18 13:41:19,603]\u001b[0m Trial 334 finished with value: 126860.73076923077 and parameters: {'reg_alpha': 0.17713667238868253, 'reg_lambda': 2.7153380401063325, 'colsample_bytree': 0.9857236838020887, 'subsample': 0.2638203990529024, 'learning_rate': 0.048351285488351735, 'max_depth': 8}. Best is trial 57 with value: 117769.19230769231.\u001b[0m\n",
      "\u001b[32m[I 2022-06-18 13:41:19,671]\u001b[0m Trial 335 finished with value: 129247.34615384616 and parameters: {'reg_alpha': 1.4974218724893966, 'reg_lambda': 2.2996926109015443, 'colsample_bytree': 0.9687640649524146, 'subsample': 0.5330972955669486, 'learning_rate': 0.039692837101256075, 'max_depth': 8}. Best is trial 57 with value: 117769.19230769231.\u001b[0m\n"
     ]
    },
    {
     "name": "stderr",
     "output_type": "stream",
     "text": [
      "\u001b[32m[I 2022-06-18 13:41:20,006]\u001b[0m Trial 336 finished with value: 125185.38461538461 and parameters: {'reg_alpha': 0.13583745152601218, 'reg_lambda': 1.5975679189092526, 'colsample_bytree': 0.9999160318357456, 'subsample': 0.5742788880554335, 'learning_rate': 0.03344605561120445, 'max_depth': 8}. Best is trial 57 with value: 117769.19230769231.\u001b[0m\n",
      "\u001b[32m[I 2022-06-18 13:41:20,095]\u001b[0m Trial 337 finished with value: 135996.07692307694 and parameters: {'reg_alpha': 0.4061967806792034, 'reg_lambda': 3.616287038175124, 'colsample_bytree': 0.9827902890625065, 'subsample': 0.7083379486503282, 'learning_rate': 0.04169395159451796, 'max_depth': 8}. Best is trial 57 with value: 117769.19230769231.\u001b[0m\n",
      "\u001b[32m[I 2022-06-18 13:41:20,864]\u001b[0m Trial 338 finished with value: 133114.6923076923 and parameters: {'reg_alpha': 0.27529359325161595, 'reg_lambda': 1.2634473947093785, 'colsample_bytree': 0.9586130157553798, 'subsample': 0.635816602543988, 'learning_rate': 0.03699097742228377, 'max_depth': 8}. Best is trial 57 with value: 117769.19230769231.\u001b[0m\n",
      "\u001b[32m[I 2022-06-18 13:41:20,957]\u001b[0m Trial 339 finished with value: 131610.42307692306 and parameters: {'reg_alpha': 0.1972155018036904, 'reg_lambda': 1.9558681242417224, 'colsample_bytree': 0.9731577893216566, 'subsample': 0.6569407480397249, 'learning_rate': 0.028813839318120534, 'max_depth': 8}. Best is trial 57 with value: 117769.19230769231.\u001b[0m\n",
      "\u001b[32m[I 2022-06-18 13:41:21,010]\u001b[0m Trial 340 finished with value: 154055.8076923077 and parameters: {'reg_alpha': 0.4741084760707622, 'reg_lambda': 2.9908940725150033, 'colsample_bytree': 0.5602431365842054, 'subsample': 0.288915943161684, 'learning_rate': 0.0356183439876, 'max_depth': 8}. Best is trial 57 with value: 117769.19230769231.\u001b[0m\n",
      "\u001b[32m[I 2022-06-18 13:41:21,071]\u001b[0m Trial 341 finished with value: 128988.69230769231 and parameters: {'reg_alpha': 0.09470489946575454, 'reg_lambda': 2.4010394496672047, 'colsample_bytree': 0.9346571198092648, 'subsample': 0.8446248167116356, 'learning_rate': 0.054484184749777946, 'max_depth': 8}. Best is trial 57 with value: 117769.19230769231.\u001b[0m\n",
      "\u001b[32m[I 2022-06-18 13:41:21,533]\u001b[0m Trial 342 finished with value: 122372.26923076923 and parameters: {'reg_alpha': 0.9474062859542237, 'reg_lambda': 1.557714964015689, 'colsample_bytree': 0.986464872352415, 'subsample': 0.608124440599892, 'learning_rate': 0.03867245670264364, 'max_depth': 8}. Best is trial 57 with value: 117769.19230769231.\u001b[0m\n",
      "\u001b[32m[I 2022-06-18 13:41:21,690]\u001b[0m Trial 343 finished with value: 133163.42307692306 and parameters: {'reg_alpha': 0.7054570674827676, 'reg_lambda': 1.4596129643672735, 'colsample_bytree': 0.9552509096313861, 'subsample': 0.5946667859425864, 'learning_rate': 0.03886716227503274, 'max_depth': 10}. Best is trial 57 with value: 117769.19230769231.\u001b[0m\n",
      "\u001b[32m[I 2022-06-18 13:41:21,762]\u001b[0m Trial 344 finished with value: 124395.07692307692 and parameters: {'reg_alpha': 0.9174586551819166, 'reg_lambda': 1.689867062027696, 'colsample_bytree': 0.9859151548622987, 'subsample': 0.6193863450088407, 'learning_rate': 0.04021479418561201, 'max_depth': 8}. Best is trial 57 with value: 117769.19230769231.\u001b[0m\n",
      "\u001b[32m[I 2022-06-18 13:41:21,820]\u001b[0m Trial 345 finished with value: 138020.53846153847 and parameters: {'reg_alpha': 1.055401820643316, 'reg_lambda': 4.251919941091262, 'colsample_bytree': 0.9715830350950829, 'subsample': 0.609759496581777, 'learning_rate': 0.03791184980826981, 'max_depth': 3}. Best is trial 57 with value: 117769.19230769231.\u001b[0m\n",
      "\u001b[32m[I 2022-06-18 13:41:21,873]\u001b[0m Trial 346 finished with value: 132032.57692307694 and parameters: {'reg_alpha': 0.961143452542912, 'reg_lambda': 1.1451580546908087, 'colsample_bytree': 0.9229077431798555, 'subsample': 0.5880640212505286, 'learning_rate': 0.0448284244459323, 'max_depth': 8}. Best is trial 57 with value: 117769.19230769231.\u001b[0m\n",
      "\u001b[32m[I 2022-06-18 13:41:21,949]\u001b[0m Trial 347 finished with value: 123622.80769230769 and parameters: {'reg_alpha': 0.34519699858388414, 'reg_lambda': 3.334921027719193, 'colsample_bytree': 0.9868387252251634, 'subsample': 0.5771583756432341, 'learning_rate': 0.03475040433245043, 'max_depth': 9}. Best is trial 57 with value: 117769.19230769231.\u001b[0m\n",
      "\u001b[32m[I 2022-06-18 13:41:22,021]\u001b[0m Trial 348 finished with value: 120553.11538461539 and parameters: {'reg_alpha': 0.29214588029114436, 'reg_lambda': 2.564976491626682, 'colsample_bytree': 0.999822939076259, 'subsample': 0.5615283927059889, 'learning_rate': 0.042278527923206105, 'max_depth': 8}. Best is trial 57 with value: 117769.19230769231.\u001b[0m\n",
      "\u001b[32m[I 2022-06-18 13:41:22,208]\u001b[0m Trial 349 finished with value: 134189.11538461538 and parameters: {'reg_alpha': 1.3884541891535969, 'reg_lambda': 0.14236811606272906, 'colsample_bytree': 0.9497518897268785, 'subsample': 0.626335137715601, 'learning_rate': 0.04240923164119022, 'max_depth': 8}. Best is trial 57 with value: 117769.19230769231.\u001b[0m\n",
      "\u001b[32m[I 2022-06-18 13:41:22,277]\u001b[0m Trial 350 finished with value: 128196.92307692308 and parameters: {'reg_alpha': 0.2674033074657541, 'reg_lambda': 2.729689849489082, 'colsample_bytree': 0.9701632074573242, 'subsample': 0.5952312918437123, 'learning_rate': 0.043290664331041784, 'max_depth': 8}. Best is trial 57 with value: 117769.19230769231.\u001b[0m\n",
      "\u001b[32m[I 2022-06-18 13:41:22,344]\u001b[0m Trial 351 finished with value: 130098.38461538461 and parameters: {'reg_alpha': 0.19928590742269514, 'reg_lambda': 3.38775758412996, 'colsample_bytree': 0.9853030199452214, 'subsample': 0.5636832956391548, 'learning_rate': 0.0451806513736287, 'max_depth': 8}. Best is trial 57 with value: 117769.19230769231.\u001b[0m\n",
      "\u001b[32m[I 2022-06-18 13:41:22,412]\u001b[0m Trial 352 finished with value: 125297.73076923077 and parameters: {'reg_alpha': 0.6056126816854078, 'reg_lambda': 2.312267472405854, 'colsample_bytree': 0.9998111863050868, 'subsample': 0.6002164748717405, 'learning_rate': 0.05065463659026241, 'max_depth': 9}. Best is trial 57 with value: 117769.19230769231.\u001b[0m\n",
      "\u001b[32m[I 2022-06-18 13:41:22,471]\u001b[0m Trial 353 finished with value: 135084.03846153847 and parameters: {'reg_alpha': 0.2960825648894023, 'reg_lambda': 2.766640060556008, 'colsample_bytree': 0.9643765907285063, 'subsample': 0.30906840194774693, 'learning_rate': 0.039800834590004636, 'max_depth': 8}. Best is trial 57 with value: 117769.19230769231.\u001b[0m\n",
      "\u001b[32m[I 2022-06-18 13:41:22,546]\u001b[0m Trial 354 finished with value: 128634.07692307692 and parameters: {'reg_alpha': 0.16290699433287, 'reg_lambda': 1.9867384491437763, 'colsample_bytree': 0.97677529999452, 'subsample': 0.8799304007639075, 'learning_rate': 0.04765355965645076, 'max_depth': 8}. Best is trial 57 with value: 117769.19230769231.\u001b[0m\n",
      "\u001b[32m[I 2022-06-18 13:41:22,600]\u001b[0m Trial 355 finished with value: 210105.88461538462 and parameters: {'reg_alpha': 0.2271704487491342, 'reg_lambda': 3.8889018911598914, 'colsample_bytree': 0.3474002952688239, 'subsample': 0.6334749404836394, 'learning_rate': 0.04139225401671273, 'max_depth': 8}. Best is trial 57 with value: 117769.19230769231.\u001b[0m\n",
      "\u001b[32m[I 2022-06-18 13:41:22,669]\u001b[0m Trial 356 finished with value: 133089.3076923077 and parameters: {'reg_alpha': 1.2452231600411818, 'reg_lambda': 0.047609897733845497, 'colsample_bytree': 0.9998743868503008, 'subsample': 0.24058398854017837, 'learning_rate': 0.03180511247627999, 'max_depth': 8}. Best is trial 57 with value: 117769.19230769231.\u001b[0m\n",
      "\u001b[32m[I 2022-06-18 13:41:22,743]\u001b[0m Trial 357 finished with value: 128626.19230769231 and parameters: {'reg_alpha': 0.19922962048243872, 'reg_lambda': 2.392207337754104, 'colsample_bytree': 0.950713976641367, 'subsample': 0.5708594334095805, 'learning_rate': 0.03558909195873457, 'max_depth': 8}. Best is trial 57 with value: 117769.19230769231.\u001b[0m\n",
      "\u001b[32m[I 2022-06-18 13:41:22,818]\u001b[0m Trial 358 finished with value: 133755.8076923077 and parameters: {'reg_alpha': 1.867697944813161, 'reg_lambda': 2.9527556745663994, 'colsample_bytree': 0.9815635003242283, 'subsample': 0.8118461464340492, 'learning_rate': 0.03890285478874104, 'max_depth': 8}. Best is trial 57 with value: 117769.19230769231.\u001b[0m\n",
      "\u001b[32m[I 2022-06-18 13:41:22,887]\u001b[0m Trial 359 finished with value: 132336.57692307694 and parameters: {'reg_alpha': 0.8291740524137087, 'reg_lambda': 2.018094433267815, 'colsample_bytree': 0.9657484113962598, 'subsample': 0.4259820896452697, 'learning_rate': 0.04112064362898827, 'max_depth': 8}. Best is trial 57 with value: 117769.19230769231.\u001b[0m\n"
     ]
    },
    {
     "name": "stderr",
     "output_type": "stream",
     "text": [
      "\u001b[32m[I 2022-06-18 13:41:22,952]\u001b[0m Trial 360 finished with value: 127332.07692307692 and parameters: {'reg_alpha': 0.2805547702935204, 'reg_lambda': 5.202749577227016, 'colsample_bytree': 0.9848544797514092, 'subsample': 0.7680234390768312, 'learning_rate': 0.05286681072655615, 'max_depth': 8}. Best is trial 57 with value: 117769.19230769231.\u001b[0m\n",
      "\u001b[32m[I 2022-06-18 13:41:23,022]\u001b[0m Trial 361 finished with value: 134161.84615384616 and parameters: {'reg_alpha': 0.13950937317313014, 'reg_lambda': 3.3384123143429796, 'colsample_bytree': 0.9397737701146942, 'subsample': 0.5585337619649643, 'learning_rate': 0.046509687807265054, 'max_depth': 9}. Best is trial 57 with value: 117769.19230769231.\u001b[0m\n",
      "\u001b[32m[I 2022-06-18 13:41:23,094]\u001b[0m Trial 362 finished with value: 132196.61538461538 and parameters: {'reg_alpha': 0.2462353905094733, 'reg_lambda': 2.498007183973296, 'colsample_bytree': 0.9710184353176824, 'subsample': 0.27302803237492007, 'learning_rate': 0.036852601463282425, 'max_depth': 7}. Best is trial 57 with value: 117769.19230769231.\u001b[0m\n",
      "\u001b[32m[I 2022-06-18 13:41:23,182]\u001b[0m Trial 363 finished with value: 126948.92307692308 and parameters: {'reg_alpha': 0.17364283384175513, 'reg_lambda': 1.750795431866925, 'colsample_bytree': 0.9999376139358976, 'subsample': 0.5191216511015995, 'learning_rate': 0.03295817148767455, 'max_depth': 8}. Best is trial 57 with value: 117769.19230769231.\u001b[0m\n",
      "\u001b[32m[I 2022-06-18 13:41:23,252]\u001b[0m Trial 364 finished with value: 136488.88461538462 and parameters: {'reg_alpha': 0.34370038724555185, 'reg_lambda': 2.2278807222153585, 'colsample_bytree': 0.9819190248226219, 'subsample': 0.6475675709932277, 'learning_rate': 0.020710732471502166, 'max_depth': 8}. Best is trial 57 with value: 117769.19230769231.\u001b[0m\n",
      "\u001b[32m[I 2022-06-18 13:41:23,327]\u001b[0m Trial 365 finished with value: 135587.5 and parameters: {'reg_alpha': 1.0088543232730975, 'reg_lambda': 4.585316050388688, 'colsample_bytree': 0.9562497801363229, 'subsample': 0.7911421512568153, 'learning_rate': 0.035079254880394116, 'max_depth': 8}. Best is trial 57 with value: 117769.19230769231.\u001b[0m\n",
      "\u001b[32m[I 2022-06-18 13:41:23,394]\u001b[0m Trial 366 finished with value: 126304.15384615384 and parameters: {'reg_alpha': 0.22726068796451016, 'reg_lambda': 2.970881371002194, 'colsample_bytree': 0.9860971839073637, 'subsample': 0.6058824555165709, 'learning_rate': 0.04925595722727835, 'max_depth': 8}. Best is trial 57 with value: 117769.19230769231.\u001b[0m\n",
      "\u001b[32m[I 2022-06-18 13:41:23,457]\u001b[0m Trial 367 finished with value: 137230.76923076922 and parameters: {'reg_alpha': 0.7864540909975818, 'reg_lambda': 0.27841455172005036, 'colsample_bytree': 0.9636640680004636, 'subsample': 0.46605148962382636, 'learning_rate': 0.043497904832626506, 'max_depth': 9}. Best is trial 57 with value: 117769.19230769231.\u001b[0m\n",
      "\u001b[32m[I 2022-06-18 13:41:23,530]\u001b[0m Trial 368 finished with value: 123168.96153846153 and parameters: {'reg_alpha': 0.0031280106420590267, 'reg_lambda': 1.7458158853364705, 'colsample_bytree': 0.9999517912278437, 'subsample': 0.8618656469463506, 'learning_rate': 0.030155033439269098, 'max_depth': 8}. Best is trial 57 with value: 117769.19230769231.\u001b[0m\n",
      "\u001b[32m[I 2022-06-18 13:41:23,592]\u001b[0m Trial 369 finished with value: 131031.0 and parameters: {'reg_alpha': 0.6113279258481716, 'reg_lambda': 1.4048283786660698, 'colsample_bytree': 0.9753297013864651, 'subsample': 0.8599296271204826, 'learning_rate': 0.02991131547364609, 'max_depth': 7}. Best is trial 57 with value: 117769.19230769231.\u001b[0m\n",
      "\u001b[32m[I 2022-06-18 13:41:23,663]\u001b[0m Trial 370 finished with value: 123855.26923076923 and parameters: {'reg_alpha': 0.00291149357783692, 'reg_lambda': 1.686430290796525, 'colsample_bytree': 0.9882694630835881, 'subsample': 0.8326321061628803, 'learning_rate': 0.030568459480540218, 'max_depth': 9}. Best is trial 57 with value: 117769.19230769231.\u001b[0m\n",
      "\u001b[32m[I 2022-06-18 13:41:23,723]\u001b[0m Trial 371 finished with value: 138428.96153846153 and parameters: {'reg_alpha': 0.005166910199448057, 'reg_lambda': 1.0852136077489176, 'colsample_bytree': 0.9438771957945499, 'subsample': 0.8444058356767524, 'learning_rate': 0.029750066066168538, 'max_depth': 8}. Best is trial 57 with value: 117769.19230769231.\u001b[0m\n",
      "\u001b[32m[I 2022-06-18 13:41:23,786]\u001b[0m Trial 372 finished with value: 134133.1923076923 and parameters: {'reg_alpha': 0.0018663728984304588, 'reg_lambda': 1.9626747321298197, 'colsample_bytree': 0.9702441609971121, 'subsample': 0.8928581301386708, 'learning_rate': 0.02734934322631225, 'max_depth': 11}. Best is trial 57 with value: 117769.19230769231.\u001b[0m\n",
      "\u001b[32m[I 2022-06-18 13:41:23,860]\u001b[0m Trial 373 finished with value: 125794.61538461539 and parameters: {'reg_alpha': 0.4415448565297185, 'reg_lambda': 1.5514271953530918, 'colsample_bytree': 0.9993324423772039, 'subsample': 0.8644598657079559, 'learning_rate': 0.027308550497688034, 'max_depth': 8}. Best is trial 57 with value: 117769.19230769231.\u001b[0m\n",
      "\u001b[32m[I 2022-06-18 13:41:23,943]\u001b[0m Trial 374 finished with value: 124378.30769230769 and parameters: {'reg_alpha': 0.02435396817574474, 'reg_lambda': 1.3088755990089391, 'colsample_bytree': 0.9859849530464453, 'subsample': 0.2841176948296927, 'learning_rate': 0.03250223094142183, 'max_depth': 8}. Best is trial 57 with value: 117769.19230769231.\u001b[0m\n",
      "\u001b[32m[I 2022-06-18 13:41:24,007]\u001b[0m Trial 375 finished with value: 134206.3076923077 and parameters: {'reg_alpha': 0.00966673604439796, 'reg_lambda': 2.1530558596793785, 'colsample_bytree': 0.9586304515137104, 'subsample': 0.8699160037481405, 'learning_rate': 0.03836916084023062, 'max_depth': 10}. Best is trial 57 with value: 117769.19230769231.\u001b[0m\n",
      "\u001b[32m[I 2022-06-18 13:41:24,082]\u001b[0m Trial 376 finished with value: 138037.38461538462 and parameters: {'reg_alpha': 1.1999064187754498, 'reg_lambda': 1.8088870126977257, 'colsample_bytree': 0.915448962942664, 'subsample': 0.8465410567693427, 'learning_rate': 0.040545161330810965, 'max_depth': 8}. Best is trial 57 with value: 117769.19230769231.\u001b[0m\n",
      "\u001b[32m[I 2022-06-18 13:41:24,148]\u001b[0m Trial 377 finished with value: 133037.76923076922 and parameters: {'reg_alpha': 0.03232122154630993, 'reg_lambda': 2.5074795591966343, 'colsample_bytree': 0.9757379218419827, 'subsample': 0.2982307714454351, 'learning_rate': 0.03728038076809309, 'max_depth': 8}. Best is trial 57 with value: 117769.19230769231.\u001b[0m\n",
      "\u001b[32m[I 2022-06-18 13:41:24,228]\u001b[0m Trial 378 finished with value: 125389.03846153847 and parameters: {'reg_alpha': 0.32265269240732686, 'reg_lambda': 1.71219358501995, 'colsample_bytree': 0.9870407870652053, 'subsample': 0.3147590011562241, 'learning_rate': 0.02399915777547064, 'max_depth': 9}. Best is trial 57 with value: 117769.19230769231.\u001b[0m\n",
      "\u001b[32m[I 2022-06-18 13:41:24,285]\u001b[0m Trial 379 finished with value: 131348.0 and parameters: {'reg_alpha': 0.0021799079479940904, 'reg_lambda': 2.2059896612881227, 'colsample_bytree': 0.9484482193694832, 'subsample': 0.8205377320556647, 'learning_rate': 0.055914338259435314, 'max_depth': 7}. Best is trial 57 with value: 117769.19230769231.\u001b[0m\n",
      "\u001b[32m[I 2022-06-18 13:41:24,349]\u001b[0m Trial 380 finished with value: 129513.65384615384 and parameters: {'reg_alpha': 0.014527602461395396, 'reg_lambda': 1.4916771194519363, 'colsample_bytree': 0.999509897521071, 'subsample': 0.25638316798003624, 'learning_rate': 0.04239094286850238, 'max_depth': 4}. Best is trial 57 with value: 117769.19230769231.\u001b[0m\n",
      "\u001b[32m[I 2022-06-18 13:41:24,498]\u001b[0m Trial 381 finished with value: 131058.26923076923 and parameters: {'reg_alpha': 0.16419360710874642, 'reg_lambda': 2.557685403068746, 'colsample_bytree': 0.516276265475665, 'subsample': 0.6184942399502289, 'learning_rate': 0.03395100265224907, 'max_depth': 8}. Best is trial 57 with value: 117769.19230769231.\u001b[0m\n",
      "\u001b[32m[I 2022-06-18 13:41:24,570]\u001b[0m Trial 382 finished with value: 131382.61538461538 and parameters: {'reg_alpha': 0.004427655902929798, 'reg_lambda': 1.9569147530481195, 'colsample_bytree': 0.9665713956546396, 'subsample': 0.7503334685022073, 'learning_rate': 0.03947373919161386, 'max_depth': 8}. Best is trial 57 with value: 117769.19230769231.\u001b[0m\n",
      "\u001b[32m[I 2022-06-18 13:41:24,631]\u001b[0m Trial 383 finished with value: 136769.03846153847 and parameters: {'reg_alpha': 1.5993278008865985, 'reg_lambda': 2.8356870148442868, 'colsample_bytree': 0.9334690969982419, 'subsample': 0.9019233085683862, 'learning_rate': 0.03134808866585281, 'max_depth': 8}. Best is trial 57 with value: 117769.19230769231.\u001b[0m\n"
     ]
    },
    {
     "name": "stderr",
     "output_type": "stream",
     "text": [
      "\u001b[32m[I 2022-06-18 13:41:24,692]\u001b[0m Trial 384 finished with value: 131796.07692307694 and parameters: {'reg_alpha': 0.020518548080895878, 'reg_lambda': 2.1181103346404853, 'colsample_bytree': 0.9753705679736484, 'subsample': 0.6617396359360755, 'learning_rate': 0.050508027378092, 'max_depth': 7}. Best is trial 57 with value: 117769.19230769231.\u001b[0m\n",
      "\u001b[32m[I 2022-06-18 13:41:24,771]\u001b[0m Trial 385 finished with value: 156937.46153846153 and parameters: {'reg_alpha': 0.526989062395683, 'reg_lambda': 1.2219336141471229, 'colsample_bytree': 0.7331753361994775, 'subsample': 0.6390543777135326, 'learning_rate': 0.03628909243148016, 'max_depth': 8}. Best is trial 57 with value: 117769.19230769231.\u001b[0m\n",
      "\u001b[32m[I 2022-06-18 13:41:24,935]\u001b[0m Trial 386 finished with value: 129379.88461538461 and parameters: {'reg_alpha': 0.13480932159572798, 'reg_lambda': 0.4850372764739237, 'colsample_bytree': 0.9998551985847096, 'subsample': 0.8017072342170368, 'learning_rate': 0.028635812117349297, 'max_depth': 8}. Best is trial 57 with value: 117769.19230769231.\u001b[0m\n",
      "\u001b[32m[I 2022-06-18 13:41:25,000]\u001b[0m Trial 387 finished with value: 125376.57692307692 and parameters: {'reg_alpha': 0.1886949497964424, 'reg_lambda': 1.7063260961584543, 'colsample_bytree': 0.9841890093807332, 'subsample': 0.8765490855199035, 'learning_rate': 0.05184590150192471, 'max_depth': 8}. Best is trial 57 with value: 117769.19230769231.\u001b[0m\n",
      "\u001b[32m[I 2022-06-18 13:41:25,059]\u001b[0m Trial 388 finished with value: 137051.53846153847 and parameters: {'reg_alpha': 0.7555568096920583, 'reg_lambda': 2.6825218814380474, 'colsample_bytree': 0.9570911803953315, 'subsample': 0.8345266863463482, 'learning_rate': 0.03833063369219238, 'max_depth': 8}. Best is trial 57 with value: 117769.19230769231.\u001b[0m\n",
      "\u001b[32m[I 2022-06-18 13:41:25,126]\u001b[0m Trial 389 finished with value: 135447.61538461538 and parameters: {'reg_alpha': 0.007020831086123484, 'reg_lambda': 2.262159228453033, 'colsample_bytree': 0.9728748903114457, 'subsample': 0.5939129371527054, 'learning_rate': 0.024800238534730932, 'max_depth': 8}. Best is trial 57 with value: 117769.19230769231.\u001b[0m\n",
      "\u001b[32m[I 2022-06-18 13:41:25,184]\u001b[0m Trial 390 finished with value: 130008.42307692308 and parameters: {'reg_alpha': 0.29610319840276633, 'reg_lambda': 1.0306888794816518, 'colsample_bytree': 0.9853757104768526, 'subsample': 0.6753364227367932, 'learning_rate': 0.041340875806288105, 'max_depth': 8}. Best is trial 57 with value: 117769.19230769231.\u001b[0m\n",
      "\u001b[32m[I 2022-06-18 13:41:25,266]\u001b[0m Trial 391 finished with value: 130752.30769230769 and parameters: {'reg_alpha': 0.1170277841605447, 'reg_lambda': 3.5091408348120963, 'colsample_bytree': 0.9598493019558204, 'subsample': 0.7845218511351061, 'learning_rate': 0.0337196953360515, 'max_depth': 9}. Best is trial 57 with value: 117769.19230769231.\u001b[0m\n",
      "\u001b[32m[I 2022-06-18 13:41:25,331]\u001b[0m Trial 392 finished with value: 122536.30769230769 and parameters: {'reg_alpha': 0.39660568838222665, 'reg_lambda': 1.5006514820801693, 'colsample_bytree': 0.9995403235608471, 'subsample': 0.5413238067198313, 'learning_rate': 0.046284675639176265, 'max_depth': 8}. Best is trial 57 with value: 117769.19230769231.\u001b[0m\n",
      "\u001b[32m[I 2022-06-18 13:41:25,387]\u001b[0m Trial 393 finished with value: 131641.65384615384 and parameters: {'reg_alpha': 0.4412754399217014, 'reg_lambda': 1.2937453203150906, 'colsample_bytree': 0.9832698648997079, 'subsample': 0.5268944127424816, 'learning_rate': 0.046641451064660104, 'max_depth': 12}. Best is trial 57 with value: 117769.19230769231.\u001b[0m\n",
      "\u001b[32m[I 2022-06-18 13:41:25,448]\u001b[0m Trial 394 finished with value: 127278.53846153847 and parameters: {'reg_alpha': 0.3526362495196789, 'reg_lambda': 1.5203721337407141, 'colsample_bytree': 0.9891589902333165, 'subsample': 0.53511735887197, 'learning_rate': 0.04741975985457286, 'max_depth': 8}. Best is trial 57 with value: 117769.19230769231.\u001b[0m\n",
      "\u001b[32m[I 2022-06-18 13:41:25,516]\u001b[0m Trial 395 finished with value: 131551.11538461538 and parameters: {'reg_alpha': 0.49702685593007623, 'reg_lambda': 0.07670248915533082, 'colsample_bytree': 0.9998202924791663, 'subsample': 0.5400194033058416, 'learning_rate': 0.0457726533716033, 'max_depth': 7}. Best is trial 57 with value: 117769.19230769231.\u001b[0m\n",
      "\u001b[32m[I 2022-06-18 13:41:25,585]\u001b[0m Trial 396 finished with value: 134666.73076923078 and parameters: {'reg_alpha': 0.3817204671995344, 'reg_lambda': 0.7151598556739445, 'colsample_bytree': 0.97067830339903, 'subsample': 0.5006503597505613, 'learning_rate': 0.04556645572019602, 'max_depth': 8}. Best is trial 57 with value: 117769.19230769231.\u001b[0m\n",
      "\u001b[32m[I 2022-06-18 13:41:25,655]\u001b[0m Trial 397 finished with value: 128068.69230769231 and parameters: {'reg_alpha': 0.9710325271638606, 'reg_lambda': 0.8801492053369986, 'colsample_bytree': 0.9992439161755092, 'subsample': 0.5540066845206699, 'learning_rate': 0.044229116524724055, 'max_depth': 8}. Best is trial 57 with value: 117769.19230769231.\u001b[0m\n",
      "\u001b[32m[I 2022-06-18 13:41:25,719]\u001b[0m Trial 398 finished with value: 127878.65384615384 and parameters: {'reg_alpha': 0.6524671775626647, 'reg_lambda': 1.853798876713368, 'colsample_bytree': 0.950321801663182, 'subsample': 0.8559295780018084, 'learning_rate': 0.04964606716133723, 'max_depth': 8}. Best is trial 57 with value: 117769.19230769231.\u001b[0m\n",
      "\u001b[32m[I 2022-06-18 13:41:25,783]\u001b[0m Trial 399 finished with value: 132919.8076923077 and parameters: {'reg_alpha': 0.28001915883413747, 'reg_lambda': 1.3075099227988263, 'colsample_bytree': 0.9740092077038214, 'subsample': 0.3259830412500026, 'learning_rate': 0.05179624262156047, 'max_depth': 7}. Best is trial 57 with value: 117769.19230769231.\u001b[0m\n",
      "\u001b[32m[I 2022-06-18 13:41:25,845]\u001b[0m Trial 400 finished with value: 125131.80769230769 and parameters: {'reg_alpha': 0.43639755230864696, 'reg_lambda': 1.5822058834179695, 'colsample_bytree': 0.9858869902465197, 'subsample': 0.27329815749391356, 'learning_rate': 0.04827612195734977, 'max_depth': 3}. Best is trial 57 with value: 117769.19230769231.\u001b[0m\n",
      "\u001b[32m[I 2022-06-18 13:41:25,916]\u001b[0m Trial 401 finished with value: 122802.15384615384 and parameters: {'reg_alpha': 0.3148239473475492, 'reg_lambda': 1.959982759842645, 'colsample_bytree': 0.9633044323997804, 'subsample': 0.6515431321579859, 'learning_rate': 0.048894040562768665, 'max_depth': 9}. Best is trial 57 with value: 117769.19230769231.\u001b[0m\n",
      "\u001b[32m[I 2022-06-18 13:41:25,981]\u001b[0m Trial 402 finished with value: 131582.61538461538 and parameters: {'reg_alpha': 0.3359225933332505, 'reg_lambda': 1.7839303098484267, 'colsample_bytree': 0.9628990476197146, 'subsample': 0.6552513727031317, 'learning_rate': 0.04957124017267309, 'max_depth': 9}. Best is trial 57 with value: 117769.19230769231.\u001b[0m\n",
      "\u001b[32m[I 2022-06-18 13:41:26,049]\u001b[0m Trial 403 finished with value: 130090.03846153847 and parameters: {'reg_alpha': 0.0014101811088799193, 'reg_lambda': 1.5436490923934387, 'colsample_bytree': 0.9737352868822026, 'subsample': 0.5231178758529774, 'learning_rate': 0.048521849076136526, 'max_depth': 9}. Best is trial 57 with value: 117769.19230769231.\u001b[0m\n",
      "\u001b[32m[I 2022-06-18 13:41:26,125]\u001b[0m Trial 404 finished with value: 127098.88461538461 and parameters: {'reg_alpha': 0.28030300140997294, 'reg_lambda': 1.9890890737985527, 'colsample_bytree': 0.9359265369516454, 'subsample': 0.647283584536048, 'learning_rate': 0.04392520330302768, 'max_depth': 9}. Best is trial 57 with value: 117769.19230769231.\u001b[0m\n",
      "\u001b[32m[I 2022-06-18 13:41:26,173]\u001b[0m Trial 405 finished with value: 142063.03846153847 and parameters: {'reg_alpha': 0.3652042530421185, 'reg_lambda': 1.1626122468330091, 'colsample_bytree': 0.7823146017392989, 'subsample': 0.6308270192122825, 'learning_rate': 0.04623309961133804, 'max_depth': 9}. Best is trial 57 with value: 117769.19230769231.\u001b[0m\n",
      "\u001b[32m[I 2022-06-18 13:41:26,235]\u001b[0m Trial 406 finished with value: 127536.57692307692 and parameters: {'reg_alpha': 0.4389064448556426, 'reg_lambda': 1.3685179334938034, 'colsample_bytree': 0.9879891795681269, 'subsample': 0.5089004205293489, 'learning_rate': 0.05092128962476158, 'max_depth': 9}. Best is trial 57 with value: 117769.19230769231.\u001b[0m\n",
      "\u001b[32m[I 2022-06-18 13:41:26,291]\u001b[0m Trial 407 finished with value: 128094.0 and parameters: {'reg_alpha': 0.5455345248898784, 'reg_lambda': 2.1893636449686107, 'colsample_bytree': 0.9997615606951823, 'subsample': 0.5485918829085414, 'learning_rate': 0.053871697331259974, 'max_depth': 9}. Best is trial 57 with value: 117769.19230769231.\u001b[0m\n"
     ]
    },
    {
     "name": "stderr",
     "output_type": "stream",
     "text": [
      "\u001b[32m[I 2022-06-18 13:41:26,350]\u001b[0m Trial 408 finished with value: 128360.61538461539 and parameters: {'reg_alpha': 0.2637341308683512, 'reg_lambda': 1.8168411223535346, 'colsample_bytree': 0.9593834477278045, 'subsample': 0.8225192902724421, 'learning_rate': 0.04730107348051304, 'max_depth': 10}. Best is trial 57 with value: 117769.19230769231.\u001b[0m\n",
      "\u001b[32m[I 2022-06-18 13:41:26,415]\u001b[0m Trial 409 finished with value: 125795.96153846153 and parameters: {'reg_alpha': 0.3213846920750709, 'reg_lambda': 1.5902335360714852, 'colsample_bytree': 0.9995276643424509, 'subsample': 0.2101223049989156, 'learning_rate': 0.04891632542941221, 'max_depth': 9}. Best is trial 57 with value: 117769.19230769231.\u001b[0m\n",
      "\u001b[32m[I 2022-06-18 13:41:26,487]\u001b[0m Trial 410 finished with value: 139595.5 and parameters: {'reg_alpha': 0.4009957393965376, 'reg_lambda': 0.0010789949161141151, 'colsample_bytree': 0.9770270925647321, 'subsample': 0.3067677054281054, 'learning_rate': 0.042820250120543205, 'max_depth': 9}. Best is trial 57 with value: 117769.19230769231.\u001b[0m\n",
      "\u001b[32m[I 2022-06-18 13:41:26,543]\u001b[0m Trial 411 finished with value: 136071.38461538462 and parameters: {'reg_alpha': 0.24850442847941873, 'reg_lambda': 2.2952156741355894, 'colsample_bytree': 0.9484728634663638, 'subsample': 0.6150724682618279, 'learning_rate': 0.05288995390678457, 'max_depth': 8}. Best is trial 57 with value: 117769.19230769231.\u001b[0m\n",
      "\u001b[32m[I 2022-06-18 13:41:26,602]\u001b[0m Trial 412 finished with value: 134507.92307692306 and parameters: {'reg_alpha': 0.7063312814476876, 'reg_lambda': 1.9383087490804674, 'colsample_bytree': 0.9695866791965839, 'subsample': 0.5806041536563857, 'learning_rate': 0.041211232808551365, 'max_depth': 7}. Best is trial 57 with value: 117769.19230769231.\u001b[0m\n",
      "\u001b[32m[I 2022-06-18 13:41:26,672]\u001b[0m Trial 413 finished with value: 122368.26923076923 and parameters: {'reg_alpha': 1.2945751390862608, 'reg_lambda': 1.3989371085454145, 'colsample_bytree': 0.9843228779004322, 'subsample': 0.5610448047757776, 'learning_rate': 0.04495208887722627, 'max_depth': 8}. Best is trial 57 with value: 117769.19230769231.\u001b[0m\n",
      "\u001b[32m[I 2022-06-18 13:41:26,739]\u001b[0m Trial 414 finished with value: 129747.46153846153 and parameters: {'reg_alpha': 1.160816112310514, 'reg_lambda': 1.0427564341224098, 'colsample_bytree': 0.9633003693143513, 'subsample': 0.5504298393189677, 'learning_rate': 0.046528894393046936, 'max_depth': 8}. Best is trial 57 with value: 117769.19230769231.\u001b[0m\n",
      "\u001b[32m[I 2022-06-18 13:41:26,794]\u001b[0m Trial 415 finished with value: 133152.11538461538 and parameters: {'reg_alpha': 1.0378146442784484, 'reg_lambda': 1.3293035326815519, 'colsample_bytree': 0.9300552853902493, 'subsample': 0.5752421962898993, 'learning_rate': 0.044789549117864834, 'max_depth': 8}. Best is trial 57 with value: 117769.19230769231.\u001b[0m\n",
      "\u001b[32m[I 2022-06-18 13:41:26,861]\u001b[0m Trial 416 finished with value: 123548.92307692308 and parameters: {'reg_alpha': 1.2269591231499957, 'reg_lambda': 1.5540203742883008, 'colsample_bytree': 0.9841751217732129, 'subsample': 0.5670159135790266, 'learning_rate': 0.04410722993213968, 'max_depth': 8}. Best is trial 57 with value: 117769.19230769231.\u001b[0m\n",
      "\u001b[32m[I 2022-06-18 13:41:26,930]\u001b[0m Trial 417 finished with value: 130812.30769230769 and parameters: {'reg_alpha': 0.9233486397831501, 'reg_lambda': 1.46639260448591, 'colsample_bytree': 0.9518967159607418, 'subsample': 0.5581006850592104, 'learning_rate': 0.0428177907906131, 'max_depth': 8}. Best is trial 57 with value: 117769.19230769231.\u001b[0m\n",
      "\u001b[32m[I 2022-06-18 13:41:26,988]\u001b[0m Trial 418 finished with value: 132544.0 and parameters: {'reg_alpha': 1.6226243666998272, 'reg_lambda': 0.943466880302353, 'colsample_bytree': 0.8593536048122481, 'subsample': 0.4856763019807139, 'learning_rate': 0.048041963581504074, 'max_depth': 8}. Best is trial 57 with value: 117769.19230769231.\u001b[0m\n",
      "\u001b[32m[I 2022-06-18 13:41:27,036]\u001b[0m Trial 419 finished with value: 147398.84615384616 and parameters: {'reg_alpha': 2.131231650037966, 'reg_lambda': 1.1783361898822122, 'colsample_bytree': 0.6743289551503459, 'subsample': 0.6662369158328925, 'learning_rate': 0.05010671993465187, 'max_depth': 8}. Best is trial 57 with value: 117769.19230769231.\u001b[0m\n",
      "\u001b[32m[I 2022-06-18 13:41:27,149]\u001b[0m Trial 420 finished with value: 132153.42307692306 and parameters: {'reg_alpha': 1.753069490010289, 'reg_lambda': 1.815740611084005, 'colsample_bytree': 0.4900328888348089, 'subsample': 0.2902493928422297, 'learning_rate': 0.045300833032005536, 'max_depth': 8}. Best is trial 57 with value: 117769.19230769231.\u001b[0m\n",
      "\u001b[32m[I 2022-06-18 13:41:27,207]\u001b[0m Trial 421 finished with value: 130568.61538461539 and parameters: {'reg_alpha': 1.3603657570040946, 'reg_lambda': 2.1039943158871743, 'colsample_bytree': 0.9753524456913257, 'subsample': 0.537181000862025, 'learning_rate': 0.0474689783735346, 'max_depth': 8}. Best is trial 57 with value: 117769.19230769231.\u001b[0m\n",
      "\u001b[32m[I 2022-06-18 13:41:27,259]\u001b[0m Trial 422 finished with value: 157625.34615384616 and parameters: {'reg_alpha': 0.8274429768980639, 'reg_lambda': 1.6656179028630238, 'colsample_bytree': 0.6024539080742515, 'subsample': 0.6014971090738451, 'learning_rate': 0.043103486583399436, 'max_depth': 8}. Best is trial 57 with value: 117769.19230769231.\u001b[0m\n",
      "\u001b[32m[I 2022-06-18 13:41:27,335]\u001b[0m Trial 423 finished with value: 128310.5 and parameters: {'reg_alpha': 0.6066464001068026, 'reg_lambda': 1.2671641015240886, 'colsample_bytree': 0.985308906114234, 'subsample': 0.6230171370071548, 'learning_rate': 0.04121708758315855, 'max_depth': 8}. Best is trial 57 with value: 117769.19230769231.\u001b[0m\n",
      "\u001b[32m[I 2022-06-18 13:41:27,409]\u001b[0m Trial 424 finished with value: 129990.73076923077 and parameters: {'reg_alpha': 0.36824483757039905, 'reg_lambda': 2.3416839095365143, 'colsample_bytree': 0.9661167494581828, 'subsample': 0.5214237063656763, 'learning_rate': 0.0401398755043086, 'max_depth': 7}. Best is trial 57 with value: 117769.19230769231.\u001b[0m\n",
      "\u001b[32m[I 2022-06-18 13:41:27,463]\u001b[0m Trial 425 finished with value: 140199.76923076922 and parameters: {'reg_alpha': 1.2967040181016838, 'reg_lambda': 1.9388807890850512, 'colsample_bytree': 0.812162548634036, 'subsample': 0.5606534050797124, 'learning_rate': 0.026400359676644128, 'max_depth': 8}. Best is trial 57 with value: 117769.19230769231.\u001b[0m\n",
      "\u001b[32m[I 2022-06-18 13:41:27,535]\u001b[0m Trial 426 finished with value: 124248.46153846153 and parameters: {'reg_alpha': 0.0010674723379656495, 'reg_lambda': 1.5107024425944289, 'colsample_bytree': 0.9856178588803821, 'subsample': 0.6446911082822996, 'learning_rate': 0.04627742721130255, 'max_depth': 8}. Best is trial 57 with value: 117769.19230769231.\u001b[0m\n",
      "\u001b[32m[I 2022-06-18 13:41:27,591]\u001b[0m Trial 427 finished with value: 138036.96153846153 and parameters: {'reg_alpha': 0.5094427348071506, 'reg_lambda': 2.541094797442523, 'colsample_bytree': 0.9419191511817417, 'subsample': 0.5880081078609553, 'learning_rate': 0.039975094232163354, 'max_depth': 8}. Best is trial 57 with value: 117769.19230769231.\u001b[0m\n",
      "\u001b[32m[I 2022-06-18 13:41:27,657]\u001b[0m Trial 428 finished with value: 128938.19230769231 and parameters: {'reg_alpha': 0.3138146944437531, 'reg_lambda': 1.8615276534547158, 'colsample_bytree': 0.963419785579229, 'subsample': 0.26521541092585577, 'learning_rate': 0.05157203507477213, 'max_depth': 8}. Best is trial 57 with value: 117769.19230769231.\u001b[0m\n",
      "\u001b[32m[I 2022-06-18 13:41:27,722]\u001b[0m Trial 429 finished with value: 126856.5 and parameters: {'reg_alpha': 1.06871218521109, 'reg_lambda': 1.081530117213612, 'colsample_bytree': 0.9990065928028077, 'subsample': 0.2490360509653248, 'learning_rate': 0.05426587629085618, 'max_depth': 8}. Best is trial 57 with value: 117769.19230769231.\u001b[0m\n",
      "\u001b[32m[I 2022-06-18 13:41:27,774]\u001b[0m Trial 430 finished with value: 135052.96153846153 and parameters: {'reg_alpha': 0.8577729024473074, 'reg_lambda': 1.4133141456847917, 'colsample_bytree': 0.9827684947535054, 'subsample': 0.5423528403234213, 'learning_rate': 0.0491677898004391, 'max_depth': 7}. Best is trial 57 with value: 117769.19230769231.\u001b[0m\n",
      "\u001b[32m[I 2022-06-18 13:41:27,847]\u001b[0m Trial 431 finished with value: 126182.76923076923 and parameters: {'reg_alpha': 0.421479945404339, 'reg_lambda': 2.2812019617455923, 'colsample_bytree': 0.9731294908313624, 'subsample': 0.5771568623020567, 'learning_rate': 0.04450226634274369, 'max_depth': 8}. Best is trial 57 with value: 117769.19230769231.\u001b[0m\n"
     ]
    },
    {
     "name": "stderr",
     "output_type": "stream",
     "text": [
      "\u001b[32m[I 2022-06-18 13:41:27,902]\u001b[0m Trial 432 finished with value: 137590.61538461538 and parameters: {'reg_alpha': 1.410283172688353, 'reg_lambda': 1.6718568871070156, 'colsample_bytree': 0.955815949037268, 'subsample': 0.6722249498528614, 'learning_rate': 0.0427485966127859, 'max_depth': 8}. Best is trial 57 with value: 117769.19230769231.\u001b[0m\n",
      "\u001b[32m[I 2022-06-18 13:41:27,954]\u001b[0m Trial 433 finished with value: 146680.84615384616 and parameters: {'reg_alpha': 0.2600129796097806, 'reg_lambda': 0.015135427815923306, 'colsample_bytree': 0.6401667019000763, 'subsample': 0.6286847749827431, 'learning_rate': 0.02895057603282759, 'max_depth': 8}. Best is trial 57 with value: 117769.19230769231.\u001b[0m\n",
      "\u001b[32m[I 2022-06-18 13:41:28,025]\u001b[0m Trial 434 finished with value: 124259.5 and parameters: {'reg_alpha': 0.05771919514781281, 'reg_lambda': 1.9087275390974487, 'colsample_bytree': 0.9995187491761468, 'subsample': 0.29895686729287113, 'learning_rate': 0.03958885224732035, 'max_depth': 8}. Best is trial 57 with value: 117769.19230769231.\u001b[0m\n",
      "\u001b[32m[I 2022-06-18 13:41:28,093]\u001b[0m Trial 435 finished with value: 126771.11538461539 and parameters: {'reg_alpha': 0.3103518006960304, 'reg_lambda': 2.6676174422051764, 'colsample_bytree': 0.9844522321812009, 'subsample': 0.5635487093109554, 'learning_rate': 0.05017349010588241, 'max_depth': 8}. Best is trial 57 with value: 117769.19230769231.\u001b[0m\n",
      "\u001b[32m[I 2022-06-18 13:41:28,152]\u001b[0m Trial 436 finished with value: 133361.57692307694 and parameters: {'reg_alpha': 0.22111538830857683, 'reg_lambda': 0.6127386505659779, 'colsample_bytree': 0.9723872903057639, 'subsample': 0.44166867696477125, 'learning_rate': 0.08520463987045715, 'max_depth': 8}. Best is trial 57 with value: 117769.19230769231.\u001b[0m\n",
      "\u001b[32m[I 2022-06-18 13:41:28,220]\u001b[0m Trial 437 finished with value: 135087.26923076922 and parameters: {'reg_alpha': 3.451835766793304, 'reg_lambda': 2.241460498746958, 'colsample_bytree': 0.9452798762904455, 'subsample': 0.5061362846047368, 'learning_rate': 0.031218327137599856, 'max_depth': 7}. Best is trial 57 with value: 117769.19230769231.\u001b[0m\n",
      "\u001b[32m[I 2022-06-18 13:41:28,283]\u001b[0m Trial 438 finished with value: 130607.57692307692 and parameters: {'reg_alpha': 0.6632618153716404, 'reg_lambda': 1.2597180039351885, 'colsample_bytree': 0.9872505690735673, 'subsample': 0.323632100139904, 'learning_rate': 0.041535038208853174, 'max_depth': 8}. Best is trial 57 with value: 117769.19230769231.\u001b[0m\n",
      "\u001b[32m[I 2022-06-18 13:41:28,360]\u001b[0m Trial 439 finished with value: 127165.46153846153 and parameters: {'reg_alpha': 0.3790139738729164, 'reg_lambda': 1.707520800667699, 'colsample_bytree': 0.9655705583177591, 'subsample': 0.2833482669126728, 'learning_rate': 0.03829227188588609, 'max_depth': 8}. Best is trial 57 with value: 117769.19230769231.\u001b[0m\n",
      "\u001b[32m[I 2022-06-18 13:41:28,423]\u001b[0m Trial 440 finished with value: 130251.80769230769 and parameters: {'reg_alpha': 0.4836011867745049, 'reg_lambda': 0.0025717760915116394, 'colsample_bytree': 0.9991341790834525, 'subsample': 0.6571822548976208, 'learning_rate': 0.05236094803494019, 'max_depth': 8}. Best is trial 57 with value: 117769.19230769231.\u001b[0m\n",
      "\u001b[32m[I 2022-06-18 13:41:28,492]\u001b[0m Trial 441 finished with value: 125301.15384615384 and parameters: {'reg_alpha': 0.10419813693317423, 'reg_lambda': 2.0841029645896847, 'colsample_bytree': 0.9766234247298168, 'subsample': 0.5989180781382341, 'learning_rate': 0.04749338402071233, 'max_depth': 7}. Best is trial 57 with value: 117769.19230769231.\u001b[0m\n",
      "\u001b[32m[I 2022-06-18 13:41:28,570]\u001b[0m Trial 442 finished with value: 124030.61538461539 and parameters: {'reg_alpha': 0.08717087182291508, 'reg_lambda': 2.7831863814114643, 'colsample_bytree': 0.9858259249458703, 'subsample': 0.5344932806774885, 'learning_rate': 0.036477405450412725, 'max_depth': 8}. Best is trial 57 with value: 117769.19230769231.\u001b[0m\n",
      "\u001b[32m[I 2022-06-18 13:41:28,636]\u001b[0m Trial 443 finished with value: 129590.07692307692 and parameters: {'reg_alpha': 1.0687243496658656, 'reg_lambda': 1.6700014850491285, 'colsample_bytree': 0.9575765039884482, 'subsample': 0.6095172122467128, 'learning_rate': 0.04495452330207105, 'max_depth': 8}. Best is trial 57 with value: 117769.19230769231.\u001b[0m\n",
      "\u001b[32m[I 2022-06-18 13:41:28,718]\u001b[0m Trial 444 finished with value: 140187.03846153847 and parameters: {'reg_alpha': 0.31842236672571217, 'reg_lambda': 1.3933776854753714, 'colsample_bytree': 0.9134090614485829, 'subsample': 0.22754058615309836, 'learning_rate': 0.03909592431076279, 'max_depth': 8}. Best is trial 57 with value: 117769.19230769231.\u001b[0m\n",
      "\u001b[32m[I 2022-06-18 13:41:28,794]\u001b[0m Trial 445 finished with value: 127606.96153846153 and parameters: {'reg_alpha': 0.19763466554500167, 'reg_lambda': 2.2655255592215866, 'colsample_bytree': 0.9999645635015334, 'subsample': 0.5520458885673615, 'learning_rate': 0.042671632589233996, 'max_depth': 8}. Best is trial 57 with value: 117769.19230769231.\u001b[0m\n",
      "\u001b[32m[I 2022-06-18 13:41:28,900]\u001b[0m Trial 446 finished with value: 133848.61538461538 and parameters: {'reg_alpha': 0.594426967581639, 'reg_lambda': 0.10952280354312979, 'colsample_bytree': 0.9738955692008531, 'subsample': 0.6430401593233164, 'learning_rate': 0.03268529861475577, 'max_depth': 10}. Best is trial 57 with value: 117769.19230769231.\u001b[0m\n",
      "\u001b[32m[I 2022-06-18 13:41:28,976]\u001b[0m Trial 447 finished with value: 132947.23076923078 and parameters: {'reg_alpha': 2.728772710756281, 'reg_lambda': 2.562159361156603, 'colsample_bytree': 0.9467657558324285, 'subsample': 0.587485464216111, 'learning_rate': 0.03776102223443223, 'max_depth': 8}. Best is trial 57 with value: 117769.19230769231.\u001b[0m\n",
      "\u001b[32m[I 2022-06-18 13:41:29,035]\u001b[0m Trial 448 finished with value: 122528.80769230769 and parameters: {'reg_alpha': 0.23625346554092524, 'reg_lambda': 1.9348219764643642, 'colsample_bytree': 0.9854507507289106, 'subsample': 0.5781700073056606, 'learning_rate': 0.08965412030617828, 'max_depth': 8}. Best is trial 57 with value: 117769.19230769231.\u001b[0m\n",
      "\u001b[32m[I 2022-06-18 13:41:29,085]\u001b[0m Trial 449 finished with value: 132977.84615384616 and parameters: {'reg_alpha': 0.22617997389693553, 'reg_lambda': 1.9712180379193422, 'colsample_bytree': 0.9856377562080721, 'subsample': 0.5733674009424751, 'learning_rate': 0.09465681677093195, 'max_depth': 5}. Best is trial 57 with value: 117769.19230769231.\u001b[0m\n",
      "\u001b[32m[I 2022-06-18 13:41:29,157]\u001b[0m Trial 450 finished with value: 135629.23076923078 and parameters: {'reg_alpha': 0.1723200532168644, 'reg_lambda': 3.287033887806416, 'colsample_bytree': 0.9632191132032799, 'subsample': 0.5839217900808867, 'learning_rate': 0.028021198665273986, 'max_depth': 8}. Best is trial 57 with value: 117769.19230769231.\u001b[0m\n",
      "\u001b[32m[I 2022-06-18 13:41:29,236]\u001b[0m Trial 451 finished with value: 124687.0 and parameters: {'reg_alpha': 0.7935537248973275, 'reg_lambda': 2.5453193847241367, 'colsample_bytree': 0.9999274448408818, 'subsample': 0.6094080019101836, 'learning_rate': 0.034856156452666424, 'max_depth': 8}. Best is trial 57 with value: 117769.19230769231.\u001b[0m\n",
      "\u001b[32m[I 2022-06-18 13:41:29,322]\u001b[0m Trial 452 finished with value: 126829.88461538461 and parameters: {'reg_alpha': 0.004034043903403759, 'reg_lambda': 2.0249998809928544, 'colsample_bytree': 0.975767531491487, 'subsample': 0.5584589935871123, 'learning_rate': 0.040904727925379636, 'max_depth': 8}. Best is trial 57 with value: 117769.19230769231.\u001b[0m\n",
      "\u001b[32m[I 2022-06-18 13:41:29,408]\u001b[0m Trial 453 finished with value: 133061.96153846153 and parameters: {'reg_alpha': 0.20508295965334072, 'reg_lambda': 2.9869864653854767, 'colsample_bytree': 0.9264048803659516, 'subsample': 0.5727727835322453, 'learning_rate': 0.049634226725714777, 'max_depth': 8}. Best is trial 57 with value: 117769.19230769231.\u001b[0m\n",
      "\u001b[32m[I 2022-06-18 13:41:29,511]\u001b[0m Trial 454 finished with value: 123787.80769230769 and parameters: {'reg_alpha': 0.2508780678229661, 'reg_lambda': 1.478790387466923, 'colsample_bytree': 0.9857798784627855, 'subsample': 0.5437723797196667, 'learning_rate': 0.0302193740889096, 'max_depth': 4}. Best is trial 57 with value: 117769.19230769231.\u001b[0m\n",
      "\u001b[32m[I 2022-06-18 13:41:29,565]\u001b[0m Trial 455 finished with value: 132252.76923076922 and parameters: {'reg_alpha': 0.04436268219079026, 'reg_lambda': 1.772092729541608, 'colsample_bytree': 0.960388495921365, 'subsample': 0.5238290828531763, 'learning_rate': 0.09713711193501798, 'max_depth': 8}. Best is trial 57 with value: 117769.19230769231.\u001b[0m\n"
     ]
    },
    {
     "name": "stderr",
     "output_type": "stream",
     "text": [
      "\u001b[32m[I 2022-06-18 13:41:29,627]\u001b[0m Trial 456 finished with value: 128889.26923076923 and parameters: {'reg_alpha': 0.13473879882905399, 'reg_lambda': 2.393389578323819, 'colsample_bytree': 0.9861778965954762, 'subsample': 0.6187040968831625, 'learning_rate': 0.03634591936779362, 'max_depth': 8}. Best is trial 57 with value: 117769.19230769231.\u001b[0m\n",
      "\u001b[32m[I 2022-06-18 13:41:29,698]\u001b[0m Trial 457 finished with value: 124307.23076923077 and parameters: {'reg_alpha': 0.27085195573353416, 'reg_lambda': 3.967349293825441, 'colsample_bytree': 0.9994656996739523, 'subsample': 0.5970986405682442, 'learning_rate': 0.04659495937719996, 'max_depth': 8}. Best is trial 57 with value: 117769.19230769231.\u001b[0m\n",
      "\u001b[32m[I 2022-06-18 13:41:29,758]\u001b[0m Trial 458 finished with value: 134445.38461538462 and parameters: {'reg_alpha': 0.1942703376028947, 'reg_lambda': 1.0926841358963912, 'colsample_bytree': 0.972670717083266, 'subsample': 0.6833670041607741, 'learning_rate': 0.03979380611469327, 'max_depth': 8}. Best is trial 57 with value: 117769.19230769231.\u001b[0m\n",
      "\u001b[32m[I 2022-06-18 13:41:29,914]\u001b[0m Trial 459 finished with value: 140687.84615384616 and parameters: {'reg_alpha': 0.9101930173472321, 'reg_lambda': 2.1674342037405627, 'colsample_bytree': 0.3074142844518751, 'subsample': 0.806508699055547, 'learning_rate': 0.043429391697338136, 'max_depth': 8}. Best is trial 57 with value: 117769.19230769231.\u001b[0m\n",
      "\u001b[32m[I 2022-06-18 13:41:29,987]\u001b[0m Trial 460 finished with value: 147022.8076923077 and parameters: {'reg_alpha': 0.12108612638179263, 'reg_lambda': 3.02700538484061, 'colsample_bytree': 0.9424332952144484, 'subsample': 0.6318981934647591, 'learning_rate': 0.017143366679881214, 'max_depth': 8}. Best is trial 57 with value: 117769.19230769231.\u001b[0m\n",
      "\u001b[32m[I 2022-06-18 13:41:30,048]\u001b[0m Trial 461 finished with value: 133404.53846153847 and parameters: {'reg_alpha': 0.07706616604889541, 'reg_lambda': 1.7547634614286989, 'colsample_bytree': 0.9614966236641049, 'subsample': 0.5567723493217128, 'learning_rate': 0.03778784834889229, 'max_depth': 9}. Best is trial 57 with value: 117769.19230769231.\u001b[0m\n",
      "\u001b[32m[I 2022-06-18 13:41:30,127]\u001b[0m Trial 462 finished with value: 124625.84615384616 and parameters: {'reg_alpha': 1.4228053201788622, 'reg_lambda': 1.3334769502466521, 'colsample_bytree': 0.9847114309042495, 'subsample': 0.5870623656603687, 'learning_rate': 0.032211717056146824, 'max_depth': 8}. Best is trial 57 with value: 117769.19230769231.\u001b[0m\n",
      "\u001b[32m[I 2022-06-18 13:41:30,183]\u001b[0m Trial 463 finished with value: 128765.19230769231 and parameters: {'reg_alpha': 0.15570774896210152, 'reg_lambda': 0.03220918802368224, 'colsample_bytree': 0.9995454796282996, 'subsample': 0.6643881479936574, 'learning_rate': 0.0901349058508597, 'max_depth': 8}. Best is trial 57 with value: 117769.19230769231.\u001b[0m\n",
      "\u001b[32m[I 2022-06-18 13:41:30,256]\u001b[0m Trial 464 finished with value: 129039.57692307692 and parameters: {'reg_alpha': 0.2863172659823887, 'reg_lambda': 2.5215866405596095, 'colsample_bytree': 0.9703895412502513, 'subsample': 0.5692429207066395, 'learning_rate': 0.035001964914902234, 'max_depth': 9}. Best is trial 57 with value: 117769.19230769231.\u001b[0m\n",
      "\u001b[32m[I 2022-06-18 13:41:30,369]\u001b[0m Trial 465 finished with value: 134486.1923076923 and parameters: {'reg_alpha': 0.012561301503720852, 'reg_lambda': 1.9678900612467758, 'colsample_bytree': 0.42537305688236415, 'subsample': 0.8849349859549954, 'learning_rate': 0.048084939735117314, 'max_depth': 8}. Best is trial 57 with value: 117769.19230769231.\u001b[0m\n",
      "\u001b[32m[I 2022-06-18 13:41:30,437]\u001b[0m Trial 466 finished with value: 135981.96153846153 and parameters: {'reg_alpha': 0.10276333585815758, 'reg_lambda': 1.513148338684623, 'colsample_bytree': 0.9488404898659211, 'subsample': 0.536394816887068, 'learning_rate': 0.042124270035095314, 'max_depth': 8}. Best is trial 57 with value: 117769.19230769231.\u001b[0m\n",
      "\u001b[32m[I 2022-06-18 13:41:30,508]\u001b[0m Trial 467 finished with value: 125558.69230769231 and parameters: {'reg_alpha': 0.2215930690242483, 'reg_lambda': 2.1996307280769427, 'colsample_bytree': 0.983837758883993, 'subsample': 0.6492815664259253, 'learning_rate': 0.055065315386845955, 'max_depth': 8}. Best is trial 57 with value: 117769.19230769231.\u001b[0m\n",
      "\u001b[32m[I 2022-06-18 13:41:30,579]\u001b[0m Trial 468 finished with value: 123646.26923076923 and parameters: {'reg_alpha': 0.7068736058442779, 'reg_lambda': 3.0481261991109028, 'colsample_bytree': 0.9731021100197957, 'subsample': 0.3811213858711583, 'learning_rate': 0.05170137542748127, 'max_depth': 8}. Best is trial 57 with value: 117769.19230769231.\u001b[0m\n",
      "\u001b[32m[I 2022-06-18 13:41:30,645]\u001b[0m Trial 469 finished with value: 125082.38461538461 and parameters: {'reg_alpha': 0.018509559699758843, 'reg_lambda': 1.7533382843003527, 'colsample_bytree': 0.9995662807357898, 'subsample': 0.8318649790902716, 'learning_rate': 0.04504095971079594, 'max_depth': 8}. Best is trial 57 with value: 117769.19230769231.\u001b[0m\n",
      "\u001b[32m[I 2022-06-18 13:41:30,706]\u001b[0m Trial 470 finished with value: 132879.07692307694 and parameters: {'reg_alpha': 1.0779892000493125, 'reg_lambda': 2.7425665882514303, 'colsample_bytree': 0.954445169780836, 'subsample': 0.5162506660737115, 'learning_rate': 0.039043913910826185, 'max_depth': 8}. Best is trial 57 with value: 117769.19230769231.\u001b[0m\n",
      "\u001b[32m[I 2022-06-18 13:41:30,768]\u001b[0m Trial 471 finished with value: 135070.11538461538 and parameters: {'reg_alpha': 0.34005273417239706, 'reg_lambda': 3.659388579516224, 'colsample_bytree': 0.9830237307663028, 'subsample': 0.5560380449468011, 'learning_rate': 0.03640301121184931, 'max_depth': 9}. Best is trial 57 with value: 117769.19230769231.\u001b[0m\n",
      "\u001b[32m[I 2022-06-18 13:41:30,867]\u001b[0m Trial 472 finished with value: 135669.53846153847 and parameters: {'reg_alpha': 0.1817277104603758, 'reg_lambda': 0.9624980708936869, 'colsample_bytree': 0.9690861270136386, 'subsample': 0.6037959034300713, 'learning_rate': 0.011213933274219712, 'max_depth': 8}. Best is trial 57 with value: 117769.19230769231.\u001b[0m\n",
      "\u001b[32m[I 2022-06-18 13:41:30,928]\u001b[0m Trial 473 finished with value: 138572.65384615384 and parameters: {'reg_alpha': 1.9885509431575052, 'reg_lambda': 1.2379203211138206, 'colsample_bytree': 0.9305063654821975, 'subsample': 0.627791996416814, 'learning_rate': 0.040813594205935465, 'max_depth': 8}. Best is trial 57 with value: 117769.19230769231.\u001b[0m\n",
      "\u001b[32m[I 2022-06-18 13:41:31,002]\u001b[0m Trial 474 finished with value: 125531.23076923077 and parameters: {'reg_alpha': 0.498176693729959, 'reg_lambda': 2.053823606416643, 'colsample_bytree': 0.9859625727809675, 'subsample': 0.6931557309076364, 'learning_rate': 0.02648188599854768, 'max_depth': 8}. Best is trial 57 with value: 117769.19230769231.\u001b[0m\n",
      "\u001b[32m[I 2022-06-18 13:41:31,464]\u001b[0m Trial 475 finished with value: 260015.46153846153 and parameters: {'reg_alpha': 0.2353947133639553, 'reg_lambda': 1.5432419238245054, 'colsample_bytree': 0.20104217868846985, 'subsample': 0.8526733149129242, 'learning_rate': 0.03342938437866818, 'max_depth': 8}. Best is trial 57 with value: 117769.19230769231.\u001b[0m\n",
      "\u001b[32m[I 2022-06-18 13:41:31,547]\u001b[0m Trial 476 finished with value: 129099.5 and parameters: {'reg_alpha': 0.2826704058405082, 'reg_lambda': 2.4238016543413616, 'colsample_bytree': 0.9611745034932886, 'subsample': 0.5713414387108989, 'learning_rate': 0.029522731755111303, 'max_depth': 8}. Best is trial 57 with value: 117769.19230769231.\u001b[0m\n",
      "\u001b[32m[I 2022-06-18 13:41:31,620]\u001b[0m Trial 477 finished with value: 129315.96153846153 and parameters: {'reg_alpha': 0.14658727014490258, 'reg_lambda': 0.792066494154948, 'colsample_bytree': 0.9870575798966247, 'subsample': 0.7221952681496199, 'learning_rate': 0.03825272349349536, 'max_depth': 9}. Best is trial 57 with value: 117769.19230769231.\u001b[0m\n",
      "\u001b[32m[I 2022-06-18 13:41:31,690]\u001b[0m Trial 478 finished with value: 129286.42307692308 and parameters: {'reg_alpha': 0.39154004538809867, 'reg_lambda': 1.8061880652535862, 'colsample_bytree': 0.9739011664608102, 'subsample': 0.5848526119151584, 'learning_rate': 0.04885736166131853, 'max_depth': 8}. Best is trial 57 with value: 117769.19230769231.\u001b[0m\n",
      "\u001b[32m[I 2022-06-18 13:41:31,761]\u001b[0m Trial 479 finished with value: 123089.69230769231 and parameters: {'reg_alpha': 1.5415590429701345, 'reg_lambda': 6.197264213865783, 'colsample_bytree': 0.9867715090987973, 'subsample': 0.4923109351101509, 'learning_rate': 0.050845485080956335, 'max_depth': 8}. Best is trial 57 with value: 117769.19230769231.\u001b[0m\n"
     ]
    },
    {
     "name": "stderr",
     "output_type": "stream",
     "text": [
      "\u001b[32m[I 2022-06-18 13:41:31,821]\u001b[0m Trial 480 finished with value: 135331.3076923077 and parameters: {'reg_alpha': 1.8055524207925608, 'reg_lambda': 7.527499554547638, 'colsample_bytree': 0.9460630215799365, 'subsample': 0.49408219552934385, 'learning_rate': 0.051740947755037514, 'max_depth': 8}. Best is trial 57 with value: 117769.19230769231.\u001b[0m\n",
      "\u001b[32m[I 2022-06-18 13:41:31,889]\u001b[0m Trial 481 finished with value: 131757.15384615384 and parameters: {'reg_alpha': 1.662058487310683, 'reg_lambda': 5.782238221334624, 'colsample_bytree': 0.963590269719684, 'subsample': 0.5097212909381094, 'learning_rate': 0.053984535261802025, 'max_depth': 8}. Best is trial 57 with value: 117769.19230769231.\u001b[0m\n",
      "\u001b[32m[I 2022-06-18 13:41:31,944]\u001b[0m Trial 482 finished with value: 187163.07692307694 and parameters: {'reg_alpha': 0.0030682269474886824, 'reg_lambda': 7.994758847553505, 'colsample_bytree': 0.39237462278768676, 'subsample': 0.48294039347624396, 'learning_rate': 0.04988112873080363, 'max_depth': 8}. Best is trial 57 with value: 117769.19230769231.\u001b[0m\n",
      "\u001b[32m[I 2022-06-18 13:41:32,024]\u001b[0m Trial 483 finished with value: 131276.96153846153 and parameters: {'reg_alpha': 2.448318852471882, 'reg_lambda': 4.156688146511853, 'colsample_bytree': 0.9748899029044777, 'subsample': 0.5467434481733658, 'learning_rate': 0.0532679576140401, 'max_depth': 8}. Best is trial 57 with value: 117769.19230769231.\u001b[0m\n",
      "\u001b[32m[I 2022-06-18 13:41:32,086]\u001b[0m Trial 484 finished with value: 129951.73076923077 and parameters: {'reg_alpha': 1.5995370978726142, 'reg_lambda': 3.3168058034659524, 'colsample_bytree': 0.9551197066894267, 'subsample': 0.5464516269103405, 'learning_rate': 0.049941073895189265, 'max_depth': 9}. Best is trial 57 with value: 117769.19230769231.\u001b[0m\n",
      "\u001b[32m[I 2022-06-18 13:41:32,159]\u001b[0m Trial 485 finished with value: 125867.11538461539 and parameters: {'reg_alpha': 1.4151636574728907, 'reg_lambda': 4.99614519592265, 'colsample_bytree': 0.9992938063455136, 'subsample': 0.5353068645131895, 'learning_rate': 0.04719735503809826, 'max_depth': 8}. Best is trial 57 with value: 117769.19230769231.\u001b[0m\n",
      "\u001b[32m[I 2022-06-18 13:41:32,232]\u001b[0m Trial 486 finished with value: 124678.80769230769 and parameters: {'reg_alpha': 1.1542283348742113, 'reg_lambda': 6.090000913491456, 'colsample_bytree': 0.9866145716157781, 'subsample': 0.5199129623177196, 'learning_rate': 0.052171178795121224, 'max_depth': 8}. Best is trial 57 with value: 117769.19230769231.\u001b[0m\n",
      "\u001b[32m[I 2022-06-18 13:41:32,298]\u001b[0m Trial 487 finished with value: 126968.23076923077 and parameters: {'reg_alpha': 0.9603359267048724, 'reg_lambda': 2.5277398391618293, 'colsample_bytree': 0.9359127486202167, 'subsample': 0.46319218761392444, 'learning_rate': 0.05595059775990739, 'max_depth': 11}. Best is trial 57 with value: 117769.19230769231.\u001b[0m\n",
      "\u001b[32m[I 2022-06-18 13:41:32,357]\u001b[0m Trial 488 finished with value: 128308.07692307692 and parameters: {'reg_alpha': 0.19715752610822268, 'reg_lambda': 2.0960952149357066, 'colsample_bytree': 0.9722484220095167, 'subsample': 0.5680321707331106, 'learning_rate': 0.04632279032431409, 'max_depth': 8}. Best is trial 57 with value: 117769.19230769231.\u001b[0m\n",
      "\u001b[32m[I 2022-06-18 13:41:32,426]\u001b[0m Trial 489 finished with value: 118434.92307692308 and parameters: {'reg_alpha': 2.1793620947493983, 'reg_lambda': 2.634795559949569, 'colsample_bytree': 0.9879578433860295, 'subsample': 0.5279650398124458, 'learning_rate': 0.05075655108050671, 'max_depth': 9}. Best is trial 57 with value: 117769.19230769231.\u001b[0m\n",
      "\u001b[32m[I 2022-06-18 13:41:32,502]\u001b[0m Trial 490 finished with value: 140200.42307692306 and parameters: {'reg_alpha': 1.9056002149070215, 'reg_lambda': 9.9452559690533, 'colsample_bytree': 0.9562154032575707, 'subsample': 0.4964069642958656, 'learning_rate': 0.05125749812033683, 'max_depth': 9}. Best is trial 57 with value: 117769.19230769231.\u001b[0m\n",
      "\u001b[32m[I 2022-06-18 13:41:32,573]\u001b[0m Trial 491 finished with value: 125188.23076923077 and parameters: {'reg_alpha': 1.3606093881919006, 'reg_lambda': 4.432499957461787, 'colsample_bytree': 0.9702182598497788, 'subsample': 0.532902625667901, 'learning_rate': 0.08741977546542438, 'max_depth': 9}. Best is trial 57 with value: 117769.19230769231.\u001b[0m\n",
      "\u001b[32m[I 2022-06-18 13:41:32,642]\u001b[0m Trial 492 finished with value: 138783.88461538462 and parameters: {'reg_alpha': 2.047601528684256, 'reg_lambda': 3.047342381057992, 'colsample_bytree': 0.8843165639611661, 'subsample': 0.5106955905405608, 'learning_rate': 0.05060235598597841, 'max_depth': 9}. Best is trial 57 with value: 117769.19230769231.\u001b[0m\n",
      "\u001b[32m[I 2022-06-18 13:41:32,692]\u001b[0m Trial 493 finished with value: 155158.61538461538 and parameters: {'reg_alpha': 4.222982207301898, 'reg_lambda': 3.586682830714164, 'colsample_bytree': 0.6954943317344855, 'subsample': 0.5547600006047956, 'learning_rate': 0.04862499928743739, 'max_depth': 9}. Best is trial 57 with value: 117769.19230769231.\u001b[0m\n",
      "\u001b[32m[I 2022-06-18 13:41:32,758]\u001b[0m Trial 494 finished with value: 124259.65384615384 and parameters: {'reg_alpha': 2.2718068836335967, 'reg_lambda': 2.770447857493238, 'colsample_bytree': 0.9843074619623896, 'subsample': 0.5253030676277769, 'learning_rate': 0.05304212180199451, 'max_depth': 9}. Best is trial 57 with value: 117769.19230769231.\u001b[0m\n",
      "\u001b[32m[I 2022-06-18 13:41:32,838]\u001b[0m Trial 495 finished with value: 130758.76923076923 and parameters: {'reg_alpha': 0.08521246827363416, 'reg_lambda': 6.176555517176691, 'colsample_bytree': 0.9466757938635535, 'subsample': 0.4731312781846661, 'learning_rate': 0.047824290349503876, 'max_depth': 9}. Best is trial 57 with value: 117769.19230769231.\u001b[0m\n",
      "\u001b[32m[I 2022-06-18 13:41:32,913]\u001b[0m Trial 496 finished with value: 128116.46153846153 and parameters: {'reg_alpha': 0.06592513280635479, 'reg_lambda': 2.442643578452682, 'colsample_bytree': 0.9749343862923707, 'subsample': 0.5332703886502512, 'learning_rate': 0.04539341968733274, 'max_depth': 10}. Best is trial 57 with value: 117769.19230769231.\u001b[0m\n",
      "\u001b[32m[I 2022-06-18 13:41:33,008]\u001b[0m Trial 497 finished with value: 127526.96153846153 and parameters: {'reg_alpha': 0.08570869065890188, 'reg_lambda': 0.005616341017720827, 'colsample_bytree': 0.9612556701158854, 'subsample': 0.6118900999527647, 'learning_rate': 0.04970666975562547, 'max_depth': 9}. Best is trial 57 with value: 117769.19230769231.\u001b[0m\n",
      "\u001b[32m[I 2022-06-18 13:41:33,073]\u001b[0m Trial 498 finished with value: 127247.69230769231 and parameters: {'reg_alpha': 0.12579786228914502, 'reg_lambda': 3.1773666511635823, 'colsample_bytree': 0.986723968752789, 'subsample': 0.5467880735271167, 'learning_rate': 0.05107332904737018, 'max_depth': 9}. Best is trial 57 with value: 117769.19230769231.\u001b[0m\n",
      "\u001b[32m[I 2022-06-18 13:41:33,123]\u001b[0m Trial 499 finished with value: 140997.73076923078 and parameters: {'reg_alpha': 0.1120080473475788, 'reg_lambda': 2.224756029294058, 'colsample_bytree': 0.766415896096677, 'subsample': 0.5784230061984218, 'learning_rate': 0.05733368237299954, 'max_depth': 9}. Best is trial 57 with value: 117769.19230769231.\u001b[0m\n"
     ]
    },
    {
     "name": "stdout",
     "output_type": "stream",
     "text": [
      "Number of finished trials: 500\n",
      "Best trial:\n",
      "  Value: 117769.19230769231\n",
      "  Params: \n",
      "    reg_alpha: 1.0563834580938822\n",
      "    reg_lambda: 2.352227690276138\n",
      "    colsample_bytree: 0.996160273120882\n",
      "    subsample: 0.3386895225277215\n",
      "    learning_rate: 0.056636483307196346\n",
      "    max_depth: 5\n"
     ]
    }
   ],
   "source": [
    "if __name__ == \"__main__\":\n",
    "    study = optuna.create_study(direction=\"minimize\")\n",
    "    study.optimize(objective, n_trials=500)\n",
    "\n",
    "    print(\"Number of finished trials: {}\".format(len(study.trials)))\n",
    "\n",
    "    print(\"Best trial:\")\n",
    "    trial = study.best_trial\n",
    "\n",
    "    print(\"  Value: {}\".format(trial.value))\n",
    "\n",
    "    print(\"  Params: \")\n",
    "    for key, value in trial.params.items():\n",
    "        print(\"    {}: {}\".format(key, value))"
   ]
  },
  {
   "cell_type": "markdown",
   "id": "dfe8301b",
   "metadata": {},
   "source": [
    "_Получили лучший результат при соответствующих параметрах, теперь вернёмся к нашему начальному датасету, продолжим его на неделю вперед и нагенерим признаки, которые мы использовали_"
   ]
  },
  {
   "cell_type": "markdown",
   "id": "a57b5bcf",
   "metadata": {},
   "source": [
    "_MSE = 107310.11538461539 _"
   ]
  },
  {
   "cell_type": "markdown",
   "id": "8d61230e",
   "metadata": {},
   "source": [
    "Number of finished trials: 500  \n",
    "Best trial:  \n",
    "  Value: 107310.11538461539  \n",
    "  Params:   \n",
    "    reg_alpha: 0.8487036100240429  \n",
    "    reg_lambda: 0.6309145076674122  \n",
    "    colsample_bytree: 0.3317902379937611  \n",
    "    subsample: 0.6097366557995246  \n",
    "    learning_rate: 0.09994610702559614  \n",
    "    max_depth: 6    "
   ]
  },
  {
   "cell_type": "code",
   "execution_count": 50,
   "id": "44048405",
   "metadata": {},
   "outputs": [],
   "source": [
    "d = {'time': pd.date_range(start='2022-06-15', periods=7, freq='D')}\n",
    "df_next_week = pd.DataFrame(data = d, index=[np.arange(start=825, stop=832)])\n",
    "df_next_week['production'] = 0"
   ]
  },
  {
   "cell_type": "code",
   "execution_count": 51,
   "id": "e1e86972",
   "metadata": {},
   "outputs": [],
   "source": [
    "df_for_predictions = df_new.append(df_next_week).reset_index()"
   ]
  },
  {
   "cell_type": "code",
   "execution_count": 52,
   "id": "d0247f63",
   "metadata": {},
   "outputs": [],
   "source": [
    "for i in range(7, 31):\n",
    "    df_for_predictions[\"lag_{}\".format(i)] = df_for_predictions['production'].shift(i)"
   ]
  },
  {
   "cell_type": "code",
   "execution_count": 53,
   "id": "b8b34148",
   "metadata": {},
   "outputs": [],
   "source": [
    "df_for_predictions['weekday'] = df_for_predictions['time'].dt.dayofweek"
   ]
  },
  {
   "cell_type": "code",
   "execution_count": 54,
   "id": "b5332e6b",
   "metadata": {},
   "outputs": [],
   "source": [
    "# df_for_predictions['holiday'] = 0"
   ]
  },
  {
   "cell_type": "code",
   "execution_count": 55,
   "id": "ffc95754",
   "metadata": {},
   "outputs": [],
   "source": [
    "# for i in df_for_predictions.index:\n",
    "#     ymd = df_for_predictions['time'][i].strftime('%Y%m%d')\n",
    "#     api_respone = requests.get(f\"https://isdayoff.ru/{ymd}\")\n",
    "#     if api_respone.text == '0':\n",
    "#         df_for_predictions['holiday'][i] = 0\n",
    "#     else:\n",
    "#         df_for_predictions['holiday'][i] = 1\n",
    "        "
   ]
  },
  {
   "cell_type": "code",
   "execution_count": 56,
   "id": "285aa3fd",
   "metadata": {},
   "outputs": [],
   "source": [
    "# df_for_predictions.holiday.to_pickle('holiday_full.pkl')"
   ]
  },
  {
   "cell_type": "code",
   "execution_count": 57,
   "id": "47996234",
   "metadata": {},
   "outputs": [],
   "source": [
    "df_for_predictions['holiday']= pd.read_pickle('holiday_full.pkl')"
   ]
  },
  {
   "cell_type": "code",
   "execution_count": 58,
   "id": "e7bc7df1",
   "metadata": {},
   "outputs": [],
   "source": [
    "df_for_predictions['max_28'] = df_for_predictions['production'].rolling(28).max()\n",
    "df_for_predictions['mean_28'] = df_for_predictions['production'].rolling(28).mean()\n",
    "df_for_predictions['median_28'] = df_for_predictions['production'].rolling(28).median()\n",
    "df_for_predictions['std_28'] = df_for_predictions['production'].rolling(28).std()"
   ]
  },
  {
   "cell_type": "code",
   "execution_count": 59,
   "id": "e33b84bb",
   "metadata": {},
   "outputs": [],
   "source": [
    "X_final = df_for_predictions.dropna().drop(columns=['time', 'production', 'index']).reset_index(drop=True)\n",
    "y_final = df_for_predictions.dropna().production.reset_index(drop=True)"
   ]
  },
  {
   "cell_type": "code",
   "execution_count": 60,
   "id": "3726d944",
   "metadata": {},
   "outputs": [
    {
     "data": {
      "text/plain": [
       "0      2684\n",
       "1      2735\n",
       "2      2942\n",
       "3      3085\n",
       "4      3093\n",
       "       ... \n",
       "130       0\n",
       "131       0\n",
       "132       0\n",
       "133       0\n",
       "134       0\n",
       "Name: production, Length: 135, dtype: int64"
      ]
     },
     "execution_count": 60,
     "metadata": {},
     "output_type": "execute_result"
    }
   ],
   "source": [
    "y_final"
   ]
  },
  {
   "cell_type": "code",
   "execution_count": 61,
   "id": "8abbdc54",
   "metadata": {},
   "outputs": [],
   "source": [
    "X_train_final, y_train_final, X_test_final = X_final[:128], y_final[:128], X_final[128:]"
   ]
  },
  {
   "cell_type": "code",
   "execution_count": 62,
   "id": "59ff3b0d",
   "metadata": {},
   "outputs": [],
   "source": [
    "LGBM_tuned = LGBMRegressor(random_state=19,\n",
    "                          reg_alpha=0.8487036100240429,\n",
    "                          reg_lambda=0.6309145076674122,\n",
    "                          colsample_bytree=0.3317902379937611,\n",
    "                          subsample=0.6097366557995246,\n",
    "                          learning_rate=0.09994610702559614,\n",
    "                          max_depth=6)"
   ]
  },
  {
   "cell_type": "code",
   "execution_count": 63,
   "id": "7bec5dff",
   "metadata": {},
   "outputs": [
    {
     "data": {
      "text/html": [
       "<style>#sk-container-id-6 {color: black;background-color: white;}#sk-container-id-6 pre{padding: 0;}#sk-container-id-6 div.sk-toggleable {background-color: white;}#sk-container-id-6 label.sk-toggleable__label {cursor: pointer;display: block;width: 100%;margin-bottom: 0;padding: 0.3em;box-sizing: border-box;text-align: center;}#sk-container-id-6 label.sk-toggleable__label-arrow:before {content: \"▸\";float: left;margin-right: 0.25em;color: #696969;}#sk-container-id-6 label.sk-toggleable__label-arrow:hover:before {color: black;}#sk-container-id-6 div.sk-estimator:hover label.sk-toggleable__label-arrow:before {color: black;}#sk-container-id-6 div.sk-toggleable__content {max-height: 0;max-width: 0;overflow: hidden;text-align: left;background-color: #f0f8ff;}#sk-container-id-6 div.sk-toggleable__content pre {margin: 0.2em;color: black;border-radius: 0.25em;background-color: #f0f8ff;}#sk-container-id-6 input.sk-toggleable__control:checked~div.sk-toggleable__content {max-height: 200px;max-width: 100%;overflow: auto;}#sk-container-id-6 input.sk-toggleable__control:checked~label.sk-toggleable__label-arrow:before {content: \"▾\";}#sk-container-id-6 div.sk-estimator input.sk-toggleable__control:checked~label.sk-toggleable__label {background-color: #d4ebff;}#sk-container-id-6 div.sk-label input.sk-toggleable__control:checked~label.sk-toggleable__label {background-color: #d4ebff;}#sk-container-id-6 input.sk-hidden--visually {border: 0;clip: rect(1px 1px 1px 1px);clip: rect(1px, 1px, 1px, 1px);height: 1px;margin: -1px;overflow: hidden;padding: 0;position: absolute;width: 1px;}#sk-container-id-6 div.sk-estimator {font-family: monospace;background-color: #f0f8ff;border: 1px dotted black;border-radius: 0.25em;box-sizing: border-box;margin-bottom: 0.5em;}#sk-container-id-6 div.sk-estimator:hover {background-color: #d4ebff;}#sk-container-id-6 div.sk-parallel-item::after {content: \"\";width: 100%;border-bottom: 1px solid gray;flex-grow: 1;}#sk-container-id-6 div.sk-label:hover label.sk-toggleable__label {background-color: #d4ebff;}#sk-container-id-6 div.sk-serial::before {content: \"\";position: absolute;border-left: 1px solid gray;box-sizing: border-box;top: 0;bottom: 0;left: 50%;z-index: 0;}#sk-container-id-6 div.sk-serial {display: flex;flex-direction: column;align-items: center;background-color: white;padding-right: 0.2em;padding-left: 0.2em;position: relative;}#sk-container-id-6 div.sk-item {position: relative;z-index: 1;}#sk-container-id-6 div.sk-parallel {display: flex;align-items: stretch;justify-content: center;background-color: white;position: relative;}#sk-container-id-6 div.sk-item::before, #sk-container-id-6 div.sk-parallel-item::before {content: \"\";position: absolute;border-left: 1px solid gray;box-sizing: border-box;top: 0;bottom: 0;left: 50%;z-index: -1;}#sk-container-id-6 div.sk-parallel-item {display: flex;flex-direction: column;z-index: 1;position: relative;background-color: white;}#sk-container-id-6 div.sk-parallel-item:first-child::after {align-self: flex-end;width: 50%;}#sk-container-id-6 div.sk-parallel-item:last-child::after {align-self: flex-start;width: 50%;}#sk-container-id-6 div.sk-parallel-item:only-child::after {width: 0;}#sk-container-id-6 div.sk-dashed-wrapped {border: 1px dashed gray;margin: 0 0.4em 0.5em 0.4em;box-sizing: border-box;padding-bottom: 0.4em;background-color: white;}#sk-container-id-6 div.sk-label label {font-family: monospace;font-weight: bold;display: inline-block;line-height: 1.2em;}#sk-container-id-6 div.sk-label-container {text-align: center;}#sk-container-id-6 div.sk-container {/* jupyter's `normalize.less` sets `[hidden] { display: none; }` but bootstrap.min.css set `[hidden] { display: none !important; }` so we also need the `!important` here to be able to override the default hidden behavior on the sphinx rendered scikit-learn.org. See: https://github.com/scikit-learn/scikit-learn/issues/21755 */display: inline-block !important;position: relative;}#sk-container-id-6 div.sk-text-repr-fallback {display: none;}</style><div id=\"sk-container-id-6\" class=\"sk-top-container\"><div class=\"sk-text-repr-fallback\"><pre>LGBMRegressor(colsample_bytree=0.3317902379937611,\n",
       "              learning_rate=0.09994610702559614, max_depth=6, random_state=19,\n",
       "              reg_alpha=0.8487036100240429, reg_lambda=0.6309145076674122,\n",
       "              subsample=0.6097366557995246)</pre><b>In a Jupyter environment, please rerun this cell to show the HTML representation or trust the notebook. <br />On GitHub, the HTML representation is unable to render, please try loading this page with nbviewer.org.</b></div><div class=\"sk-container\" hidden><div class=\"sk-item\"><div class=\"sk-estimator sk-toggleable\"><input class=\"sk-toggleable__control sk-hidden--visually\" id=\"sk-estimator-id-6\" type=\"checkbox\" checked><label for=\"sk-estimator-id-6\" class=\"sk-toggleable__label sk-toggleable__label-arrow\">LGBMRegressor</label><div class=\"sk-toggleable__content\"><pre>LGBMRegressor(colsample_bytree=0.3317902379937611,\n",
       "              learning_rate=0.09994610702559614, max_depth=6, random_state=19,\n",
       "              reg_alpha=0.8487036100240429, reg_lambda=0.6309145076674122,\n",
       "              subsample=0.6097366557995246)</pre></div></div></div></div></div>"
      ],
      "text/plain": [
       "LGBMRegressor(colsample_bytree=0.3317902379937611,\n",
       "              learning_rate=0.09994610702559614, max_depth=6, random_state=19,\n",
       "              reg_alpha=0.8487036100240429, reg_lambda=0.6309145076674122,\n",
       "              subsample=0.6097366557995246)"
      ]
     },
     "execution_count": 63,
     "metadata": {},
     "output_type": "execute_result"
    }
   ],
   "source": [
    "LGBM_tuned.fit(X_train_final, y_train_final)"
   ]
  },
  {
   "cell_type": "code",
   "execution_count": 64,
   "id": "af5802d4",
   "metadata": {},
   "outputs": [],
   "source": [
    "prod_next_week = LGBM.predict(X_test_final)"
   ]
  },
  {
   "cell_type": "code",
   "execution_count": 65,
   "id": "34c6854c",
   "metadata": {},
   "outputs": [],
   "source": [
    "df_next_week['production'] = prod_next_week"
   ]
  },
  {
   "cell_type": "markdown",
   "id": "ecd4e36c",
   "metadata": {},
   "source": [
    "__Сегодня производительность ожидается следующая__"
   ]
  },
  {
   "cell_type": "code",
   "execution_count": 66,
   "id": "b1ec50bb",
   "metadata": {},
   "outputs": [
    {
     "data": {
      "text/html": [
       "<div>\n",
       "<style scoped>\n",
       "    .dataframe tbody tr th:only-of-type {\n",
       "        vertical-align: middle;\n",
       "    }\n",
       "\n",
       "    .dataframe tbody tr th {\n",
       "        vertical-align: top;\n",
       "    }\n",
       "\n",
       "    .dataframe thead th {\n",
       "        text-align: right;\n",
       "    }\n",
       "</style>\n",
       "<table border=\"1\" class=\"dataframe\">\n",
       "  <thead>\n",
       "    <tr style=\"text-align: right;\">\n",
       "      <th></th>\n",
       "      <th>time</th>\n",
       "      <th>production</th>\n",
       "    </tr>\n",
       "  </thead>\n",
       "  <tbody>\n",
       "    <tr>\n",
       "      <th>828</th>\n",
       "      <td>2022-06-18</td>\n",
       "      <td>274.691468</td>\n",
       "    </tr>\n",
       "  </tbody>\n",
       "</table>\n",
       "</div>"
      ],
      "text/plain": [
       "          time  production\n",
       "828 2022-06-18  274.691468"
      ]
     },
     "execution_count": 66,
     "metadata": {},
     "output_type": "execute_result"
    }
   ],
   "source": [
    "df_next_week[df_next_week['time'] == date.today().strftime(\"%Y-%m-%d\")]"
   ]
  }
 ],
 "metadata": {
  "kernelspec": {
   "display_name": "Python 3 (ipykernel)",
   "language": "python",
   "name": "python3"
  },
  "language_info": {
   "codemirror_mode": {
    "name": "ipython",
    "version": 3
   },
   "file_extension": ".py",
   "mimetype": "text/x-python",
   "name": "python",
   "nbconvert_exporter": "python",
   "pygments_lexer": "ipython3",
   "version": "3.8.10"
  }
 },
 "nbformat": 4,
 "nbformat_minor": 5
}
